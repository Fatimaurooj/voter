{
 "cells": [
  {
   "cell_type": "code",
   "execution_count": 1,
   "id": "86be7019",
   "metadata": {},
   "outputs": [],
   "source": [
    "a = 50\n",
    "b = 40"
   ]
  },
  {
   "cell_type": "code",
   "execution_count": 2,
   "id": "a2332ad2",
   "metadata": {},
   "outputs": [
    {
     "data": {
      "text/plain": [
       "True"
      ]
     },
     "execution_count": 2,
     "metadata": {},
     "output_type": "execute_result"
    }
   ],
   "source": [
    "b < a"
   ]
  },
  {
   "cell_type": "code",
   "execution_count": 3,
   "id": "2fac9b51",
   "metadata": {},
   "outputs": [
    {
     "data": {
      "text/plain": [
       "False"
      ]
     },
     "execution_count": 3,
     "metadata": {},
     "output_type": "execute_result"
    }
   ],
   "source": [
    "b > a"
   ]
  },
  {
   "cell_type": "code",
   "execution_count": 4,
   "id": "ea71efc4",
   "metadata": {},
   "outputs": [
    {
     "data": {
      "text/plain": [
       "False"
      ]
     },
     "execution_count": 4,
     "metadata": {},
     "output_type": "execute_result"
    }
   ],
   "source": [
    "#equal/comparison\n",
    "a = 45\n",
    "b = 46\n",
    "a == b"
   ]
  },
  {
   "cell_type": "code",
   "execution_count": 6,
   "id": "0e3432b0",
   "metadata": {},
   "outputs": [
    {
     "data": {
      "text/plain": [
       "True"
      ]
     },
     "execution_count": 6,
     "metadata": {},
     "output_type": "execute_result"
    }
   ],
   "source": [
    "#not equal\n",
    "a = 45\n",
    "b = 46\n",
    "a != b"
   ]
  },
  {
   "cell_type": "code",
   "execution_count": 8,
   "id": "f387410d",
   "metadata": {},
   "outputs": [
    {
     "data": {
      "text/plain": [
       "True"
      ]
     },
     "execution_count": 8,
     "metadata": {},
     "output_type": "execute_result"
    }
   ],
   "source": [
    "#less than equal too\n",
    "a = 45\n",
    "b = 46\n",
    "a <= b"
   ]
  },
  {
   "cell_type": "code",
   "execution_count": 9,
   "id": "c5e18b0e",
   "metadata": {},
   "outputs": [
    {
     "data": {
      "text/plain": [
       "True"
      ]
     },
     "execution_count": 9,
     "metadata": {},
     "output_type": "execute_result"
    }
   ],
   "source": [
    "#greater than equal too\n",
    "a = 50\n",
    "b = 45 \n",
    "a >= b"
   ]
  },
  {
   "cell_type": "code",
   "execution_count": 10,
   "id": "5944f217",
   "metadata": {},
   "outputs": [
    {
     "data": {
      "text/plain": [
       "True"
      ]
     },
     "execution_count": 10,
     "metadata": {},
     "output_type": "execute_result"
    }
   ],
   "source": [
    "60<71"
   ]
  },
  {
   "cell_type": "code",
   "execution_count": 11,
   "id": "79026ec0",
   "metadata": {},
   "outputs": [
    {
     "data": {
      "text/plain": [
       "True"
      ]
     },
     "execution_count": 11,
     "metadata": {},
     "output_type": "execute_result"
    }
   ],
   "source": [
    "70>71"
   ]
  },
  {
   "cell_type": "code",
   "execution_count": 13,
   "id": "1b139a84",
   "metadata": {},
   "outputs": [
    {
     "data": {
      "text/plain": [
       "False"
      ]
     },
     "execution_count": 13,
     "metadata": {},
     "output_type": "execute_result"
    }
   ],
   "source": [
    "60<71 and 70>71"
   ]
  },
  {
   "cell_type": "code",
   "execution_count": 14,
   "id": "b2d3fcb1",
   "metadata": {},
   "outputs": [
    {
     "data": {
      "text/plain": [
       "True"
      ]
     },
     "execution_count": 14,
     "metadata": {},
     "output_type": "execute_result"
    }
   ],
   "source": [
    "60<71 or 70>71"
   ]
  },
  {
   "cell_type": "code",
   "execution_count": 15,
   "id": "2ab3a299",
   "metadata": {},
   "outputs": [
    {
     "ename": "SyntaxError",
     "evalue": "invalid syntax (<ipython-input-15-1705839bf9c6>, line 1)",
     "output_type": "error",
     "traceback": [
      "\u001b[1;36m  File \u001b[1;32m\"<ipython-input-15-1705839bf9c6>\"\u001b[1;36m, line \u001b[1;32m1\u001b[0m\n\u001b[1;33m    60<71 not 70>71\u001b[0m\n\u001b[1;37m              ^\u001b[0m\n\u001b[1;31mSyntaxError\u001b[0m\u001b[1;31m:\u001b[0m invalid syntax\n"
     ]
    }
   ],
   "source": [
    "60<71 not 70>71"
   ]
  },
  {
   "cell_type": "code",
   "execution_count": 16,
   "id": "6748bf86",
   "metadata": {},
   "outputs": [
    {
     "data": {
      "text/plain": [
       "False"
      ]
     },
     "execution_count": 16,
     "metadata": {},
     "output_type": "execute_result"
    }
   ],
   "source": [
    "68 > 70"
   ]
  },
  {
   "cell_type": "code",
   "execution_count": 18,
   "id": "67a45877",
   "metadata": {},
   "outputs": [
    {
     "data": {
      "text/plain": [
       "True"
      ]
     },
     "execution_count": 18,
     "metadata": {},
     "output_type": "execute_result"
    }
   ],
   "source": [
    "56 > 54"
   ]
  },
  {
   "cell_type": "code",
   "execution_count": 19,
   "id": "9e6e106d",
   "metadata": {},
   "outputs": [
    {
     "data": {
      "text/plain": [
       "False"
      ]
     },
     "execution_count": 19,
     "metadata": {},
     "output_type": "execute_result"
    }
   ],
   "source": [
    "68 > 70 and 56 > 54"
   ]
  },
  {
   "cell_type": "code",
   "execution_count": 20,
   "id": "9e630475",
   "metadata": {},
   "outputs": [
    {
     "data": {
      "text/plain": [
       "True"
      ]
     },
     "execution_count": 20,
     "metadata": {},
     "output_type": "execute_result"
    }
   ],
   "source": [
    "68 > 70 or 56 > 54"
   ]
  },
  {
   "cell_type": "code",
   "execution_count": 21,
   "id": "67040d79",
   "metadata": {},
   "outputs": [
    {
     "data": {
      "text/plain": [
       "False"
      ]
     },
     "execution_count": 21,
     "metadata": {},
     "output_type": "execute_result"
    }
   ],
   "source": [
    "#equal too\n",
    "a = 10\n",
    "b = 20\n",
    "a == b"
   ]
  },
  {
   "cell_type": "code",
   "execution_count": 22,
   "id": "087e1ba1",
   "metadata": {},
   "outputs": [
    {
     "data": {
      "text/plain": [
       "True"
      ]
     },
     "execution_count": 22,
     "metadata": {},
     "output_type": "execute_result"
    }
   ],
   "source": [
    "#not equal too\n",
    "a = 46\n",
    "b = 80\n",
    "a != b"
   ]
  },
  {
   "cell_type": "code",
   "execution_count": 24,
   "id": "8f45ff7f",
   "metadata": {},
   "outputs": [
    {
     "data": {
      "text/plain": [
       "True"
      ]
     },
     "execution_count": 24,
     "metadata": {},
     "output_type": "execute_result"
    }
   ],
   "source": [
    "#greater then equal too\n",
    "a = 50\n",
    "b = 80\n",
    "a <= b"
   ]
  },
  {
   "cell_type": "code",
   "execution_count": 25,
   "id": "2e02c02b",
   "metadata": {},
   "outputs": [
    {
     "data": {
      "text/plain": [
       "False"
      ]
     },
     "execution_count": 25,
     "metadata": {},
     "output_type": "execute_result"
    }
   ],
   "source": [
    "#smaller then equal too\n",
    "a = 900\n",
    "b = 900.5\n",
    "a >= b"
   ]
  },
  {
   "cell_type": "code",
   "execution_count": 26,
   "id": "5f1eb14f",
   "metadata": {},
   "outputs": [
    {
     "data": {
      "text/plain": [
       "False"
      ]
     },
     "execution_count": 26,
     "metadata": {},
     "output_type": "execute_result"
    }
   ],
   "source": [
    "not 60<71"
   ]
  },
  {
   "cell_type": "code",
   "execution_count": 27,
   "id": "c5e051e9",
   "metadata": {},
   "outputs": [
    {
     "data": {
      "text/plain": [
       "False"
      ]
     },
     "execution_count": 27,
     "metadata": {},
     "output_type": "execute_result"
    }
   ],
   "source": [
    "not 71>60"
   ]
  },
  {
   "cell_type": "code",
   "execution_count": 28,
   "id": "e7935a6e",
   "metadata": {},
   "outputs": [
    {
     "data": {
      "text/plain": [
       "True"
      ]
     },
     "execution_count": 28,
     "metadata": {},
     "output_type": "execute_result"
    }
   ],
   "source": [
    "not 60>71"
   ]
  },
  {
   "cell_type": "code",
   "execution_count": 29,
   "id": "efcd6d7b",
   "metadata": {},
   "outputs": [
    {
     "data": {
      "text/plain": [
       "True"
      ]
     },
     "execution_count": 29,
     "metadata": {},
     "output_type": "execute_result"
    }
   ],
   "source": [
    "not 65>70"
   ]
  },
  {
   "cell_type": "code",
   "execution_count": 30,
   "id": "9db0f7d2",
   "metadata": {},
   "outputs": [
    {
     "ename": "SyntaxError",
     "evalue": "invalid syntax (<ipython-input-30-df8dc1363fd0>, line 1)",
     "output_type": "error",
     "traceback": [
      "\u001b[1;36m  File \u001b[1;32m\"<ipython-input-30-df8dc1363fd0>\"\u001b[1;36m, line \u001b[1;32m1\u001b[0m\n\u001b[1;33m    statement if else\u001b[0m\n\u001b[1;37m                 ^\u001b[0m\n\u001b[1;31mSyntaxError\u001b[0m\u001b[1;31m:\u001b[0m invalid syntax\n"
     ]
    }
   ],
   "source": [
    "statement if else"
   ]
  },
  {
   "cell_type": "code",
   "execution_count": 31,
   "id": "04ea130e",
   "metadata": {},
   "outputs": [
    {
     "name": "stdout",
     "output_type": "stream",
     "text": [
      "i have made a profit of  50 rupee\n",
      "i have made profit % of  50.0\n"
     ]
    }
   ],
   "source": [
    "cp = 100\n",
    "sp = 150\n",
    "profit = sp - cp \n",
    "pro_per = profit/cp*100\n",
    "\n",
    "print(\"i have made a profit of \",profit,\"rupee\")\n",
    "\n",
    "print (\"i have made profit % of \",pro_per)"
   ]
  },
  {
   "cell_type": "code",
   "execution_count": 32,
   "id": "f7bef859",
   "metadata": {},
   "outputs": [
    {
     "name": "stdout",
     "output_type": "stream",
     "text": [
      "i have made a loss of  50 rupee\n",
      "i have made loss % of  50.0\n"
     ]
    }
   ],
   "source": [
    "cp =100\n",
    "sp = 50\n",
    "loss = cp - sp\n",
    "ls_per =  loss/cp * 100\n",
    "\n",
    "print (\"i have made a loss of \",loss,\"rupee\")\n",
    "\n",
    "print (\"i have made loss % of \", ls_per)\n"
   ]
  },
  {
   "cell_type": "code",
   "execution_count": 36,
   "id": "d51b8874",
   "metadata": {},
   "outputs": [
    {
     "name": "stdout",
     "output_type": "stream",
     "text": [
      "i have made a profit of  50 rupee\n",
      "i have made profit % of  50.0\n",
      "i have made a loss of  -50 rupee\n",
      "i have made loss % of  -50.0\n"
     ]
    }
   ],
   "source": [
    "cp = 100\n",
    "sp = 150\n",
    "profit = sp - cp \n",
    "pro_per = profit/cp*100\n",
    "print(\"i have made a profit of \",profit,\"rupee\")\n",
    "print (\"i have made profit % of \",pro_per)\n",
    " \n",
    "\n",
    "loss = cp - sp\n",
    "ls_per =  loss/cp * 100\n",
    "print (\"i have made a loss of \",loss,\"rupee\")\n",
    "print (\"i have made loss % of \", ls_per)"
   ]
  },
  {
   "cell_type": "code",
   "execution_count": 37,
   "id": "fea5d0cc",
   "metadata": {},
   "outputs": [
    {
     "ename": "SyntaxError",
     "evalue": "invalid syntax (<ipython-input-37-c01381ed2256>, line 4)",
     "output_type": "error",
     "traceback": [
      "\u001b[1;36m  File \u001b[1;32m\"<ipython-input-37-c01381ed2256>\"\u001b[1;36m, line \u001b[1;32m4\u001b[0m\n\u001b[1;33m    statement 1\u001b[0m\n\u001b[1;37m              ^\u001b[0m\n\u001b[1;31mSyntaxError\u001b[0m\u001b[1;31m:\u001b[0m invalid syntax\n"
     ]
    }
   ],
   "source": [
    "if condition1:\n",
    "    statement\n",
    "else:\n",
    "    statement 1"
   ]
  },
  {
   "cell_type": "code",
   "execution_count": 39,
   "id": "54a14447",
   "metadata": {},
   "outputs": [
    {
     "name": "stdout",
     "output_type": "stream",
     "text": [
      "i have made a profit of  50 rupee\n",
      "i have made profit % of  50.0\n"
     ]
    }
   ],
   "source": [
    "cp = 100\n",
    "sp = 150\n",
    "if sp>cp:\n",
    "   profit = sp - cp  \n",
    "   pro_per = profit/cp*100\n",
    "   print(\"i have made a profit of \",profit,\"rupee\")\n",
    "   print (\"i have made profit % of \",pro_per)\n",
    "else:\n",
    "    loss = cp - sp\n",
    "    ls_per =  loss/cp * 100\n",
    "    print (\"i have made a loss of \",loss,\"rupee\")\n",
    "    print (\"i have made loss % of \", ls_per)"
   ]
  },
  {
   "cell_type": "code",
   "execution_count": 40,
   "id": "e11b95fc",
   "metadata": {},
   "outputs": [
    {
     "name": "stdout",
     "output_type": "stream",
     "text": [
      "i have made a loss of  0 rupee\n",
      "i have made loss % of  0.0\n"
     ]
    }
   ],
   "source": [
    "cp = 50\n",
    "sp = 50\n",
    "if sp >cp:\n",
    "   profit = sp - cp  \n",
    "   pro_per = profit/cp*100\n",
    "   print(\"i have made a profit of \",profit,\"rupee\")\n",
    "   print (\"i have made profit % of \",pro_per)\n",
    "else:\n",
    "    loss = cp - sp\n",
    "    ls_per =  loss/cp * 100\n",
    "    print (\"i have made a loss of \",loss,\"rupee\")\n",
    "    print (\"i have made loss % of \", ls_per)\n",
    "    "
   ]
  },
  {
   "cell_type": "code",
   "execution_count": 43,
   "id": "d10113cf",
   "metadata": {},
   "outputs": [
    {
     "name": "stdout",
     "output_type": "stream",
     "text": [
      "i have made a loss of  100 rupee\n",
      "i have made loss % of  40.0\n"
     ]
    }
   ],
   "source": [
    "cp = 250\n",
    "sp = 150\n",
    "if sp >cp:\n",
    "   profit = sp - cp  \n",
    "   pro_per = profit/cp*100\n",
    "   print(\"i have made a profit of \",profit,\"rupee\")\n",
    "   print (\"i have made profit % of \",pro_per)\n",
    "elif cp ==sp:\n",
    "    print (\"no profit no loss\")\n",
    "else:\n",
    "    loss = cp - sp\n",
    "    ls_per =  loss/cp * 100\n",
    "    print (\"i have made a loss of \",loss,\"rupee\")\n",
    "    print (\"i have made loss % of \", ls_per)"
   ]
  },
  {
   "cell_type": "code",
   "execution_count": 44,
   "id": "7176dca9",
   "metadata": {},
   "outputs": [
    {
     "data": {
      "text/plain": [
       "False"
      ]
     },
     "execution_count": 44,
     "metadata": {},
     "output_type": "execute_result"
    }
   ],
   "source": [
    "50 > 50"
   ]
  },
  {
   "cell_type": "code",
   "execution_count": null,
   "id": "e6d0ab81",
   "metadata": {},
   "outputs": [],
   "source": [
    "#given one number find out if the number is even or odd\n",
    "#given one no find out if the number is positive or negative "
   ]
  },
  {
   "cell_type": "code",
   "execution_count": 60,
   "id": "b7fc2f50",
   "metadata": {},
   "outputs": [
    {
     "name": "stdout",
     "output_type": "stream",
     "text": [
      "number is odd\n"
     ]
    }
   ],
   "source": [
    "a = 10\n",
    "if a/2 ==0:\n",
    "    print (\"number is even\")\n",
    "else:\n",
    "    print (\"number is odd\")\n"
   ]
  },
  {
   "cell_type": "code",
   "execution_count": 52,
   "id": "63ddb557",
   "metadata": {},
   "outputs": [
    {
     "ename": "SyntaxError",
     "evalue": "invalid syntax (<ipython-input-52-572aed450edb>, line 3)",
     "output_type": "error",
     "traceback": [
      "\u001b[1;36m  File \u001b[1;32m\"<ipython-input-52-572aed450edb>\"\u001b[1;36m, line \u001b[1;32m3\u001b[0m\n\u001b[1;33m    if a-b=0:\u001b[0m\n\u001b[1;37m          ^\u001b[0m\n\u001b[1;31mSyntaxError\u001b[0m\u001b[1;31m:\u001b[0m invalid syntax\n"
     ]
    }
   ],
   "source": [
    "a = 20\n",
    "b = -20\n",
    "if a-b=0:\n",
    "    print(\"number is positve\")\n",
    "else:\n",
    "    print(\"number is negative\")"
   ]
  },
  {
   "cell_type": "code",
   "execution_count": 14,
   "id": "1bd04280",
   "metadata": {},
   "outputs": [
    {
     "name": "stdout",
     "output_type": "stream",
     "text": [
      "it is negative\n"
     ]
    }
   ],
   "source": [
    "n = -5\n",
    "if n>0:\n",
    "    print(\"it is positive\")\n",
    "else:\n",
    "    print(\"it is negative\")"
   ]
  },
  {
   "cell_type": "code",
   "execution_count": 58,
   "id": "a1a762a0",
   "metadata": {},
   "outputs": [
    {
     "name": "stdout",
     "output_type": "stream",
     "text": [
      "you are allowed to vote\n"
     ]
    }
   ],
   "source": [
    "age = 19\n",
    "voter_card = \"yes\"\n",
    "if age >=18 and voter_card==\"yes\":\n",
    "    print(\"you are allowed to vote\")\n",
    "else:\n",
    "    print(\"you are not allowed to vote\")"
   ]
  },
  {
   "cell_type": "code",
   "execution_count": 59,
   "id": "63bf3c9a",
   "metadata": {},
   "outputs": [],
   "source": [
    "#give grades to students \n",
    "# finding the income tax  and income after tax\n",
    "# given three numbers find out the greatest / smallest out of three"
   ]
  },
  {
   "cell_type": "code",
   "execution_count": 15,
   "id": "ba22356c",
   "metadata": {},
   "outputs": [],
   "source": [
    "cp = 300\n",
    "sp = 150\n",
    "if sp>cp:\n",
    "   profit = sp - cp  \n",
    "   pro_per = profit/cp*100\n",
    "   print(\"i have made a profit of \",profit,\"rupee\")\n",
    "   print (\"i have made profit % of \",pro_per)"
   ]
  },
  {
   "cell_type": "code",
   "execution_count": 16,
   "id": "4f6f189a",
   "metadata": {},
   "outputs": [
    {
     "name": "stdout",
     "output_type": "stream",
     "text": [
      "grade D\n"
     ]
    }
   ],
   "source": [
    "a = 70\n",
    "if a>80:\n",
    "    print (\"grade A\")\n",
    "else:\n",
    "    print (\"grade D\")"
   ]
  },
  {
   "cell_type": "code",
   "execution_count": 35,
   "id": "81a5a34b",
   "metadata": {},
   "outputs": [
    {
     "name": "stdout",
     "output_type": "stream",
     "text": [
      "income tax is 0 rupees\n",
      "your income after tax will be 100000\n"
     ]
    }
   ],
   "source": [
    "income = 100000\n",
    "if income <=500000:\n",
    "    tax = 0\n",
    "    print(\"income tax is\",tax,\"rupees\")\n",
    "    print(\"your income after tax will be\",income)\n",
    "elif income >500000 and income <= 700000:\n",
    "    tax = income*5/100\n",
    "    print(\"income tax is\",tax,\"rupees\")\n",
    "    print(\"your income after tax will be\",income-tax)\n",
    "elif income >700000 and income <= 1000000:\n",
    "    tax = income*10/100\n",
    "    print(\"income tax is\",tax,\"rupees\")\n",
    "    print(\"your income after tax will be\",income-tax)\n",
    "elif income >1000000 and income <= 1500000:\n",
    "    tax = income*15/100\n",
    "    print(\"income tax is\",tax,\"rupees\")\n",
    "    print(\"your income after tax will be\",income-tax)\n",
    "elif income >1500000 and income <= 2000000:\n",
    "    tax = income*20/100\n",
    "    print(\"income tax is\",tax,\"rupees\")\n",
    "    print(\"your income after tax will be\",income-tax)\n",
    "else:\n",
    "    tax = income*25/100\n",
    "    print(\"income tax is\",tax,\"rupees\")\n",
    "    print(\"your income after tax will be\",income-tax)"
   ]
  },
  {
   "cell_type": "code",
   "execution_count": 30,
   "id": "890d3ab6",
   "metadata": {},
   "outputs": [
    {
     "name": "stdout",
     "output_type": "stream",
     "text": [
      "the greatest number is 25\n"
     ]
    }
   ],
   "source": [
    "a = 15\n",
    "b = 25\n",
    "c = 5\n",
    "if a>b and a>c:\n",
    "    print(\"the gretest number is\",a)\n",
    "elif b>c and b>a:\n",
    "    print(\"the greatest number is\",b)\n",
    "else:\n",
    "    print(\"the greatest number is\",c)"
   ]
  },
  {
   "cell_type": "code",
   "execution_count": null,
   "id": "06d1c41a",
   "metadata": {},
   "outputs": [],
   "source": []
  },
  {
   "cell_type": "code",
   "execution_count": 24,
   "id": "49fc76a4",
   "metadata": {},
   "outputs": [
    {
     "data": {
      "text/plain": [
       "'C:\\\\Users\\\\UROOJ\\\\python folder'"
      ]
     },
     "execution_count": 24,
     "metadata": {},
     "output_type": "execute_result"
    }
   ],
   "source": [
    "pwd"
   ]
  },
  {
   "cell_type": "code",
   "execution_count": 29,
   "id": "bbda949e",
   "metadata": {},
   "outputs": [
    {
     "name": "stdout",
     "output_type": "stream",
     "text": [
      "3 is grtst\n"
     ]
    }
   ],
   "source": [
    "a = 3\n",
    "b = 2\n",
    "c = 1\n",
    "if a>b :\n",
    "    if a>c:\n",
    "        print (a,\"is grtst\")\n",
    "    else:\n",
    "        print(c,\"is grtst\")\n",
    "    \n",
    "else:\n",
    "    if b>c:\n",
    "        print(b,\"is grtst\")\n",
    "    else:\n",
    "        print(c,\"is grtst\")\n",
    "    "
   ]
  },
  {
   "cell_type": "code",
   "execution_count": 36,
   "id": "90fd1386",
   "metadata": {},
   "outputs": [
    {
     "name": "stdout",
     "output_type": "stream",
     "text": [
      "5 is the smallest number\n"
     ]
    }
   ],
   "source": [
    "#finding the smallest \n",
    "a = 5\n",
    "b = 15\n",
    "c = 45\n",
    "if a<b :\n",
    "    if a<c:\n",
    "        print (a,\"is the smallest number\")\n",
    "else:\n",
    "    if b>c:\n",
    "        print(b,\"is the smallest number\")\n",
    "    else :\n",
    "        print (c,\"is the smallest number\")"
   ]
  },
  {
   "cell_type": "code",
   "execution_count": 1,
   "id": "ac36f929",
   "metadata": {},
   "outputs": [
    {
     "name": "stdout",
     "output_type": "stream",
     "text": [
      "you are allowed to vote\n"
     ]
    }
   ],
   "source": [
    "age = 19\n",
    "voter_card = \"yes\"\n",
    "if age >=18 and voter_card==\"yes\":\n",
    "    print(\"you are allowed to vote\")\n",
    "else:\n",
    "    print(\"you are not allowed to vote\")\n"
   ]
  },
  {
   "cell_type": "code",
   "execution_count": 1,
   "id": "15310fb7",
   "metadata": {},
   "outputs": [
    {
     "name": "stdout",
     "output_type": "stream",
     "text": [
      "enter your age :25\n",
      "enter do your have a voter card ?yes\n",
      "you are allowed\n"
     ]
    }
   ],
   "source": [
    "age =int(input(\"enter your age :\"))\n",
    "\n",
    "if age >18:\n",
    "    voter = input(\"enter do your have a voter card ?\")\n",
    "    if voter ==\"yes\":\n",
    "        print (\"you are allowed\")\n",
    "    else:\n",
    "        print(\"you are not allowed\")\n",
    "else:\n",
    "    print(\"you are not allowed\")"
   ]
  },
  {
   "cell_type": "code",
   "execution_count": null,
   "id": "cfc25ab6",
   "metadata": {},
   "outputs": [],
   "source": [
    "number of lecture held\n",
    "number of lecture you attend\n",
    "cal percentage"
   ]
  },
  {
   "cell_type": "code",
   "execution_count": 8,
   "id": "f4d1d3cb",
   "metadata": {},
   "outputs": [
    {
     "name": "stdout",
     "output_type": "stream",
     "text": [
      "enter your lecture attended:250\n",
      "you are allowed to enter examination hall\n",
      "your total percentage 83.33333333333334 %\n"
     ]
    }
   ],
   "source": [
    "lecture =int(input(\"enter your lecture attended:\"))\n",
    "days = 300\n",
    "percentage = lecture/days*100\n",
    "if lecture >=140:\n",
    "    print(\"you are allowed to enter examination hall\")\n",
    "    print (\"your total percentage\",percentage,\"%\")\n",
    "else:\n",
    "    print (\"you are not allowed in examination hall\")\n",
    "    print(\"your total percentage is\",percentage,\"%\")"
   ]
  },
  {
   "cell_type": "code",
   "execution_count": 9,
   "id": "a0321d72",
   "metadata": {},
   "outputs": [
    {
     "name": "stdout",
     "output_type": "stream",
     "text": [
      "enter your age?24\n",
      "do you have your dl?\n",
      "did you applied for dl , show your receipt?yes\n",
      "you are allowed to drive with your learning license\n"
     ]
    }
   ],
   "source": [
    "age =int(input(\"enter your age?\"))\n",
    "if age >= 18:\n",
    "    dl=input(\"do you have your dl?\")\n",
    "    if dl == \"yes\":\n",
    "        print(\"you are allowed to drive\")\n",
    "    else:\n",
    "        rct =input(\"did you applied for dl , show your receipt?\")\n",
    "        if rct ==\"yes\":\n",
    "            print(\"you are allowed to drive with your learning license\")\n",
    "        else:\n",
    "            print(\"you are not allowed as you dont have a dl and learning license\")\n",
    "else:\n",
    "    print(\"you are not allowed as you are below 18\")"
   ]
  },
  {
   "cell_type": "code",
   "execution_count": 18,
   "id": "5ae74f8b",
   "metadata": {},
   "outputs": [
    {
     "name": "stdout",
     "output_type": "stream",
     "text": [
      "120\n"
     ]
    }
   ],
   "source": [
    "s=5\n",
    "for n in range (1):\n",
    "    s = s*4*3*2*1\n",
    "    print(s)"
   ]
  },
  {
   "cell_type": "code",
   "execution_count": null,
   "id": "fe0457cc",
   "metadata": {},
   "outputs": [],
   "source": [
    "n = 5\n",
    "s =(n*n-1)\n",
    "for n in range()"
   ]
  },
  {
   "cell_type": "code",
   "execution_count": 23,
   "id": "031c84f0",
   "metadata": {},
   "outputs": [
    {
     "name": "stdout",
     "output_type": "stream",
     "text": [
      "120\n"
     ]
    }
   ],
   "source": [
    "s= 5\n",
    "f =1\n",
    "for a in range (1,s+1):\n",
    "    f =f*a\n",
    "print(f)"
   ]
  },
  {
   "cell_type": "code",
   "execution_count": 25,
   "id": "794a72f0",
   "metadata": {},
   "outputs": [
    {
     "name": "stdout",
     "output_type": "stream",
     "text": [
      "120\n"
     ]
    }
   ],
   "source": [
    "n = 5\n",
    "f=1\n",
    "for i in range(1,n+1):\n",
    "    f=f*i\n",
    "print (f)"
   ]
  },
  {
   "cell_type": "code",
   "execution_count": 21,
   "id": "3c023982",
   "metadata": {},
   "outputs": [
    {
     "name": "stdout",
     "output_type": "stream",
     "text": [
      "1 odd\n",
      "2 even\n",
      "3 odd\n",
      "4 even\n",
      "5 odd\n",
      "6 even\n",
      "7 odd\n",
      "8 even\n",
      "9 odd\n",
      "10 even\n"
     ]
    }
   ],
   "source": [
    "n=10\n",
    "for i in range(1,n+1):\n",
    "    if i%2==0:\n",
    "        print(i,\"even\")\n",
    "    else:\n",
    "        print(i,\"odd\")"
   ]
  },
  {
   "cell_type": "code",
   "execution_count": 2,
   "id": "baa6890a",
   "metadata": {},
   "outputs": [
    {
     "name": "stdout",
     "output_type": "stream",
     "text": [
      "have u entered your your monthly billsno\n",
      "first enter your bills\n"
     ]
    }
   ],
   "source": [
    "#FINDING WE CAN FILE 3b\n",
    "gst =input(\"have u entered your your monthly bills\")\n",
    "if gst ==\"yes\":\n",
    "        reconsilation= input(\"have u reconciled 2A and tally\")\n",
    "        if reconsilation ==\"yes\":\n",
    "            print(\"proceed to next step\")\n",
    "            taxable=input(\"whether return is coming taxable or not\")\n",
    "        else:\n",
    "            print(\"reconcile first\")\n",
    "            if taxable ==\"yes\":\n",
    "                print(\"pay tax as per return\")\n",
    "            else:\n",
    "                print(\"file the return\")        \n",
    "else:\n",
    "    print(\"first enter your bills\")"
   ]
  },
  {
   "cell_type": "code",
   "execution_count": null,
   "id": "286c909a",
   "metadata": {},
   "outputs": [],
   "source": [
    "while loop - the while loop keeps repeating an action untill associated condition return false \n",
    "\n",
    "syntax\n",
    "counter initaisation\n",
    "while conditon:\n",
    "    statement\n",
    "    counter increment/decrement\n",
    "rest of code"
   ]
  },
  {
   "cell_type": "code",
   "execution_count": 6,
   "id": "266ccc7f",
   "metadata": {},
   "outputs": [
    {
     "name": "stdout",
     "output_type": "stream",
     "text": [
      "1\n",
      "3\n",
      "5\n",
      "7\n",
      "9\n",
      "out of the loop when a becomes - 11\n"
     ]
    }
   ],
   "source": [
    "a = 1\n",
    "while a<=10:\n",
    "    print(a)\n",
    "    a+=2\n",
    "\n",
    "print(\"out of the loop when a becomes -\",a)"
   ]
  },
  {
   "cell_type": "code",
   "execution_count": 8,
   "id": "3af143ef",
   "metadata": {},
   "outputs": [
    {
     "name": "stdout",
     "output_type": "stream",
     "text": [
      "10\n",
      "8\n",
      "6\n",
      "4\n",
      "2\n",
      "out of loop 0\n"
     ]
    }
   ],
   "source": [
    "a=10\n",
    "while a>0:\n",
    "    print (a)\n",
    "    a-=2\n",
    "    \n",
    "print(\"out of loop\",a)"
   ]
  },
  {
   "cell_type": "code",
   "execution_count": 14,
   "id": "e9f9be94",
   "metadata": {},
   "outputs": [
    {
     "name": "stdout",
     "output_type": "stream",
     "text": [
      "55\n"
     ]
    }
   ],
   "source": [
    "n = 10\n",
    "i = 0\n",
    "s = 0\n",
    "while i<=n:\n",
    "    s+=i\n",
    "    i+= 1\n",
    "print (s)"
   ]
  },
  {
   "cell_type": "code",
   "execution_count": 5,
   "id": "5c09c436",
   "metadata": {},
   "outputs": [],
   "source": [
    "n = 5\n",
    "f =1\n",
    "while f>=5:\n",
    "    f= f*(n+1)\n",
    "    print (f)\n",
    "    "
   ]
  },
  {
   "cell_type": "code",
   "execution_count": 3,
   "id": "694863de",
   "metadata": {},
   "outputs": [
    {
     "name": "stdout",
     "output_type": "stream",
     "text": [
      "1\n",
      "2\n",
      "6\n",
      "24\n"
     ]
    }
   ],
   "source": [
    "n = 10\n",
    "f =1\n",
    "i = 1\n",
    "while f<=n:\n",
    "    f= f*i\n",
    "    i=i+1\n",
    "    print (f)"
   ]
  },
  {
   "cell_type": "code",
   "execution_count": 4,
   "id": "5510c8bc",
   "metadata": {},
   "outputs": [
    {
     "data": {
      "text/plain": [
       "'C:\\\\Users\\\\UROOJ\\\\python folder'"
      ]
     },
     "execution_count": 4,
     "metadata": {},
     "output_type": "execute_result"
    }
   ],
   "source": [
    "pwd"
   ]
  }
 ],
 "metadata": {
  "kernelspec": {
   "display_name": "Python 3",
   "language": "python",
   "name": "python3"
  },
  "language_info": {
   "codemirror_mode": {
    "name": "ipython",
    "version": 3
   },
   "file_extension": ".py",
   "mimetype": "text/x-python",
   "name": "python",
   "nbconvert_exporter": "python",
   "pygments_lexer": "ipython3",
   "version": "3.9.5"
  }
 },
 "nbformat": 4,
 "nbformat_minor": 5
}
