{
 "cells": [
  {
   "cell_type": "code",
   "execution_count": 1,
   "id": "320cc0ea",
   "metadata": {},
   "outputs": [
    {
     "data": {
      "text/plain": [
       "11"
      ]
     },
     "execution_count": 1,
     "metadata": {},
     "output_type": "execute_result"
    }
   ],
   "source": [
    "5 + 6"
   ]
  },
  {
   "cell_type": "code",
   "execution_count": 2,
   "id": "c2328b17",
   "metadata": {},
   "outputs": [
    {
     "name": "stdout",
     "output_type": "stream",
     "text": [
      "Hello World\n"
     ]
    }
   ],
   "source": [
    "print('Hello World')"
   ]
  },
  {
   "cell_type": "markdown",
   "id": "6ba13da6",
   "metadata": {},
   "source": [
    "### This is just for demo"
   ]
  },
  {
   "cell_type": "markdown",
   "id": "3c08c601",
   "metadata": {},
   "source": [
    "$$ f(x) = 2x^2 + 5 $$"
   ]
  },
  {
   "cell_type": "code",
   "execution_count": 6,
   "id": "fe03396e",
   "metadata": {},
   "outputs": [],
   "source": [
    "# pwd"
   ]
  },
  {
   "cell_type": "code",
   "execution_count": 2,
   "id": "2d4965a2",
   "metadata": {},
   "outputs": [],
   "source": [
    "# 5var = 56"
   ]
  },
  {
   "cell_type": "code",
   "execution_count": 4,
   "id": "471366a7",
   "metadata": {},
   "outputs": [],
   "source": [
    "# @var = 56"
   ]
  },
  {
   "cell_type": "code",
   "execution_count": 7,
   "id": "8cb8227d",
   "metadata": {},
   "outputs": [],
   "source": [
    "var_1 = 52"
   ]
  },
  {
   "cell_type": "code",
   "execution_count": 8,
   "id": "d3a4800d",
   "metadata": {},
   "outputs": [],
   "source": [
    "var1 = 53"
   ]
  },
  {
   "cell_type": "code",
   "execution_count": 9,
   "id": "cafc4a26",
   "metadata": {},
   "outputs": [],
   "source": [
    "VAR = 52"
   ]
  },
  {
   "cell_type": "code",
   "execution_count": 10,
   "id": "bec16c4b",
   "metadata": {},
   "outputs": [],
   "source": [
    "var = 56"
   ]
  },
  {
   "cell_type": "code",
   "execution_count": 11,
   "id": "3d939e9e",
   "metadata": {},
   "outputs": [
    {
     "data": {
      "text/plain": [
       "52"
      ]
     },
     "execution_count": 11,
     "metadata": {},
     "output_type": "execute_result"
    }
   ],
   "source": [
    "VAR"
   ]
  },
  {
   "cell_type": "code",
   "execution_count": 12,
   "id": "6bc1877c",
   "metadata": {},
   "outputs": [
    {
     "name": "stdout",
     "output_type": "stream",
     "text": [
      "52\n"
     ]
    }
   ],
   "source": [
    "print(VAR)"
   ]
  },
  {
   "cell_type": "code",
   "execution_count": 13,
   "id": "9b80c057",
   "metadata": {},
   "outputs": [
    {
     "name": "stdout",
     "output_type": "stream",
     "text": [
      "56\n"
     ]
    }
   ],
   "source": [
    "print(var)"
   ]
  },
  {
   "cell_type": "code",
   "execution_count": 14,
   "id": "9b3ac832",
   "metadata": {},
   "outputs": [],
   "source": [
    "VAR = 53"
   ]
  },
  {
   "cell_type": "code",
   "execution_count": 15,
   "id": "1128b8d4",
   "metadata": {},
   "outputs": [],
   "source": [
    "var = 51"
   ]
  },
  {
   "cell_type": "code",
   "execution_count": 16,
   "id": "70781a4c",
   "metadata": {},
   "outputs": [],
   "source": [
    "var = 50"
   ]
  },
  {
   "cell_type": "code",
   "execution_count": 17,
   "id": "546efa26",
   "metadata": {},
   "outputs": [
    {
     "data": {
      "text/plain": [
       "int"
      ]
     },
     "execution_count": 17,
     "metadata": {},
     "output_type": "execute_result"
    }
   ],
   "source": [
    "type(var)"
   ]
  },
  {
   "cell_type": "code",
   "execution_count": 18,
   "id": "3127aec9",
   "metadata": {},
   "outputs": [],
   "source": [
    "var_1 = 50.0"
   ]
  },
  {
   "cell_type": "code",
   "execution_count": 19,
   "id": "68c42cf2",
   "metadata": {},
   "outputs": [
    {
     "data": {
      "text/plain": [
       "float"
      ]
     },
     "execution_count": 19,
     "metadata": {},
     "output_type": "execute_result"
    }
   ],
   "source": [
    "type(var_1)"
   ]
  },
  {
   "cell_type": "code",
   "execution_count": 24,
   "id": "9331d160",
   "metadata": {},
   "outputs": [],
   "source": [
    "var = 2356345765825534315231.251231"
   ]
  },
  {
   "cell_type": "code",
   "execution_count": 25,
   "id": "fc33bceb",
   "metadata": {},
   "outputs": [
    {
     "data": {
      "text/plain": [
       "2.3563457658255342e+21"
      ]
     },
     "execution_count": 25,
     "metadata": {},
     "output_type": "execute_result"
    }
   ],
   "source": [
    "var"
   ]
  },
  {
   "cell_type": "code",
   "execution_count": 29,
   "id": "6cba4850",
   "metadata": {},
   "outputs": [],
   "source": [
    "# var_2 = 0.0000000000000000000000000000000000000056"
   ]
  },
  {
   "cell_type": "code",
   "execution_count": 28,
   "id": "b7d98ce2",
   "metadata": {},
   "outputs": [],
   "source": [
    "# var_2"
   ]
  },
  {
   "cell_type": "code",
   "execution_count": 30,
   "id": "b5bf8fbb",
   "metadata": {},
   "outputs": [],
   "source": [
    "x = 5\n",
    "y = 6"
   ]
  },
  {
   "cell_type": "markdown",
   "id": "5d79be6d",
   "metadata": {},
   "source": [
    "# Addition"
   ]
  },
  {
   "cell_type": "code",
   "execution_count": 32,
   "id": "beb15d59",
   "metadata": {},
   "outputs": [
    {
     "data": {
      "text/plain": [
       "11"
      ]
     },
     "execution_count": 32,
     "metadata": {},
     "output_type": "execute_result"
    }
   ],
   "source": [
    "#Addition\n",
    "x + y"
   ]
  },
  {
   "cell_type": "code",
   "execution_count": 33,
   "id": "a8dcee5c",
   "metadata": {},
   "outputs": [
    {
     "data": {
      "text/plain": [
       "1"
      ]
     },
     "execution_count": 33,
     "metadata": {},
     "output_type": "execute_result"
    }
   ],
   "source": [
    "# Sub\n",
    "y - x"
   ]
  },
  {
   "cell_type": "code",
   "execution_count": 34,
   "id": "8003eff3",
   "metadata": {},
   "outputs": [
    {
     "data": {
      "text/plain": [
       "30"
      ]
     },
     "execution_count": 34,
     "metadata": {},
     "output_type": "execute_result"
    }
   ],
   "source": [
    "# Mul \n",
    "y * x"
   ]
  },
  {
   "cell_type": "code",
   "execution_count": 35,
   "id": "78a33d43",
   "metadata": {},
   "outputs": [
    {
     "data": {
      "text/plain": [
       "3.5"
      ]
     },
     "execution_count": 35,
     "metadata": {},
     "output_type": "execute_result"
    }
   ],
   "source": [
    "# Div (absolute val)\n",
    "x = 7\n",
    "y = 2\n",
    "x/y"
   ]
  },
  {
   "cell_type": "code",
   "execution_count": 36,
   "id": "ee345cc5",
   "metadata": {},
   "outputs": [
    {
     "data": {
      "text/plain": [
       "3"
      ]
     },
     "execution_count": 36,
     "metadata": {},
     "output_type": "execute_result"
    }
   ],
   "source": [
    "# Floor \n",
    "x // y"
   ]
  },
  {
   "cell_type": "code",
   "execution_count": 38,
   "id": "74a021b9",
   "metadata": {},
   "outputs": [
    {
     "data": {
      "text/plain": [
       "1"
      ]
     },
     "execution_count": 38,
     "metadata": {},
     "output_type": "execute_result"
    }
   ],
   "source": [
    "# Modulas (Remainder)\n",
    "x % y"
   ]
  },
  {
   "cell_type": "code",
   "execution_count": 41,
   "id": "f4c0aee9",
   "metadata": {},
   "outputs": [
    {
     "data": {
      "text/plain": [
       "49"
      ]
     },
     "execution_count": 41,
     "metadata": {},
     "output_type": "execute_result"
    }
   ],
   "source": [
    "# Exponential (Power)\n",
    "# Sqaure\n",
    "x ** 2"
   ]
  },
  {
   "cell_type": "code",
   "execution_count": 46,
   "id": "b69fce95",
   "metadata": {},
   "outputs": [
    {
     "data": {
      "text/plain": [
       "24.5"
      ]
     },
     "execution_count": 46,
     "metadata": {},
     "output_type": "execute_result"
    }
   ],
   "source": [
    "# Sq root \n",
    "49 ** 1/2"
   ]
  },
  {
   "cell_type": "code",
   "execution_count": 45,
   "id": "973293ee",
   "metadata": {},
   "outputs": [
    {
     "data": {
      "text/plain": [
       "7.0"
      ]
     },
     "execution_count": 45,
     "metadata": {},
     "output_type": "execute_result"
    }
   ],
   "source": [
    "49 ** (1/2)"
   ]
  },
  {
   "cell_type": "code",
   "execution_count": 43,
   "id": "2391a3bc",
   "metadata": {},
   "outputs": [
    {
     "data": {
      "text/plain": [
       "3.5"
      ]
     },
     "execution_count": 43,
     "metadata": {},
     "output_type": "execute_result"
    }
   ],
   "source": [
    "7/2"
   ]
  },
  {
   "cell_type": "code",
   "execution_count": 49,
   "id": "a9311b47",
   "metadata": {},
   "outputs": [
    {
     "data": {
      "text/plain": [
       "-22"
      ]
     },
     "execution_count": 49,
     "metadata": {},
     "output_type": "execute_result"
    }
   ],
   "source": [
    "# BODMAS\n",
    "5 - 3 * 7-6"
   ]
  },
  {
   "cell_type": "code",
   "execution_count": 47,
   "id": "6e6b3bfb",
   "metadata": {},
   "outputs": [
    {
     "data": {
      "text/plain": [
       "2"
      ]
     },
     "execution_count": 47,
     "metadata": {},
     "output_type": "execute_result"
    }
   ],
   "source": [
    " (5 - 3 )* (7-6)"
   ]
  },
  {
   "cell_type": "code",
   "execution_count": 50,
   "id": "2a2f3fa7",
   "metadata": {},
   "outputs": [],
   "source": [
    "a = 5"
   ]
  },
  {
   "cell_type": "code",
   "execution_count": 51,
   "id": "f77cb26c",
   "metadata": {},
   "outputs": [
    {
     "data": {
      "text/plain": [
       "int"
      ]
     },
     "execution_count": 51,
     "metadata": {},
     "output_type": "execute_result"
    }
   ],
   "source": [
    "type(a)"
   ]
  },
  {
   "cell_type": "code",
   "execution_count": 57,
   "id": "16bf77af",
   "metadata": {},
   "outputs": [],
   "source": [
    "a =float(a)"
   ]
  },
  {
   "cell_type": "code",
   "execution_count": 58,
   "id": "13abe675",
   "metadata": {},
   "outputs": [
    {
     "data": {
      "text/plain": [
       "5.0"
      ]
     },
     "execution_count": 58,
     "metadata": {},
     "output_type": "execute_result"
    }
   ],
   "source": [
    "a"
   ]
  },
  {
   "cell_type": "code",
   "execution_count": 55,
   "id": "67dfb564",
   "metadata": {},
   "outputs": [
    {
     "data": {
      "text/plain": [
       "5.0"
      ]
     },
     "execution_count": 55,
     "metadata": {},
     "output_type": "execute_result"
    }
   ],
   "source": [
    "b"
   ]
  },
  {
   "cell_type": "code",
   "execution_count": 59,
   "id": "35085023",
   "metadata": {},
   "outputs": [
    {
     "data": {
      "text/plain": [
       "5.0"
      ]
     },
     "execution_count": 59,
     "metadata": {},
     "output_type": "execute_result"
    }
   ],
   "source": [
    "a"
   ]
  },
  {
   "cell_type": "code",
   "execution_count": 62,
   "id": "94b80fa1",
   "metadata": {},
   "outputs": [],
   "source": [
    "a = str(a)"
   ]
  },
  {
   "cell_type": "code",
   "execution_count": 61,
   "id": "7cfc483f",
   "metadata": {},
   "outputs": [
    {
     "data": {
      "text/plain": [
       "5.0"
      ]
     },
     "execution_count": 61,
     "metadata": {},
     "output_type": "execute_result"
    }
   ],
   "source": [
    "a"
   ]
  },
  {
   "cell_type": "code",
   "execution_count": 63,
   "id": "873cd56a",
   "metadata": {},
   "outputs": [],
   "source": [
    "a = str(5)"
   ]
  },
  {
   "cell_type": "code",
   "execution_count": 64,
   "id": "3365e1b4",
   "metadata": {},
   "outputs": [
    {
     "data": {
      "text/plain": [
       "'5'"
      ]
     },
     "execution_count": 64,
     "metadata": {},
     "output_type": "execute_result"
    }
   ],
   "source": [
    "a"
   ]
  },
  {
   "cell_type": "code",
   "execution_count": 65,
   "id": "256d1c70",
   "metadata": {},
   "outputs": [],
   "source": [
    "b = str(10)"
   ]
  },
  {
   "cell_type": "code",
   "execution_count": 66,
   "id": "5f75dd80",
   "metadata": {},
   "outputs": [
    {
     "data": {
      "text/plain": [
       "'5'"
      ]
     },
     "execution_count": 66,
     "metadata": {},
     "output_type": "execute_result"
    }
   ],
   "source": [
    "a"
   ]
  },
  {
   "cell_type": "code",
   "execution_count": 67,
   "id": "6c49874d",
   "metadata": {},
   "outputs": [
    {
     "data": {
      "text/plain": [
       "'10'"
      ]
     },
     "execution_count": 67,
     "metadata": {},
     "output_type": "execute_result"
    }
   ],
   "source": [
    "b"
   ]
  },
  {
   "cell_type": "code",
   "execution_count": 68,
   "id": "de2c7848",
   "metadata": {},
   "outputs": [
    {
     "data": {
      "text/plain": [
       "'510'"
      ]
     },
     "execution_count": 68,
     "metadata": {},
     "output_type": "execute_result"
    }
   ],
   "source": [
    "a + b"
   ]
  },
  {
   "cell_type": "code",
   "execution_count": 69,
   "id": "91003a0d",
   "metadata": {},
   "outputs": [
    {
     "name": "stdout",
     "output_type": "stream",
     "text": [
      "5\n"
     ]
    }
   ],
   "source": [
    "print(a)"
   ]
  },
  {
   "cell_type": "code",
   "execution_count": 71,
   "id": "16324b8b",
   "metadata": {},
   "outputs": [],
   "source": [
    "a =55"
   ]
  },
  {
   "cell_type": "code",
   "execution_count": 72,
   "id": "49ca4da3",
   "metadata": {},
   "outputs": [
    {
     "name": "stdout",
     "output_type": "stream",
     "text": [
      "This is the value of a 55\n"
     ]
    }
   ],
   "source": [
    "print('This is the value of a',a)"
   ]
  },
  {
   "cell_type": "code",
   "execution_count": null,
   "id": "dbd0a971",
   "metadata": {},
   "outputs": [],
   "source": [
    "\n",
    "create var and store the marks of 3  students  and find their avg marks"
   ]
  },
  {
   "cell_type": "code",
   "execution_count": 98,
   "id": "d251c53a",
   "metadata": {},
   "outputs": [
    {
     "name": "stdout",
     "output_type": "stream",
     "text": [
      "62.333333333333336\n"
     ]
    }
   ],
   "source": [
    "m_1 = 45\n",
    "m_2 = 56\n",
    "m_3 = 86\n",
    "avg = (m_1+m_2+m_3)/3\n",
    "print(avg)"
   ]
  },
  {
   "cell_type": "code",
   "execution_count": 93,
   "id": "5aac2b4f",
   "metadata": {},
   "outputs": [
    {
     "name": "stdout",
     "output_type": "stream",
     "text": [
      "Enter your marks 56\n",
      "Enter your marks 65\n",
      "Enter your marks 42\n",
      "54.333333333333336\n"
     ]
    }
   ],
   "source": [
    "m_1 = int(input(\"Enter your marks \"))\n",
    "m_2 = int(input(\"Enter your marks \"))\n",
    "m_3 = int(input(\"Enter your marks \"))\n",
    "avg = (m_1+m_2+m_3)/3\n",
    "print(avg)"
   ]
  },
  {
   "cell_type": "code",
   "execution_count": null,
   "id": "387d565d",
   "metadata": {},
   "outputs": [],
   "source": [
    "total marks  obtained marks find the pert"
   ]
  },
  {
   "cell_type": "code",
   "execution_count": 95,
   "id": "d8d77197",
   "metadata": {},
   "outputs": [
    {
     "name": "stdout",
     "output_type": "stream",
     "text": [
      "Enter your total marks  100\n",
      "Enter your obtained  marks 65\n",
      "Your percentage is :  65.0\n"
     ]
    }
   ],
   "source": [
    "tot = int(input(\"Enter your total marks  \"))\n",
    "obt = int(input(\"Enter your obtained  marks \"))\n",
    "\n",
    "pert = obt/tot *100\n",
    "print(\"Your percentage is : \",pert)"
   ]
  },
  {
   "cell_type": "code",
   "execution_count": null,
   "id": "2c3f43de",
   "metadata": {},
   "outputs": [],
   "source": [
    "given three side of a triangle find the area of the triangle"
   ]
  },
  {
   "cell_type": "code",
   "execution_count": 97,
   "id": "f8a03eed",
   "metadata": {},
   "outputs": [
    {
     "name": "stdout",
     "output_type": "stream",
     "text": [
      "Area of the tri is  2.9047375096555625\n"
     ]
    }
   ],
   "source": [
    "s_1 = 2\n",
    "s_2 = 3\n",
    "s_3 = 4\n",
    "s = (s_1+s_2+s_3)/2\n",
    "\n",
    "area = (s*(s-s_1)*(s-s_2)*(s-s_3))**(1/2)\n",
    "print(\"Area of the tri is \",area)"
   ]
  },
  {
   "cell_type": "code",
   "execution_count": null,
   "id": "c994ee23",
   "metadata": {},
   "outputs": [],
   "source": [
    "given height and base of the triangle find the triangle"
   ]
  },
  {
   "cell_type": "code",
   "execution_count": 96,
   "id": "062f43ce",
   "metadata": {},
   "outputs": [
    {
     "name": "stdout",
     "output_type": "stream",
     "text": [
      "Enter height of the triangle 45\n",
      "Enter base of the triangl 30\n",
      "Area of Triangle is  :  675.0\n"
     ]
    }
   ],
   "source": [
    "heit = int(input(\"Enter height of the triangle \"))\n",
    "base = int(input(\"Enter base of the triangl \"))\n",
    "\n",
    "area = heit*base*1/2\n",
    "print(\"Area of Triangle is  : \",area)"
   ]
  },
  {
   "cell_type": "code",
   "execution_count": 77,
   "id": "1fb53e82",
   "metadata": {},
   "outputs": [
    {
     "name": "stdout",
     "output_type": "stream",
     "text": [
      "56\n"
     ]
    }
   ],
   "source": [
    "a = input()\n",
    "a = int(a)"
   ]
  },
  {
   "cell_type": "code",
   "execution_count": 85,
   "id": "3a89aeea",
   "metadata": {},
   "outputs": [
    {
     "name": "stdout",
     "output_type": "stream",
     "text": [
      "52\n"
     ]
    }
   ],
   "source": [
    "a = int(input())"
   ]
  },
  {
   "cell_type": "code",
   "execution_count": 87,
   "id": "2b4a872a",
   "metadata": {},
   "outputs": [
    {
     "data": {
      "text/plain": [
       "52"
      ]
     },
     "execution_count": 87,
     "metadata": {},
     "output_type": "execute_result"
    }
   ],
   "source": [
    "a"
   ]
  },
  {
   "cell_type": "code",
   "execution_count": 86,
   "id": "5da189de",
   "metadata": {},
   "outputs": [
    {
     "data": {
      "text/plain": [
       "int"
      ]
     },
     "execution_count": 86,
     "metadata": {},
     "output_type": "execute_result"
    }
   ],
   "source": [
    "type(a)"
   ]
  },
  {
   "cell_type": "code",
   "execution_count": 79,
   "id": "25284fbe",
   "metadata": {},
   "outputs": [],
   "source": [
    "a = 'Five'"
   ]
  },
  {
   "cell_type": "code",
   "execution_count": 80,
   "id": "8a3296f5",
   "metadata": {},
   "outputs": [
    {
     "data": {
      "text/plain": [
       "'Five'"
      ]
     },
     "execution_count": 80,
     "metadata": {},
     "output_type": "execute_result"
    }
   ],
   "source": [
    "a"
   ]
  },
  {
   "cell_type": "code",
   "execution_count": 82,
   "id": "1c9db345",
   "metadata": {},
   "outputs": [
    {
     "data": {
      "text/plain": [
       "str"
      ]
     },
     "execution_count": 82,
     "metadata": {},
     "output_type": "execute_result"
    }
   ],
   "source": [
    "type(a)"
   ]
  },
  {
   "cell_type": "code",
   "execution_count": 84,
   "id": "e5e4a268",
   "metadata": {},
   "outputs": [],
   "source": [
    "# int(a)"
   ]
  },
  {
   "cell_type": "code",
   "execution_count": 88,
   "id": "5a21001a",
   "metadata": {},
   "outputs": [
    {
     "name": "stdout",
     "output_type": "stream",
     "text": [
      "Enter your marks 56\n"
     ]
    }
   ],
   "source": [
    "a = int(input(\"Enter your marks \"))"
   ]
  },
  {
   "cell_type": "code",
   "execution_count": 89,
   "id": "6fe7576d",
   "metadata": {},
   "outputs": [
    {
     "data": {
      "text/plain": [
       "56"
      ]
     },
     "execution_count": 89,
     "metadata": {},
     "output_type": "execute_result"
    }
   ],
   "source": [
    "a"
   ]
  },
  {
   "cell_type": "code",
   "execution_count": 90,
   "id": "a2bf81e8",
   "metadata": {},
   "outputs": [
    {
     "data": {
      "text/plain": [
       "int"
      ]
     },
     "execution_count": 90,
     "metadata": {},
     "output_type": "execute_result"
    }
   ],
   "source": [
    "type(a)"
   ]
  },
  {
   "cell_type": "code",
   "execution_count": 1,
   "id": "f7b355ff",
   "metadata": {},
   "outputs": [],
   "source": [
    "# Comparision Opertor"
   ]
  },
  {
   "cell_type": "code",
   "execution_count": 54,
   "id": "4c40cd7e",
   "metadata": {},
   "outputs": [],
   "source": [
    "x = 16\n",
    "y = 16"
   ]
  },
  {
   "cell_type": "code",
   "execution_count": 55,
   "id": "8737ac94",
   "metadata": {},
   "outputs": [
    {
     "data": {
      "text/plain": [
       "False"
      ]
     },
     "execution_count": 55,
     "metadata": {},
     "output_type": "execute_result"
    }
   ],
   "source": [
    "y > x"
   ]
  },
  {
   "cell_type": "code",
   "execution_count": null,
   "id": "d8804a96",
   "metadata": {},
   "outputs": [],
   "source": [
    ">-- gt\n",
    "<--- less\n",
    "<= -- less eq\n",
    ">= --- gt eq\n",
    "== --- comp/ equal\n",
    "!= --- not equal"
   ]
  },
  {
   "cell_type": "code",
   "execution_count": 53,
   "id": "5cd271d3",
   "metadata": {},
   "outputs": [
    {
     "data": {
      "text/plain": [
       "False"
      ]
     },
     "execution_count": 53,
     "metadata": {},
     "output_type": "execute_result"
    }
   ],
   "source": [
    "y < x"
   ]
  },
  {
   "cell_type": "code",
   "execution_count": 12,
   "id": "8bcfec4c",
   "metadata": {},
   "outputs": [
    {
     "data": {
      "text/plain": [
       "True"
      ]
     },
     "execution_count": 12,
     "metadata": {},
     "output_type": "execute_result"
    }
   ],
   "source": [
    "y <= x"
   ]
  },
  {
   "cell_type": "code",
   "execution_count": 16,
   "id": "fec76549",
   "metadata": {},
   "outputs": [
    {
     "data": {
      "text/plain": [
       "True"
      ]
     },
     "execution_count": 16,
     "metadata": {},
     "output_type": "execute_result"
    }
   ],
   "source": [
    "x >= y"
   ]
  },
  {
   "cell_type": "code",
   "execution_count": 20,
   "id": "fbf2e9dc",
   "metadata": {},
   "outputs": [
    {
     "data": {
      "text/plain": [
       "False"
      ]
     },
     "execution_count": 20,
     "metadata": {},
     "output_type": "execute_result"
    }
   ],
   "source": [
    "x == y"
   ]
  },
  {
   "cell_type": "code",
   "execution_count": 23,
   "id": "3932c8d2",
   "metadata": {},
   "outputs": [
    {
     "data": {
      "text/plain": [
       "False"
      ]
     },
     "execution_count": 23,
     "metadata": {},
     "output_type": "execute_result"
    }
   ],
   "source": [
    "x != y"
   ]
  },
  {
   "cell_type": "code",
   "execution_count": 42,
   "id": "cce24316",
   "metadata": {},
   "outputs": [],
   "source": [
    "x = 8\n",
    "y = 9\n",
    "z = 7"
   ]
  },
  {
   "cell_type": "code",
   "execution_count": 35,
   "id": "1b4ea897",
   "metadata": {},
   "outputs": [
    {
     "data": {
      "text/plain": [
       "False"
      ]
     },
     "execution_count": 35,
     "metadata": {},
     "output_type": "execute_result"
    }
   ],
   "source": [
    "x<z>y"
   ]
  },
  {
   "cell_type": "code",
   "execution_count": 36,
   "id": "593d060a",
   "metadata": {},
   "outputs": [
    {
     "data": {
      "text/plain": [
       "False"
      ]
     },
     "execution_count": 36,
     "metadata": {},
     "output_type": "execute_result"
    }
   ],
   "source": [
    "z > y and z > x"
   ]
  },
  {
   "cell_type": "code",
   "execution_count": 43,
   "id": "16fdc475",
   "metadata": {},
   "outputs": [
    {
     "data": {
      "text/plain": [
       "False"
      ]
     },
     "execution_count": 43,
     "metadata": {},
     "output_type": "execute_result"
    }
   ],
   "source": [
    "z > y or z > x"
   ]
  },
  {
   "cell_type": "code",
   "execution_count": 45,
   "id": "0268e72c",
   "metadata": {},
   "outputs": [
    {
     "data": {
      "text/plain": [
       "True"
      ]
     },
     "execution_count": 45,
     "metadata": {},
     "output_type": "execute_result"
    }
   ],
   "source": [
    "not z > y"
   ]
  },
  {
   "cell_type": "code",
   "execution_count": 46,
   "id": "ff8028a3",
   "metadata": {},
   "outputs": [
    {
     "name": "stdout",
     "output_type": "stream",
     "text": [
      "I made a profit of  50\n"
     ]
    }
   ],
   "source": [
    "cp = 100\n",
    "sp = 150\n",
    "p = sp - cp\n",
    "print(\"I made a profit of \",p)"
   ]
  },
  {
   "cell_type": "code",
   "execution_count": 47,
   "id": "886f54c8",
   "metadata": {},
   "outputs": [
    {
     "name": "stdout",
     "output_type": "stream",
     "text": [
      "I made a loss of  50\n"
     ]
    }
   ],
   "source": [
    "cp = 100\n",
    "sp = 50\n",
    "l = cp - sp\n",
    "print(\"I made a loss of \",l)"
   ]
  },
  {
   "cell_type": "code",
   "execution_count": 48,
   "id": "7b1c3512",
   "metadata": {},
   "outputs": [
    {
     "name": "stdout",
     "output_type": "stream",
     "text": [
      "I made a profit of  50\n",
      "I made a loss of  -50\n"
     ]
    }
   ],
   "source": [
    "cp = 100\n",
    "sp = 150\n",
    "\n",
    "p = sp - cp\n",
    "print(\"I made a profit of \",p)\n",
    "\n",
    "\n",
    "l = cp - sp\n",
    "print(\"I made a loss of \",l)"
   ]
  },
  {
   "cell_type": "code",
   "execution_count": null,
   "id": "32c4d962",
   "metadata": {},
   "outputs": [],
   "source": [
    "if condition/req/logic:\n",
    "    statement/action/task\n",
    "else:\n",
    "    statement 2"
   ]
  },
  {
   "cell_type": "code",
   "execution_count": 60,
   "id": "5221ea33",
   "metadata": {},
   "outputs": [
    {
     "name": "stdout",
     "output_type": "stream",
     "text": [
      "Fail\n"
     ]
    }
   ],
   "source": [
    "marks = 0\n",
    "if marks >=35:\n",
    "    print(\"Pass\")\n",
    "else:\n",
    "    print('Fail')"
   ]
  },
  {
   "cell_type": "code",
   "execution_count": 62,
   "id": "79dbdaad",
   "metadata": {},
   "outputs": [
    {
     "name": "stdout",
     "output_type": "stream",
     "text": [
      "I made a loss of  50\n"
     ]
    }
   ],
   "source": [
    "cp = 100\n",
    "sp = 50\n",
    "if sp>cp:\n",
    "    p = sp - cp\n",
    "    print(\"I made a profit of \",p)\n",
    "\n",
    "else:\n",
    "    l = cp - sp\n",
    "    print(\"I made a loss of \",l)"
   ]
  },
  {
   "cell_type": "code",
   "execution_count": null,
   "id": "7b5f5aa0",
   "metadata": {},
   "outputs": [],
   "source": [
    "x = 5\n",
    "y = 6\n",
    "greatest"
   ]
  },
  {
   "cell_type": "code",
   "execution_count": 65,
   "id": "b7b6650c",
   "metadata": {},
   "outputs": [
    {
     "name": "stdout",
     "output_type": "stream",
     "text": [
      "x is greatest\n"
     ]
    }
   ],
   "source": [
    "x = 8\n",
    "y = 6\n",
    "if x > y:\n",
    "    print(\"x is greatest\")\n",
    "else:\n",
    "    print(\"y is greatest\")"
   ]
  },
  {
   "cell_type": "code",
   "execution_count": 67,
   "id": "8e7f1876",
   "metadata": {},
   "outputs": [
    {
     "name": "stdout",
     "output_type": "stream",
     "text": [
      "x is smallest\n"
     ]
    }
   ],
   "source": [
    "x = 5\n",
    "y = 6\n",
    "if x < y:\n",
    "    print(\"x is smallest\")\n",
    "else:\n",
    "    print(\"y is smallest\")"
   ]
  },
  {
   "cell_type": "code",
   "execution_count": null,
   "id": "bde4c960",
   "metadata": {},
   "outputs": [],
   "source": [
    "x = 5\n",
    "y = 6\n",
    "smallest"
   ]
  },
  {
   "cell_type": "code",
   "execution_count": null,
   "id": "90c3500a",
   "metadata": {},
   "outputs": [],
   "source": [
    "x = 5\n",
    "positive /negative"
   ]
  },
  {
   "cell_type": "code",
   "execution_count": 73,
   "id": "09e8e320",
   "metadata": {},
   "outputs": [
    {
     "name": "stdout",
     "output_type": "stream",
     "text": [
      "Number is positive\n"
     ]
    }
   ],
   "source": [
    "x = 0\n",
    "if x >=0:\n",
    "    print(\"Number is positive\")\n",
    "else:\n",
    "    print(\"Number is negative\")"
   ]
  },
  {
   "cell_type": "code",
   "execution_count": null,
   "id": "3ebd09f6",
   "metadata": {},
   "outputs": [],
   "source": [
    "x = 7\n",
    "even / odd"
   ]
  },
  {
   "cell_type": "code",
   "execution_count": 76,
   "id": "b97c605a",
   "metadata": {},
   "outputs": [
    {
     "name": "stdout",
     "output_type": "stream",
     "text": [
      "Odd\n"
     ]
    }
   ],
   "source": [
    "x = 7\n",
    "if not x%2 :\n",
    "    print(\"Even\")\n",
    "else:\n",
    "    print(\"Odd\")"
   ]
  },
  {
   "cell_type": "code",
   "execution_count": 82,
   "id": "22a6dc8a",
   "metadata": {},
   "outputs": [
    {
     "name": "stdout",
     "output_type": "stream",
     "text": [
      "Even\n"
     ]
    }
   ],
   "source": [
    "x = 6\n",
    "if x%2==0:\n",
    "    print(\"Even\")\n",
    "else:\n",
    "    print(\"Odd\")"
   ]
  },
  {
   "cell_type": "code",
   "execution_count": 83,
   "id": "7141d3f4",
   "metadata": {},
   "outputs": [],
   "source": [
    "# not 6%2"
   ]
  },
  {
   "cell_type": "code",
   "execution_count": null,
   "id": "93ff5918",
   "metadata": {},
   "outputs": [],
   "source": [
    "n1 = 5\n",
    "n2 = 6\n",
    "n3 = 7"
   ]
  },
  {
   "cell_type": "code",
   "execution_count": 91,
   "id": "d6dfb765",
   "metadata": {},
   "outputs": [
    {
     "name": "stdout",
     "output_type": "stream",
     "text": [
      "Number is negative\n"
     ]
    }
   ],
   "source": [
    "x = -9\n",
    "if x >0:\n",
    "    print(\"Number is positive\")\n",
    "elif x==0:\n",
    "    print(\"Number is equal to zero\")\n",
    "else:\n",
    "    print(\"Number is negative\")"
   ]
  },
  {
   "cell_type": "code",
   "execution_count": 93,
   "id": "873cdb3b",
   "metadata": {},
   "outputs": [
    {
     "name": "stdout",
     "output_type": "stream",
     "text": [
      "n3 is greatest\n"
     ]
    }
   ],
   "source": [
    "n1 = 5\n",
    "n2 = 5\n",
    "n3 = 5\n",
    "\n",
    "if n1>n2 and n1>n3:\n",
    "    print(\"n1 is greatest\")\n",
    "elif n2>n3 and n2>n1:\n",
    "    print(\"n2 is greatest\")\n",
    "else: \n",
    "    print(\"n3 is greatest\")\n",
    "    \n"
   ]
  },
  {
   "cell_type": "code",
   "execution_count": 105,
   "id": "02e680c6",
   "metadata": {},
   "outputs": [
    {
     "name": "stdout",
     "output_type": "stream",
     "text": [
      "n3 is gt\n"
     ]
    }
   ],
   "source": [
    "n1 = 11\n",
    "n2 = 9\n",
    "n3 = 13\n",
    "if n1 > n2:\n",
    "    if n1>n3:\n",
    "        print(\"n1 is gt\")\n",
    "    else:\n",
    "        print('n3 is gt')\n",
    "else:\n",
    "    if n2>n3:\n",
    "        print(\"n2 is gt\")\n",
    "    else:\n",
    "        print(\"n3 is gt\")"
   ]
  },
  {
   "cell_type": "code",
   "execution_count": null,
   "id": "5ef6a590",
   "metadata": {},
   "outputs": [],
   "source": [
    "marks = 85\n",
    "print grade\n",
    "80 - 100. A\n",
    "60 - 80 - B\n",
    "40 - 60 - C\n",
    "40 -      E"
   ]
  },
  {
   "cell_type": "code",
   "execution_count": 7,
   "id": "c7722adc",
   "metadata": {},
   "outputs": [
    {
     "name": "stdout",
     "output_type": "stream",
     "text": [
      "Enter your marks here60\n",
      "your grade is E\n"
     ]
    }
   ],
   "source": [
    "marks=int(input(\"Enter your marks here\"))\n",
    "if 80<marks<100:\n",
    "    print(\"your grade is A\")\n",
    "elif 60<marks<80:\n",
    "    print(\"your grade is B\")\n",
    "elif 40<marks<60:\n",
    "    print(\"your grade is C\")\n",
    "else:\n",
    "    print(\"your grade is E\")"
   ]
  },
  {
   "cell_type": "code",
   "execution_count": 15,
   "id": "934f0152",
   "metadata": {},
   "outputs": [
    {
     "name": "stdout",
     "output_type": "stream",
     "text": [
      "Enter your marks here: 99\n",
      "your grade is A\n"
     ]
    }
   ],
   "source": [
    "marks=int(input(\"Enter your marks here: \"))\n",
    "if 80<=marks<=100:\n",
    "    print(\"your grade is A\")\n",
    "elif 60<=marks<80:\n",
    "    print(\"your grade is B\")\n",
    "elif 40<=marks<60:\n",
    "    print(\"your grade is C\")\n",
    "else:\n",
    "    print(\"your grade is E\")"
   ]
  },
  {
   "cell_type": "code",
   "execution_count": null,
   "id": "45336dac",
   "metadata": {},
   "outputs": [],
   "source": [
    "income = \n",
    "tax ? \n",
    "income after tax"
   ]
  },
  {
   "cell_type": "code",
   "execution_count": null,
   "id": "2a149988",
   "metadata": {},
   "outputs": [],
   "source": [
    "5 > - NO TAX\n",
    "5 - 7 - 5%\n",
    "7 - 9 - 10%\n",
    "9 -12 - 15%\n",
    "12- 15 -20%\n",
    "15 < -25%"
   ]
  },
  {
   "cell_type": "code",
   "execution_count": 21,
   "id": "1a00e5f9",
   "metadata": {},
   "outputs": [
    {
     "name": "stdout",
     "output_type": "stream",
     "text": [
      "Enter your income: 1000000\n",
      "tax :  150000.0\n"
     ]
    }
   ],
   "source": [
    "income = int(input('Enter your income: '))\n",
    "if income <= 500000:\n",
    "    print('No Tax')\n",
    "elif income <= 700000:\n",
    "    print(\"tax : \",(income*5)/100)\n",
    "elif income <= 900000:\n",
    "    print(\"tax : \",(income*10)/100)\n",
    "elif income <= 1200000:\n",
    "    print(\"tax : \",(income*15)/100)\n",
    "elif income <= 1500000:\n",
    "    print(\"tax : \",(income*20)/100)\n",
    "else:\n",
    "    print(\"tax : \",(income*25)/100)\n"
   ]
  },
  {
   "cell_type": "code",
   "execution_count": 28,
   "id": "7ef198e0",
   "metadata": {},
   "outputs": [
    {
     "name": "stdout",
     "output_type": "stream",
     "text": [
      "Enter is your age ? 19\n",
      "Ok 1st Check done\n",
      "Tell me one thing that do you have a voter card ? (Y/N)y\n",
      "Congrst you are allowed to vote\n"
     ]
    }
   ],
   "source": [
    "age = int(input(\"Enter is your age ? \"))\n",
    "if age >= 18:\n",
    "    print(\"Ok 1st Check done\")\n",
    "    voter = input(\"Tell me one thing that do you have a voter card ? (Y/N)\")\n",
    "    if voter == \"Y\" or voter == \"y\" :\n",
    "        print(\"Congrst you are allowed to vote\")\n",
    "    else:\n",
    "        print(\"Then first apply for voter card\")\n",
    "else:\n",
    "    print(\"No allowed\")"
   ]
  },
  {
   "cell_type": "code",
   "execution_count": 30,
   "id": "ca343db3",
   "metadata": {},
   "outputs": [
    {
     "name": "stdout",
     "output_type": "stream",
     "text": [
      "Enter is your age ? 20\n",
      "Ok 1st Check done\n",
      "Tell me one thing that do you have a voter card ? (Y/N)N\n",
      "Then first apply for Driving Licence\n"
     ]
    }
   ],
   "source": [
    "age = int(input(\"Enter is your age ? \"))\n",
    "if age >= 18:\n",
    "    print(\"Ok 1st Check done\")\n",
    "    voter = input(\"Tell me one thing that do you have a Driving card ? (Y/N)\")\n",
    "    if voter == \"Y\" or voter == \"y\" :\n",
    "        print(\"Congrst you are allowed to Drive\")\n",
    "    else:\n",
    "        print(\"Then first apply for Driving Licence\")\n",
    "else:\n",
    "    print(\"No allowed\")"
   ]
  },
  {
   "cell_type": "code",
   "execution_count": 34,
   "id": "27290335",
   "metadata": {},
   "outputs": [
    {
     "name": "stdout",
     "output_type": "stream",
     "text": [
      "Enter is your age ? 20\n",
      "Ok 1st Check done\n",
      "Tell me one thing that do you have a Driving card ? (Y/N)N\n",
      "Do you have a learning licence ?N\n",
      "Then first apply for learning Driving Licence\n"
     ]
    }
   ],
   "source": [
    "age = int(input(\"Enter is your age ? \"))\n",
    "if age >= 18:\n",
    "    print(\"Ok 1st Check done\")\n",
    "    voter = input(\"Tell me one thing that do you have a Driving card ? (Y/N)\")\n",
    "    if voter == \"Y\" or voter == \"y\" :\n",
    "        print(\"Congrst you are allowed to Drive\")\n",
    "    else:\n",
    "        app = input(\"Do you have a learning licence ?\")\n",
    "        if app == \"y\" or app ==\"Y\":\n",
    "            print('You are allowed')\n",
    "        else:\n",
    "            print(\"Then first apply for learning Driving Licence\")\n",
    "else:\n",
    "    print(\"No allowed\")"
   ]
  },
  {
   "cell_type": "code",
   "execution_count": 37,
   "id": "365ee42e",
   "metadata": {},
   "outputs": [
    {
     "name": "stdout",
     "output_type": "stream",
     "text": [
      "Hello \n",
      "Hello \n",
      "Hello \n",
      "Hello \n",
      "Hello \n",
      "Hello \n",
      "Hello \n",
      "Hello \n"
     ]
    }
   ],
   "source": [
    "print(\"Hello \")\n",
    "print(\"Hello \")\n",
    "print(\"Hello \")\n",
    "print(\"Hello \")\n",
    "print(\"Hello \")\n",
    "print(\"Hello \")\n",
    "print(\"Hello \")\n",
    "print(\"Hello \")"
   ]
  },
  {
   "cell_type": "code",
   "execution_count": 52,
   "id": "499718f8",
   "metadata": {},
   "outputs": [
    {
     "name": "stdout",
     "output_type": "stream",
     "text": [
      "Performing rep num  0\n",
      "Performing rep num  1\n",
      "Performing rep num  2\n",
      "Performing rep num  3\n",
      "Performing rep num  4\n",
      "Performing rep num  5\n",
      "Performing rep num  6\n",
      "Performing rep num  7\n",
      "Performing rep num  8\n",
      "Performing rep num  9\n",
      "Performing rep num  10\n",
      "Performing rep num  11\n",
      "Performing rep num  12\n",
      "Performing rep num  13\n",
      "Performing rep num  14\n",
      "Take rest for 30sec\n"
     ]
    }
   ],
   "source": [
    "for i in range(15):\n",
    "    print(\"Performing rep num \",i)\n",
    "print(\"Take rest for 30sec\")"
   ]
  },
  {
   "cell_type": "code",
   "execution_count": 41,
   "id": "fce56841",
   "metadata": {},
   "outputs": [
    {
     "name": "stdout",
     "output_type": "stream",
     "text": [
      "Performing rep num  1\n",
      "Performing rep num  2\n",
      "Performing rep num  3\n",
      "Performing rep num  4\n",
      "Performing rep num  5\n",
      "Performing rep num  6\n",
      "Performing rep num  7\n",
      "Performing rep num  8\n",
      "Performing rep num  9\n",
      "Performing rep num  10\n",
      "Performing rep num  11\n",
      "Performing rep num  12\n",
      "Performing rep num  13\n",
      "Performing rep num  14\n",
      "Performing rep num  15\n"
     ]
    }
   ],
   "source": [
    "for i in range(1,16):\n",
    "    print(\"Performing rep num \",i)"
   ]
  },
  {
   "cell_type": "code",
   "execution_count": 45,
   "id": "888e16dc",
   "metadata": {},
   "outputs": [],
   "source": [
    "# for i in range(1500):\n",
    "#     print(\"Hello\")"
   ]
  },
  {
   "cell_type": "code",
   "execution_count": 55,
   "id": "e2da912a",
   "metadata": {},
   "outputs": [
    {
     "name": "stdout",
     "output_type": "stream",
     "text": [
      "Performing rep num  1\n",
      "Performing rep num  4\n",
      "Performing rep num  7\n",
      "Performing rep num  10\n",
      "Performing rep num  13\n"
     ]
    }
   ],
   "source": [
    "for i in range(1,16,3):\n",
    "    print(\"Performing rep num \",i)"
   ]
  },
  {
   "cell_type": "code",
   "execution_count": 56,
   "id": "cb6fad0d",
   "metadata": {},
   "outputs": [
    {
     "name": "stdout",
     "output_type": "stream",
     "text": [
      "15\n",
      "14\n",
      "13\n",
      "12\n",
      "11\n",
      "10\n",
      "9\n",
      "8\n",
      "7\n",
      "6\n",
      "5\n",
      "4\n",
      "3\n",
      "2\n",
      "1\n"
     ]
    }
   ],
   "source": [
    "for i in range(15,0,-1):\n",
    "    print(i)"
   ]
  },
  {
   "cell_type": "code",
   "execution_count": 58,
   "id": "1e61163c",
   "metadata": {},
   "outputs": [],
   "source": [
    "for i in range(15,0,2):\n",
    "    print(i)"
   ]
  },
  {
   "cell_type": "code",
   "execution_count": 59,
   "id": "c840f38b",
   "metadata": {},
   "outputs": [
    {
     "name": "stdout",
     "output_type": "stream",
     "text": [
      "Even  0\n",
      "Odd  1\n",
      "Even  2\n",
      "Odd  3\n",
      "Even  4\n",
      "Odd  5\n",
      "Even  6\n",
      "Odd  7\n",
      "Even  8\n",
      "Odd  9\n"
     ]
    }
   ],
   "source": [
    "for i in range(10):\n",
    "    if i % 2 ==0:\n",
    "        print(\"Even \",i)\n",
    "    else:\n",
    "        print(\"Odd \",i)"
   ]
  },
  {
   "cell_type": "code",
   "execution_count": 62,
   "id": "92d16a43",
   "metadata": {},
   "outputs": [
    {
     "name": "stdout",
     "output_type": "stream",
     "text": [
      "even 0\n",
      "even 2\n",
      "even 4\n",
      "even 6\n",
      "even 8\n",
      "even 10\n"
     ]
    }
   ],
   "source": [
    "for i in range(0,11,2):\n",
    "        print(\"even\",i)"
   ]
  },
  {
   "cell_type": "code",
   "execution_count": 63,
   "id": "f64d95ef",
   "metadata": {},
   "outputs": [
    {
     "name": "stdout",
     "output_type": "stream",
     "text": [
      "Odd 1\n",
      "Odd 3\n",
      "Odd 5\n",
      "Odd 7\n",
      "Odd 9\n"
     ]
    }
   ],
   "source": [
    "for i in range(1,11,2):\n",
    "        print(\"Odd\",i)"
   ]
  },
  {
   "cell_type": "code",
   "execution_count": 66,
   "id": "5dc38fc4",
   "metadata": {},
   "outputs": [
    {
     "name": "stdout",
     "output_type": "stream",
     "text": [
      "Sum of n natural number is  55\n"
     ]
    }
   ],
   "source": [
    "n = 10\n",
    "s = 0\n",
    "for i in range(n+1):\n",
    "    s = s+i\n",
    "print(\"Sum of n natural number is \",s)\n"
   ]
  },
  {
   "cell_type": "code",
   "execution_count": 76,
   "id": "fe2b4118",
   "metadata": {},
   "outputs": [
    {
     "name": "stdout",
     "output_type": "stream",
     "text": [
      "Enter number 5\n",
      "1\n",
      "2\n",
      "3\n",
      "4\n",
      "5\n",
      "factorial of a number is : 120\n"
     ]
    }
   ],
   "source": [
    "fact=1\n",
    "a=int(input(\"Enter number \"))\n",
    "for i in range(1,a+1):\n",
    "    fact=fact*i\n",
    "    print(i)\n",
    "print(\"factorial of a number is :\" ,fact)\n"
   ]
  },
  {
   "cell_type": "code",
   "execution_count": 77,
   "id": "2a9f8ea4",
   "metadata": {},
   "outputs": [
    {
     "name": "stdout",
     "output_type": "stream",
     "text": [
      "Enter number5\n",
      "5\n",
      "4\n",
      "3\n",
      "2\n",
      "1\n",
      "factorial of a number is : 120\n"
     ]
    }
   ],
   "source": [
    "fact=1\n",
    "a=int(input(\"Enter number\"))\n",
    "for i in range(a,0,-1):\n",
    "     fact=fact*i\n",
    "     print(i)\n",
    "print(\"factorial of a number is :\" ,fact)"
   ]
  },
  {
   "cell_type": "code",
   "execution_count": 80,
   "id": "91563343",
   "metadata": {},
   "outputs": [
    {
     "name": "stdout",
     "output_type": "stream",
     "text": [
      "Enter the student count3\n",
      "Enter your marks5\n",
      "Grade E\n",
      "Enter your marks55\n",
      "Grade C\n",
      "Enter your marks80\n",
      "Grade A\n"
     ]
    }
   ],
   "source": [
    "student = int(input('Enter the student count '))\n",
    "for i in range(student):\n",
    "    marks = int(input('Enter your marks'))\n",
    "    if marks >= 80:\n",
    "        print('Grade A')\n",
    "    elif marks >= 60:\n",
    "        print('Grade B')\n",
    "    elif marks >= 40:\n",
    "        print('Grade C')\n",
    "    else:\n",
    "        print('Grade E')\n"
   ]
  },
  {
   "cell_type": "code",
   "execution_count": null,
   "id": "4355679d",
   "metadata": {},
   "outputs": [],
   "source": [
    "student = int(input('Enter the student count '))\n",
    "for i in range(student):\n",
    "    marks = int(input('Enter your marks'))\n",
    "    if marks >= 80:\n",
    "        print('Grade A')\n",
    "    elif marks >= 60:\n",
    "        print('Grade B')\n",
    "    elif marks >= 40:\n",
    "        print('Grade C')\n",
    "    else:\n",
    "        print('Grade E')"
   ]
  },
  {
   "cell_type": "code",
   "execution_count": 8,
   "id": "23c4f616",
   "metadata": {},
   "outputs": [
    {
     "name": "stdout",
     "output_type": "stream",
     "text": [
      "Enter your age here18\n",
      "Ok first check done\n",
      "Do u have voter card?Y/NY\n",
      "congrats you are allowed to drive\n"
     ]
    }
   ],
   "source": [
    "age=int(input(\"Enter your age here\"))\n",
    "if age>=18:\n",
    "    print(\"Ok first check done\")\n",
    "    voter=input(\"Do u have voter card?Y/N\")\n",
    "    if voter==\"Y\" or voter==\"Yes\":\n",
    "        print(\"congrats you are allowed to drive\")\n",
    "    else:\n",
    "        print(\"Apply for voter card\")\n",
    "else:\n",
    "    print(\"not allowed\")"
   ]
  },
  {
   "cell_type": "code",
   "execution_count": 5,
   "id": "a3940be3",
   "metadata": {},
   "outputs": [
    {
     "data": {
      "text/plain": [
       "False"
      ]
     },
     "execution_count": 5,
     "metadata": {},
     "output_type": "execute_result"
    }
   ],
   "source": [
    "5 >=8"
   ]
  },
  {
   "cell_type": "code",
   "execution_count": null,
   "id": "ad19fe03",
   "metadata": {},
   "outputs": [],
   "source": [
    "* * *\n",
    "* * *\n",
    "* * *"
   ]
  },
  {
   "cell_type": "code",
   "execution_count": 9,
   "id": "c8ed5ea2",
   "metadata": {},
   "outputs": [
    {
     "name": "stdout",
     "output_type": "stream",
     "text": [
      "* * *\n",
      "* * *\n",
      "* * *\n"
     ]
    }
   ],
   "source": [
    "print(\"* * *\")\n",
    "print(\"* * *\")\n",
    "print(\"* * *\")"
   ]
  },
  {
   "cell_type": "code",
   "execution_count": 10,
   "id": "503c1ca7",
   "metadata": {},
   "outputs": [
    {
     "name": "stdout",
     "output_type": "stream",
     "text": [
      "* * *\n",
      "* * *\n",
      "* * *\n"
     ]
    }
   ],
   "source": [
    "for i in range(3):\n",
    "    print(\"* * *\")"
   ]
  },
  {
   "cell_type": "code",
   "execution_count": 11,
   "id": "d24baab7",
   "metadata": {},
   "outputs": [
    {
     "name": "stdout",
     "output_type": "stream",
     "text": [
      "Hello\n",
      "Hi\n"
     ]
    }
   ],
   "source": [
    "print(\"Hello\")\n",
    "print(\"Hi\")"
   ]
  },
  {
   "cell_type": "code",
   "execution_count": 12,
   "id": "cb681d9e",
   "metadata": {},
   "outputs": [
    {
     "name": "stdout",
     "output_type": "stream",
     "text": [
      "Hello \n",
      "Hi\n"
     ]
    }
   ],
   "source": [
    "print(\"Hello \\nHi\")"
   ]
  },
  {
   "cell_type": "code",
   "execution_count": 14,
   "id": "94e4b624",
   "metadata": {},
   "outputs": [
    {
     "name": "stdout",
     "output_type": "stream",
     "text": [
      "Hello Hi\n"
     ]
    }
   ],
   "source": [
    "print(\"Hello\",end=\" \")\n",
    "print(\"Hi\")"
   ]
  },
  {
   "cell_type": "code",
   "execution_count": 21,
   "id": "373a0b75",
   "metadata": {},
   "outputs": [
    {
     "name": "stdout",
     "output_type": "stream",
     "text": [
      "* * * * * * * \n",
      "* * * * * * * \n",
      "* * * * * * * \n",
      "* * * * * * * \n",
      "* * * * * * * \n",
      "* * * * * * * \n",
      "* * * * * * * \n"
     ]
    }
   ],
   "source": [
    "s = 7\n",
    "for i in range(s):\n",
    "    for j in range(s):\n",
    "        print(\"*\",end=\" \")\n",
    "    print()"
   ]
  },
  {
   "cell_type": "code",
   "execution_count": null,
   "id": "ab4f2ddb",
   "metadata": {},
   "outputs": [],
   "source": [
    "* * * *\n",
    "* * * *\n",
    "* * * *"
   ]
  },
  {
   "cell_type": "code",
   "execution_count": 22,
   "id": "a2c5aa54",
   "metadata": {},
   "outputs": [
    {
     "name": "stdout",
     "output_type": "stream",
     "text": [
      "* * * * \n",
      "* * * * \n",
      "* * * * \n"
     ]
    }
   ],
   "source": [
    "l = 4\n",
    "b = 3\n",
    "for i in range(b):\n",
    "    for j in range(l):\n",
    "        print(\"*\",end=\" \")\n",
    "    print()"
   ]
  },
  {
   "cell_type": "code",
   "execution_count": null,
   "id": "6c735d20",
   "metadata": {},
   "outputs": [],
   "source": [
    "*\n",
    "* *\n",
    "* * * \n",
    "* * * *\n",
    "* * * * *\n",
    "\n",
    "* * * * *\n",
    "* * * *\n",
    "* * *\n",
    "* *\n",
    "*"
   ]
  },
  {
   "cell_type": "code",
   "execution_count": 32,
   "id": "2a3bcc4f",
   "metadata": {},
   "outputs": [
    {
     "name": "stdout",
     "output_type": "stream",
     "text": [
      "* \n",
      "* * \n",
      "* * * \n",
      "* * * * \n",
      "* * * * * \n"
     ]
    }
   ],
   "source": [
    "n = 5\n",
    "for i in range(1,n+1):\n",
    "       for j in range(i):\n",
    "              print(\"*\",end= ' ')\n",
    "       print()"
   ]
  },
  {
   "cell_type": "code",
   "execution_count": 34,
   "id": "093e3b42",
   "metadata": {},
   "outputs": [
    {
     "name": "stdout",
     "output_type": "stream",
     "text": [
      "* \n",
      "* * \n",
      "* * * \n",
      "* * * * \n",
      "* * * * * \n"
     ]
    }
   ],
   "source": [
    "for i in range(1,6):\n",
    "    print(\"* \"*i)\n"
   ]
  },
  {
   "cell_type": "code",
   "execution_count": 23,
   "id": "3a2cefb4",
   "metadata": {},
   "outputs": [
    {
     "name": "stdout",
     "output_type": "stream",
     "text": [
      "* * * * * \n",
      "* * * * \n",
      "* * * \n",
      "* * \n",
      "* \n"
     ]
    }
   ],
   "source": [
    "for i in range(5,0,-1):\n",
    "    print(\"* \"*i)\n"
   ]
  },
  {
   "cell_type": "code",
   "execution_count": 35,
   "id": "45dde4a9",
   "metadata": {},
   "outputs": [
    {
     "name": "stdout",
     "output_type": "stream",
     "text": [
      "* * * * * \n",
      "* * * * \n",
      "* * * \n",
      "* * \n",
      "* \n"
     ]
    }
   ],
   "source": [
    "n = 5\n",
    "for i in range(n,0,-1):\n",
    "       for j in range(i):\n",
    "              print(\"*\",end= ' ')\n",
    "       print()"
   ]
  },
  {
   "cell_type": "code",
   "execution_count": 36,
   "id": "8cf90139",
   "metadata": {},
   "outputs": [
    {
     "name": "stdout",
     "output_type": "stream",
     "text": [
      "* \n",
      "* * \n",
      "* * * \n",
      "* * * * \n",
      "* * * * * \n"
     ]
    }
   ],
   "source": [
    "n = 5\n",
    "for i in range(1,n+1):\n",
    "       for j in range(i):\n",
    "              print(\"*\",end= ' ')\n",
    "       print()"
   ]
  },
  {
   "cell_type": "code",
   "execution_count": null,
   "id": "192a84ef",
   "metadata": {},
   "outputs": [],
   "source": [
    "*\n",
    "* * *\n",
    "* * * * * \n",
    "* * * * * * *"
   ]
  },
  {
   "cell_type": "code",
   "execution_count": 44,
   "id": "504990fc",
   "metadata": {},
   "outputs": [
    {
     "name": "stdout",
     "output_type": "stream",
     "text": [
      "* * * * \n",
      "* * * \n",
      "* * \n",
      "* \n"
     ]
    }
   ],
   "source": [
    "n = 5\n",
    "for i in range(1,5):\n",
    "    for j in range(n,i,-1):\n",
    "        print(\"*\",end= ' ')\n",
    "    print()"
   ]
  },
  {
   "cell_type": "code",
   "execution_count": 54,
   "id": "d573ae58",
   "metadata": {},
   "outputs": [
    {
     "name": "stdout",
     "output_type": "stream",
     "text": [
      "* \n",
      "* * * \n",
      "* * * * * \n",
      "* * * * * * * \n",
      "* * * * * * * * * \n"
     ]
    }
   ],
   "source": [
    "n = 5\n",
    "for i in range(1,n*2,2):\n",
    "    for j in range(1,i+1):\n",
    "        print('*',end=' ')\n",
    "    print('')\n"
   ]
  },
  {
   "cell_type": "code",
   "execution_count": 52,
   "id": "aa93c177",
   "metadata": {},
   "outputs": [
    {
     "name": "stdout",
     "output_type": "stream",
     "text": [
      "* \n",
      "* * * \n",
      "* * * * * \n",
      "* * * * * * * \n",
      "* * * * * * * * * \n"
     ]
    }
   ],
   "source": [
    "n = 5\n",
    "k = 1\n",
    "for i in range(n):\n",
    "    for j in range(k):\n",
    "        print('*',end=' ')\n",
    "    k+=2\n",
    "    print('')"
   ]
  },
  {
   "cell_type": "code",
   "execution_count": 70,
   "id": "ee506a7c",
   "metadata": {},
   "outputs": [
    {
     "name": "stdout",
     "output_type": "stream",
     "text": [
      "   * \n",
      "  * * \n",
      " * * * \n",
      "* * * * \n"
     ]
    }
   ],
   "source": [
    "n=5\n",
    "\n",
    "for i in range(1,n):\n",
    "#     print(\"i is \",i)\n",
    "    for k in range(n-i-1):\n",
    "#         print(\"k is \",k)\n",
    "#     print( )\n",
    "        print(\" \",end='')\n",
    "    for j in range(i):\n",
    "        print('* ',end='')\n",
    "    \n",
    "    print()\n"
   ]
  },
  {
   "cell_type": "code",
   "execution_count": 66,
   "id": "82fff27f",
   "metadata": {},
   "outputs": [
    {
     "name": "stdout",
     "output_type": "stream",
     "text": [
      "     *\n",
      "    * *\n",
      "   * * *\n",
      "  * * * *\n"
     ]
    }
   ],
   "source": [
    "n=5\n",
    "\n",
    "for i in range(1,n):\n",
    "    for k in range(n-i):\n",
    "        print(\" \",end='')\n",
    "    for j in range(i):\n",
    "        print(' *',end='')\n",
    "    \n",
    "    print()\n"
   ]
  },
  {
   "cell_type": "code",
   "execution_count": 72,
   "id": "6d6c638f",
   "metadata": {},
   "outputs": [
    {
     "name": "stdout",
     "output_type": "stream",
     "text": [
      "* * * * * \n",
      " * * * * \n",
      "  * * * \n",
      "   * * \n",
      "    * \n"
     ]
    }
   ],
   "source": [
    "n=5\n",
    "\n",
    "for i in range(n,0,-1):\n",
    "    for k in range(n-i):\n",
    "        print(\" \",end='')\n",
    "    for j in range(i):\n",
    "        print('*',end=' ')\n",
    "    print()"
   ]
  },
  {
   "cell_type": "code",
   "execution_count": 14,
   "id": "506da0ac",
   "metadata": {},
   "outputs": [
    {
     "name": "stdout",
     "output_type": "stream",
     "text": [
      " *** \n",
      "*   *\n",
      "*   *\n",
      "*****\n",
      "*   *\n",
      "*   *\n",
      "*   *\n"
     ]
    }
   ],
   "source": [
    "for row in range(7):\n",
    "    for col in range(5):\n",
    "        if ((col ==0 or col==4) and row!=0):\n",
    "            print(\"*\",end=\"\")\n",
    "        elif ((row ==0 or row ==3) and (col > 0 and col<4)):\n",
    "            print(\"*\",end=\"\")\n",
    "        else:\n",
    "            print(end=\" \")\n",
    "    print()"
   ]
  },
  {
   "cell_type": "code",
   "execution_count": 20,
   "id": "6e92657a",
   "metadata": {},
   "outputs": [
    {
     "name": "stdout",
     "output_type": "stream",
     "text": [
      " *** \n",
      "*   *\n",
      "*   *\n",
      "*****\n",
      "*   *\n",
      "*   *\n",
      "*   *\n"
     ]
    }
   ],
   "source": [
    "for row in range(7):\n",
    "    for col in range(5):\n",
    "        if ((col ==0 or col==4) and row!=0) or ((row ==0 or row ==3) and (col > 0 and col<4)):\n",
    "            print(\"*\",end=\"\")  \n",
    "        else:\n",
    "            print(end=\" \")\n",
    "    print()"
   ]
  },
  {
   "cell_type": "code",
   "execution_count": 21,
   "id": "10a46e33",
   "metadata": {},
   "outputs": [
    {
     "name": "stdout",
     "output_type": "stream",
     "text": [
      "*****\n",
      "*   *\n",
      "*   *\n",
      "*****\n",
      "*   *\n",
      "*   *\n",
      "*   *\n"
     ]
    }
   ],
   "source": [
    "for row in range(7):\n",
    "    for col in range(5):\n",
    "        if (col ==0 or col==4) or ((row ==0 or row ==3) and (col > 0 and col<4)):\n",
    "            print(\"*\",end=\"\")  \n",
    "        else:\n",
    "            print(end=\" \")\n",
    "    print()"
   ]
  },
  {
   "cell_type": "code",
   "execution_count": 25,
   "id": "c5084359",
   "metadata": {},
   "outputs": [
    {
     "name": "stdout",
     "output_type": "stream",
     "text": [
      "*****\n",
      "*   *\n",
      "*   *\n",
      "*****\n",
      "*   *\n",
      "*   *\n",
      "*****\n"
     ]
    }
   ],
   "source": [
    "for row in range(7):\n",
    "    for col in range(5):\n",
    "        if (col ==0 or col==4) or ((row ==0 or row ==3 or row==6) and (col > 0 and col<4)):\n",
    "            print(\"*\",end=\"\")  \n",
    "        else:\n",
    "            print(end=\" \")\n",
    "    print()"
   ]
  },
  {
   "cell_type": "code",
   "execution_count": 27,
   "id": "d3bfcfae",
   "metadata": {},
   "outputs": [
    {
     "name": "stdout",
     "output_type": "stream",
     "text": [
      "**** \n",
      "*   *\n",
      "*   *\n",
      "**** \n",
      "*   *\n",
      "*   *\n",
      "**** \n"
     ]
    }
   ],
   "source": [
    "for row in range(7):\n",
    "    for col in range(5):\n",
    "        if (col ==0) or (col==4 and (row!=0 and row!=3 and row!=6)) or ((row ==0 or row ==3 or row==6) and (col > 0 and col<4)):\n",
    "            print(\"*\",end=\"\")  \n",
    "        else:\n",
    "            print(end=\" \")\n",
    "    print()"
   ]
  },
  {
   "cell_type": "code",
   "execution_count": 33,
   "id": "ed167073",
   "metadata": {},
   "outputs": [
    {
     "name": "stdout",
     "output_type": "stream",
     "text": [
      "***** \n",
      "*     \n",
      "*     \n",
      "*  ***\n",
      "*   * \n",
      "*   * \n",
      "***** \n"
     ]
    }
   ],
   "source": [
    "for row in range(7):\n",
    "    for col in range(6):\n",
    "        if col ==0 or (col ==4 and (row!=1 and row!=2)):\n",
    "            print(\"*\",end=\"\")  \n",
    "        elif ((row ==0 or row==6) and (col > 0 and col<4)):\n",
    "            print(\"*\",end=\"\")\n",
    "        elif (row==3 and (col==3 or col==5)):\n",
    "            print(\"*\",end=\"\")\n",
    "        else:\n",
    "            print(end=\" \")\n",
    "    print()"
   ]
  },
  {
   "cell_type": "code",
   "execution_count": 35,
   "id": "9bd9b280",
   "metadata": {},
   "outputs": [
    {
     "name": "stdout",
     "output_type": "stream",
     "text": [
      " **** \n",
      "*     \n",
      "*     \n",
      "*  ***\n",
      "*   * \n",
      "*   * \n",
      " **** \n"
     ]
    }
   ],
   "source": [
    "for row in range(7):\n",
    "    for col in range(6):\n",
    "        if (col ==0 and (row!=0 and row!=6)) or (col ==4 and (row!=1 and row!=2)):\n",
    "            print(\"*\",end=\"\")  \n",
    "        elif ((row ==0 or row==6) and (col > 0 and col<4)):\n",
    "            print(\"*\",end=\"\")\n",
    "        elif (row==3 and (col==3 or col==5)):\n",
    "            print(\"*\",end=\"\")\n",
    "        else:\n",
    "            print(end=\" \")\n",
    "    print()"
   ]
  },
  {
   "cell_type": "markdown",
   "id": "0b44eda0",
   "metadata": {},
   "source": [
    "# While loop"
   ]
  },
  {
   "cell_type": "code",
   "execution_count": null,
   "id": "1f0cf5c3",
   "metadata": {},
   "outputs": [],
   "source": [
    "var inti\n",
    "while (condition):\n",
    "    statement/ action\n",
    "    var increment / dcrement\n",
    "Rest of the code"
   ]
  },
  {
   "cell_type": "code",
   "execution_count": 2,
   "id": "7bb81d33",
   "metadata": {},
   "outputs": [
    {
     "name": "stdout",
     "output_type": "stream",
     "text": [
      "1\n",
      "2\n",
      "3\n",
      "4\n",
      "5\n",
      "6\n",
      "7\n",
      "8\n",
      "9\n",
      "10\n",
      "outside the while a is  11\n"
     ]
    }
   ],
   "source": [
    "a = 1\n",
    "while a<=10:\n",
    "    print(a)\n",
    "    a +=1\n",
    "\n",
    "print(\"outside the while a is \",a)"
   ]
  },
  {
   "cell_type": "code",
   "execution_count": 3,
   "id": "30113d93",
   "metadata": {},
   "outputs": [
    {
     "data": {
      "text/plain": [
       "False"
      ]
     },
     "execution_count": 3,
     "metadata": {},
     "output_type": "execute_result"
    }
   ],
   "source": [
    "11 <=10"
   ]
  },
  {
   "cell_type": "code",
   "execution_count": 4,
   "id": "e36f6480",
   "metadata": {},
   "outputs": [
    {
     "name": "stdout",
     "output_type": "stream",
     "text": [
      "1\n",
      "3\n",
      "5\n",
      "7\n",
      "9\n",
      "outside the while a is  11\n"
     ]
    }
   ],
   "source": [
    "a = 1\n",
    "while a<=10:\n",
    "    print(a)\n",
    "    a +=2\n",
    "\n",
    "print(\"outside the while a is \",a)"
   ]
  },
  {
   "cell_type": "code",
   "execution_count": 5,
   "id": "633cdf03",
   "metadata": {},
   "outputs": [
    {
     "name": "stdout",
     "output_type": "stream",
     "text": [
      "1\n",
      "3\n",
      "5\n",
      "7\n",
      "9\n",
      "outside the while a is  11\n"
     ]
    }
   ],
   "source": [
    "a = 1\n",
    "while a<=10:\n",
    "    print(a)\n",
    "    a +=2\n",
    "\n",
    "print(\"outside the while a is \",a)"
   ]
  },
  {
   "cell_type": "code",
   "execution_count": 7,
   "id": "94e087c6",
   "metadata": {},
   "outputs": [
    {
     "name": "stdout",
     "output_type": "stream",
     "text": [
      "10\n",
      "9\n",
      "8\n",
      "7\n",
      "6\n",
      "5\n",
      "4\n",
      "3\n",
      "2\n",
      "1\n",
      "0\n",
      "outside the while a is  -1\n"
     ]
    }
   ],
   "source": [
    "a = 10\n",
    "while a>=0:\n",
    "    print(a)\n",
    "    a-=1\n",
    "    \n",
    "print(\"outside the while a is \",a)"
   ]
  },
  {
   "cell_type": "code",
   "execution_count": 9,
   "id": "b86741d8",
   "metadata": {},
   "outputs": [
    {
     "name": "stdout",
     "output_type": "stream",
     "text": [
      "10\n",
      "9\n",
      "8\n",
      "7\n",
      "6\n",
      "5\n",
      "4\n",
      "3\n",
      "2\n",
      "1\n",
      "0\n",
      "Now i am in else block my value is  -1\n",
      "outside the while a is  -1\n"
     ]
    }
   ],
   "source": [
    "a = 10\n",
    "while a>=0:\n",
    "    print(a)\n",
    "    a-=1\n",
    "\n",
    "else:\n",
    "    print(\"Now i am in else block my value is \",a)\n",
    "    \n",
    "print(\"outside the while a is \",a)"
   ]
  },
  {
   "cell_type": "code",
   "execution_count": 13,
   "id": "2bdbf70f",
   "metadata": {},
   "outputs": [
    {
     "name": "stdout",
     "output_type": "stream",
     "text": [
      "a is odd  1\n",
      "a is even 2\n",
      "a is odd  3\n",
      "a is even 4\n",
      "a is odd  5\n",
      "a is even 6\n",
      "a is odd  7\n",
      "a is even 8\n",
      "a is odd  9\n",
      "a is even 10\n"
     ]
    }
   ],
   "source": [
    "a = 1\n",
    "while a<=10:\n",
    "    if a%2 ==0:\n",
    "        print(\"a is even\",a)\n",
    "        a+=1\n",
    "    else:\n",
    "        print(\"a is odd \",a)\n",
    "        a+=1"
   ]
  },
  {
   "cell_type": "code",
   "execution_count": 16,
   "id": "c13ceaa7",
   "metadata": {},
   "outputs": [
    {
     "name": "stdout",
     "output_type": "stream",
     "text": [
      "a is odd  1\n",
      "a is even 2\n",
      "a is odd  3\n",
      "a is even 4\n",
      "a is odd  5\n",
      "a is even 6\n",
      "a is odd  7\n",
      "a is even 8\n",
      "a is odd  9\n",
      "a is even 10\n",
      "Now i am outside 10\n"
     ]
    }
   ],
   "source": [
    "a = 0\n",
    "while a<10:\n",
    "    a+=1\n",
    "    if a%2 ==0:\n",
    "        print(\"a is even\",a)\n",
    "        \n",
    "    else:\n",
    "        print(\"a is odd \",a)\n",
    "        \n",
    "print(\"Now i am outside\",a)"
   ]
  },
  {
   "cell_type": "code",
   "execution_count": 25,
   "id": "3ea7c7f4",
   "metadata": {},
   "outputs": [
    {
     "name": "stdout",
     "output_type": "stream",
     "text": [
      "10\n",
      "19\n",
      "27\n",
      "34\n",
      "40\n",
      "45\n",
      "49\n",
      "52\n",
      "54\n",
      "55\n",
      "Sum of first n natural number is  55\n"
     ]
    }
   ],
   "source": [
    "n = 10\n",
    "s = 0\n",
    "while n>0:\n",
    "    s+=n\n",
    "    n-=1\n",
    "    print(s)\n",
    "print(\"Sum of first n natural number is \",s)"
   ]
  },
  {
   "cell_type": "code",
   "execution_count": 20,
   "id": "efc0691b",
   "metadata": {},
   "outputs": [
    {
     "data": {
      "text/plain": [
       "True"
      ]
     },
     "execution_count": 20,
     "metadata": {},
     "output_type": "execute_result"
    }
   ],
   "source": [
    "9>0"
   ]
  },
  {
   "cell_type": "code",
   "execution_count": 27,
   "id": "29e4c81e",
   "metadata": {},
   "outputs": [
    {
     "name": "stdout",
     "output_type": "stream",
     "text": [
      "Sum of first n natural number is  55\n"
     ]
    }
   ],
   "source": [
    "n = 10\n",
    "s = 0\n",
    "i = 1\n",
    "while i <=n:\n",
    "    s+=i\n",
    "    i+=1\n",
    "\n",
    "print(\"Sum of first n natural number is \",s)"
   ]
  },
  {
   "cell_type": "code",
   "execution_count": 29,
   "id": "5059fa2f",
   "metadata": {},
   "outputs": [
    {
     "name": "stdout",
     "output_type": "stream",
     "text": [
      "Sum of first n natural number is  120\n"
     ]
    }
   ],
   "source": [
    "n = 5\n",
    "f = 1\n",
    "i = 1\n",
    "while i <=n:\n",
    "    f*=i\n",
    "    i+=1\n",
    "\n",
    "print(\"Sum of first n natural number is \",f)"
   ]
  },
  {
   "cell_type": "code",
   "execution_count": 32,
   "id": "60526632",
   "metadata": {},
   "outputs": [
    {
     "name": "stdout",
     "output_type": "stream",
     "text": [
      "Enter your input i\n",
      "Enter your input p\n",
      "Enter your input r\n",
      "Enter your input c\n",
      "Enter your input s\n",
      "Enter your input q\n",
      "Now i am done\n"
     ]
    }
   ],
   "source": [
    "user = 0\n",
    "while user != \"q\":\n",
    "    user = input(\"Enter your input \")\n",
    "print(\"Now i am done\")"
   ]
  },
  {
   "cell_type": "code",
   "execution_count": null,
   "id": "e1d8fa36",
   "metadata": {},
   "outputs": [],
   "source": [
    "while True:\n",
    "    print(\"Infinite\")"
   ]
  },
  {
   "cell_type": "code",
   "execution_count": 33,
   "id": "0b5a7e37",
   "metadata": {},
   "outputs": [
    {
     "name": "stdout",
     "output_type": "stream",
     "text": [
      "1\n",
      "2\n",
      "3\n",
      "Bye\n"
     ]
    }
   ],
   "source": [
    "i = 0\n",
    "while True:\n",
    "    i+=1\n",
    "    print(i)\n",
    "    if i ==3:\n",
    "        break\n",
    "        \n",
    "print(\"Bye\")"
   ]
  },
  {
   "cell_type": "code",
   "execution_count": 40,
   "id": "5efc10f8",
   "metadata": {},
   "outputs": [
    {
     "name": "stdout",
     "output_type": "stream",
     "text": [
      "1\n",
      "2\n",
      "3\n",
      "bye\n"
     ]
    }
   ],
   "source": [
    "for i in range(1,11):\n",
    "    print(i)\n",
    "    if i ==3:\n",
    "        break\n",
    "print(\"bye\")\n"
   ]
  },
  {
   "cell_type": "code",
   "execution_count": 44,
   "id": "34fe87b3",
   "metadata": {},
   "outputs": [
    {
     "name": "stdout",
     "output_type": "stream",
     "text": [
      "1\n",
      "2\n",
      "4\n",
      "6\n",
      "7\n",
      "8\n",
      "9\n",
      "10\n",
      "bye\n"
     ]
    }
   ],
   "source": [
    "for i in range(1,11):\n",
    "    if i ==5 or i ==3:\n",
    "        continue\n",
    "    else:\n",
    "        print(i)\n",
    "print(\"bye\")\n"
   ]
  },
  {
   "cell_type": "code",
   "execution_count": 48,
   "id": "cbf0166e",
   "metadata": {},
   "outputs": [
    {
     "name": "stdout",
     "output_type": "stream",
     "text": [
      "1\n",
      "2\n",
      "4\n",
      "6\n",
      "7\n",
      "8\n",
      "9\n",
      "10\n",
      "11\n"
     ]
    }
   ],
   "source": [
    "i = 0\n",
    "while i <=10:\n",
    "    i+=1\n",
    "    if i ==3 or i ==5:\n",
    "        continue\n",
    "    else:\n",
    "        print(i)"
   ]
  },
  {
   "cell_type": "code",
   "execution_count": 50,
   "id": "0e43e129",
   "metadata": {},
   "outputs": [
    {
     "name": "stdout",
     "output_type": "stream",
     "text": [
      "Hello\n"
     ]
    }
   ],
   "source": [
    "for i in range(10):\n",
    "    pass\n",
    "print(\"Hello\")"
   ]
  },
  {
   "cell_type": "code",
   "execution_count": 51,
   "id": "bab37c15",
   "metadata": {},
   "outputs": [
    {
     "name": "stdout",
     "output_type": "stream",
     "text": [
      "Outter loop 1\n",
      "Inner loop 1\n",
      "Inner loop 2\n",
      "Inner loop 3\n",
      "Outter loop 2\n",
      "Inner loop 1\n",
      "Inner loop 2\n",
      "Inner loop 3\n",
      "Outter loop 3\n",
      "Inner loop 1\n",
      "Inner loop 2\n",
      "Inner loop 3\n",
      "Outside both loop\n"
     ]
    }
   ],
   "source": [
    "i =  1\n",
    "while i <=3:\n",
    "    print(\"Outter loop\",i)\n",
    "    i+=1\n",
    "    j = 1\n",
    "    while j <=3:\n",
    "        print(\"Inner loop\",j)\n",
    "        j+=1\n",
    "        \n",
    "        \n",
    "        \n",
    "print(\"Outside both loop\")"
   ]
  },
  {
   "cell_type": "code",
   "execution_count": null,
   "id": "da024c3a",
   "metadata": {},
   "outputs": [],
   "source": [
    "*\n",
    "* *\n",
    "* * *\n",
    "* * * *"
   ]
  },
  {
   "cell_type": "code",
   "execution_count": 54,
   "id": "91989ed6",
   "metadata": {},
   "outputs": [
    {
     "name": "stdout",
     "output_type": "stream",
     "text": [
      "* \n",
      "* * \n",
      "* * * \n",
      "* * * * \n",
      "* * * * * \n"
     ]
    }
   ],
   "source": [
    "k=i=5\n",
    "\n",
    "while i>0:\n",
    "    j=k-i+1\n",
    "    while j>0:\n",
    "        print('*',end=' ')\n",
    "        j-=1\n",
    "    print()\n",
    "    i-=1\n"
   ]
  },
  {
   "cell_type": "code",
   "execution_count": 56,
   "id": "d14ff493",
   "metadata": {},
   "outputs": [
    {
     "name": "stdout",
     "output_type": "stream",
     "text": [
      "* \n",
      "* * \n",
      "* * * \n",
      "* * * * \n",
      "* * * * * \n"
     ]
    }
   ],
   "source": [
    "num = 5\n",
    "row = 0\n",
    "while row <num:\n",
    "    star = row+1\n",
    "    while star >0:\n",
    "        print(\"*\",end=\" \")\n",
    "        star = star -1\n",
    "    row+=1\n",
    "    print()\n",
    "    "
   ]
  },
  {
   "cell_type": "code",
   "execution_count": 57,
   "id": "fe21cbdb",
   "metadata": {},
   "outputs": [
    {
     "name": "stdout",
     "output_type": "stream",
     "text": [
      "   * \n",
      "  * * \n",
      " * * * \n",
      "* * * * \n"
     ]
    }
   ],
   "source": [
    "num = 4\n",
    "row = 0\n",
    "while row <num:\n",
    "    space = num - row -1\n",
    "    while space >0:\n",
    "        print(end=\" \")\n",
    "        space -= 1\n",
    "    star = row +1\n",
    "    while star >0:\n",
    "        print(\"*\",end=\" \")\n",
    "        star -=1\n",
    "        \n",
    "    row +=1\n",
    "    print()"
   ]
  },
  {
   "cell_type": "code",
   "execution_count": 5,
   "id": "0b63164d",
   "metadata": {},
   "outputs": [],
   "source": [
    "a = 'Hello'"
   ]
  },
  {
   "cell_type": "code",
   "execution_count": 6,
   "id": "9ff2ae02",
   "metadata": {},
   "outputs": [
    {
     "data": {
      "text/plain": [
       "'Hello'"
      ]
     },
     "execution_count": 6,
     "metadata": {},
     "output_type": "execute_result"
    }
   ],
   "source": [
    "a"
   ]
  },
  {
   "cell_type": "code",
   "execution_count": 7,
   "id": "52d878cc",
   "metadata": {},
   "outputs": [],
   "source": [
    "b = \"Hello\""
   ]
  },
  {
   "cell_type": "code",
   "execution_count": 8,
   "id": "d8754cb7",
   "metadata": {},
   "outputs": [
    {
     "data": {
      "text/plain": [
       "str"
      ]
     },
     "execution_count": 8,
     "metadata": {},
     "output_type": "execute_result"
    }
   ],
   "source": [
    "type(a)"
   ]
  },
  {
   "cell_type": "code",
   "execution_count": 9,
   "id": "31ed8269",
   "metadata": {},
   "outputs": [
    {
     "data": {
      "text/plain": [
       "str"
      ]
     },
     "execution_count": 9,
     "metadata": {},
     "output_type": "execute_result"
    }
   ],
   "source": [
    "type(b)"
   ]
  },
  {
   "cell_type": "code",
   "execution_count": 10,
   "id": "4570f25e",
   "metadata": {},
   "outputs": [],
   "source": [
    "c = '''Hello'''"
   ]
  },
  {
   "cell_type": "code",
   "execution_count": 11,
   "id": "ff3ba15c",
   "metadata": {},
   "outputs": [
    {
     "data": {
      "text/plain": [
       "'Hello'"
      ]
     },
     "execution_count": 11,
     "metadata": {},
     "output_type": "execute_result"
    }
   ],
   "source": [
    "c"
   ]
  },
  {
   "cell_type": "code",
   "execution_count": 12,
   "id": "70428b31",
   "metadata": {},
   "outputs": [
    {
     "data": {
      "text/plain": [
       "str"
      ]
     },
     "execution_count": 12,
     "metadata": {},
     "output_type": "execute_result"
    }
   ],
   "source": [
    "type(c)"
   ]
  },
  {
   "cell_type": "code",
   "execution_count": 13,
   "id": "192aeea6",
   "metadata": {},
   "outputs": [],
   "source": [
    "d = \"\"\" Hello \"\"\""
   ]
  },
  {
   "cell_type": "code",
   "execution_count": 14,
   "id": "63c0278d",
   "metadata": {},
   "outputs": [
    {
     "data": {
      "text/plain": [
       "' Hello '"
      ]
     },
     "execution_count": 14,
     "metadata": {},
     "output_type": "execute_result"
    }
   ],
   "source": [
    "d"
   ]
  },
  {
   "cell_type": "code",
   "execution_count": 15,
   "id": "934b797b",
   "metadata": {},
   "outputs": [
    {
     "ename": "SyntaxError",
     "evalue": "EOL while scanning string literal (<ipython-input-15-9a137e444cd9>, line 1)",
     "output_type": "error",
     "traceback": [
      "\u001b[1;36m  File \u001b[1;32m\"<ipython-input-15-9a137e444cd9>\"\u001b[1;36m, line \u001b[1;32m1\u001b[0m\n\u001b[1;33m    b = \"Hello, Welcome to\u001b[0m\n\u001b[1;37m                           ^\u001b[0m\n\u001b[1;31mSyntaxError\u001b[0m\u001b[1;31m:\u001b[0m EOL while scanning string literal\n"
     ]
    }
   ],
   "source": [
    "b = \"Hello, Welcome to \n",
    "    The World of Python\""
   ]
  },
  {
   "cell_type": "code",
   "execution_count": 16,
   "id": "fc7a7606",
   "metadata": {},
   "outputs": [
    {
     "ename": "SyntaxError",
     "evalue": "EOL while scanning string literal (<ipython-input-16-3025c9a3c9dd>, line 1)",
     "output_type": "error",
     "traceback": [
      "\u001b[1;36m  File \u001b[1;32m\"<ipython-input-16-3025c9a3c9dd>\"\u001b[1;36m, line \u001b[1;32m1\u001b[0m\n\u001b[1;33m    b = 'Hello, Welcome to\u001b[0m\n\u001b[1;37m                           ^\u001b[0m\n\u001b[1;31mSyntaxError\u001b[0m\u001b[1;31m:\u001b[0m EOL while scanning string literal\n"
     ]
    }
   ],
   "source": [
    "b = 'Hello, Welcome to \n",
    "    The World of Python'"
   ]
  },
  {
   "cell_type": "code",
   "execution_count": 21,
   "id": "083b0a24",
   "metadata": {},
   "outputs": [],
   "source": [
    "b = \"\"\"Hello, Welcome to \n",
    "The World of Python\"\"\""
   ]
  },
  {
   "cell_type": "code",
   "execution_count": 22,
   "id": "35e4fe5c",
   "metadata": {},
   "outputs": [
    {
     "name": "stdout",
     "output_type": "stream",
     "text": [
      "Hello, Welcome to \n",
      "The World of Python\n"
     ]
    }
   ],
   "source": [
    "print(b)"
   ]
  },
  {
   "cell_type": "code",
   "execution_count": 24,
   "id": "4cf5f999",
   "metadata": {},
   "outputs": [],
   "source": [
    "a = \"I'm learning Python\""
   ]
  },
  {
   "cell_type": "code",
   "execution_count": 25,
   "id": "217e8823",
   "metadata": {},
   "outputs": [
    {
     "data": {
      "text/plain": [
       "\"I'm learning Python\""
      ]
     },
     "execution_count": 25,
     "metadata": {},
     "output_type": "execute_result"
    }
   ],
   "source": [
    "a"
   ]
  },
  {
   "cell_type": "code",
   "execution_count": 26,
   "id": "a2dd7605",
   "metadata": {},
   "outputs": [],
   "source": [
    "d = \"Brillica\""
   ]
  },
  {
   "cell_type": "code",
   "execution_count": 30,
   "id": "15694e77",
   "metadata": {},
   "outputs": [
    {
     "data": {
      "text/plain": [
       "'a'"
      ]
     },
     "execution_count": 30,
     "metadata": {},
     "output_type": "execute_result"
    }
   ],
   "source": [
    "d[7]"
   ]
  },
  {
   "cell_type": "code",
   "execution_count": 31,
   "id": "17a18e17",
   "metadata": {},
   "outputs": [
    {
     "data": {
      "text/plain": [
       "'a'"
      ]
     },
     "execution_count": 31,
     "metadata": {},
     "output_type": "execute_result"
    }
   ],
   "source": [
    "d[-1]"
   ]
  },
  {
   "cell_type": "code",
   "execution_count": 32,
   "id": "a4797455",
   "metadata": {},
   "outputs": [
    {
     "data": {
      "text/plain": [
       "'B'"
      ]
     },
     "execution_count": 32,
     "metadata": {},
     "output_type": "execute_result"
    }
   ],
   "source": [
    "d[0]"
   ]
  },
  {
   "cell_type": "code",
   "execution_count": 33,
   "id": "926d55b5",
   "metadata": {},
   "outputs": [
    {
     "data": {
      "text/plain": [
       "'B'"
      ]
     },
     "execution_count": 33,
     "metadata": {},
     "output_type": "execute_result"
    }
   ],
   "source": [
    "d[-8]"
   ]
  },
  {
   "cell_type": "code",
   "execution_count": null,
   "id": "ca78a965",
   "metadata": {},
   "outputs": [],
   "source": [
    "d[start:stop:step]"
   ]
  },
  {
   "cell_type": "code",
   "execution_count": 35,
   "id": "1fd02454",
   "metadata": {},
   "outputs": [
    {
     "data": {
      "text/plain": [
       "'Bri'"
      ]
     },
     "execution_count": 35,
     "metadata": {},
     "output_type": "execute_result"
    }
   ],
   "source": [
    "d[0:3:1]"
   ]
  },
  {
   "cell_type": "code",
   "execution_count": 36,
   "id": "85d52efd",
   "metadata": {},
   "outputs": [],
   "source": [
    "b = \"Hello, Welcome to The World of Python\""
   ]
  },
  {
   "cell_type": "code",
   "execution_count": 37,
   "id": "5d51f1af",
   "metadata": {},
   "outputs": [
    {
     "data": {
      "text/plain": [
       "'Hello, Welcome to The World of Python'"
      ]
     },
     "execution_count": 37,
     "metadata": {},
     "output_type": "execute_result"
    }
   ],
   "source": [
    "b"
   ]
  },
  {
   "cell_type": "code",
   "execution_count": 43,
   "id": "66930e67",
   "metadata": {},
   "outputs": [
    {
     "data": {
      "text/plain": [
       "'nohtyP fo dlroW ehT ot emocleW ,olleH'"
      ]
     },
     "execution_count": 43,
     "metadata": {},
     "output_type": "execute_result"
    }
   ],
   "source": [
    "b[-1:-38:-1]"
   ]
  },
  {
   "cell_type": "code",
   "execution_count": 49,
   "id": "b91417eb",
   "metadata": {},
   "outputs": [
    {
     "data": {
      "text/plain": [
       "'nohtyP fo dlroW ehT ot emocleW ,olleH'"
      ]
     },
     "execution_count": 49,
     "metadata": {},
     "output_type": "execute_result"
    }
   ],
   "source": [
    "b[::-1]"
   ]
  },
  {
   "cell_type": "code",
   "execution_count": 41,
   "id": "1bbfa9e2",
   "metadata": {},
   "outputs": [
    {
     "data": {
      "text/plain": [
       "37"
      ]
     },
     "execution_count": 41,
     "metadata": {},
     "output_type": "execute_result"
    }
   ],
   "source": [
    "len(b)"
   ]
  },
  {
   "cell_type": "code",
   "execution_count": 46,
   "id": "7fa485bc",
   "metadata": {},
   "outputs": [],
   "source": [
    "# b[-37:-1:1]"
   ]
  },
  {
   "cell_type": "code",
   "execution_count": 51,
   "id": "c2ad5ed2",
   "metadata": {},
   "outputs": [],
   "source": [
    "# b[39]"
   ]
  },
  {
   "cell_type": "code",
   "execution_count": 53,
   "id": "0f4c37b8",
   "metadata": {},
   "outputs": [],
   "source": [
    "# b[1.5]"
   ]
  },
  {
   "cell_type": "code",
   "execution_count": 55,
   "id": "2f409603",
   "metadata": {},
   "outputs": [
    {
     "ename": "TypeError",
     "evalue": "'str' object does not support item assignment",
     "output_type": "error",
     "traceback": [
      "\u001b[1;31m---------------------------------------------------------------------------\u001b[0m",
      "\u001b[1;31mTypeError\u001b[0m                                 Traceback (most recent call last)",
      "\u001b[1;32m<ipython-input-55-7c92d688edec>\u001b[0m in \u001b[0;36m<module>\u001b[1;34m\u001b[0m\n\u001b[1;32m----> 1\u001b[1;33m \u001b[0mb\u001b[0m\u001b[1;33m[\u001b[0m\u001b[1;36m0\u001b[0m\u001b[1;33m]\u001b[0m \u001b[1;33m=\u001b[0m \u001b[1;34m\"h\"\u001b[0m\u001b[1;33m\u001b[0m\u001b[1;33m\u001b[0m\u001b[0m\n\u001b[0m",
      "\u001b[1;31mTypeError\u001b[0m: 'str' object does not support item assignment"
     ]
    }
   ],
   "source": [
    "b[0] = \"h\""
   ]
  },
  {
   "cell_type": "code",
   "execution_count": 56,
   "id": "d36fd2e9",
   "metadata": {},
   "outputs": [
    {
     "data": {
      "text/plain": [
       "'Hello, Welcome to The World of Python'"
      ]
     },
     "execution_count": 56,
     "metadata": {},
     "output_type": "execute_result"
    }
   ],
   "source": [
    "b"
   ]
  },
  {
   "cell_type": "code",
   "execution_count": 57,
   "id": "c7fb348f",
   "metadata": {},
   "outputs": [],
   "source": [
    "b = \"hello\""
   ]
  },
  {
   "cell_type": "code",
   "execution_count": 58,
   "id": "e6a15502",
   "metadata": {},
   "outputs": [
    {
     "data": {
      "text/plain": [
       "'hello'"
      ]
     },
     "execution_count": 58,
     "metadata": {},
     "output_type": "execute_result"
    }
   ],
   "source": [
    "b"
   ]
  },
  {
   "cell_type": "code",
   "execution_count": 59,
   "id": "4f9641e7",
   "metadata": {},
   "outputs": [
    {
     "ename": "TypeError",
     "evalue": "'str' object doesn't support item deletion",
     "output_type": "error",
     "traceback": [
      "\u001b[1;31m---------------------------------------------------------------------------\u001b[0m",
      "\u001b[1;31mTypeError\u001b[0m                                 Traceback (most recent call last)",
      "\u001b[1;32m<ipython-input-59-0cde02571307>\u001b[0m in \u001b[0;36m<module>\u001b[1;34m\u001b[0m\n\u001b[1;32m----> 1\u001b[1;33m \u001b[1;32mdel\u001b[0m \u001b[0mb\u001b[0m\u001b[1;33m[\u001b[0m\u001b[1;36m0\u001b[0m\u001b[1;33m]\u001b[0m\u001b[1;33m\u001b[0m\u001b[1;33m\u001b[0m\u001b[0m\n\u001b[0m",
      "\u001b[1;31mTypeError\u001b[0m: 'str' object doesn't support item deletion"
     ]
    }
   ],
   "source": [
    "del b[0]"
   ]
  },
  {
   "cell_type": "code",
   "execution_count": 60,
   "id": "5ed46564",
   "metadata": {},
   "outputs": [],
   "source": [
    "a = \"hi\"\n",
    "b =\"hello\""
   ]
  },
  {
   "cell_type": "code",
   "execution_count": 61,
   "id": "2c263967",
   "metadata": {},
   "outputs": [
    {
     "data": {
      "text/plain": [
       "'hihello'"
      ]
     },
     "execution_count": 61,
     "metadata": {},
     "output_type": "execute_result"
    }
   ],
   "source": [
    "a+b"
   ]
  },
  {
   "cell_type": "code",
   "execution_count": 62,
   "id": "86f7eb66",
   "metadata": {},
   "outputs": [
    {
     "data": {
      "text/plain": [
       "'hihihihihi'"
      ]
     },
     "execution_count": 62,
     "metadata": {},
     "output_type": "execute_result"
    }
   ],
   "source": [
    "a * 5"
   ]
  },
  {
   "cell_type": "code",
   "execution_count": 65,
   "id": "203e66f5",
   "metadata": {},
   "outputs": [],
   "source": [
    "a = ('Hello '\n",
    "    'World')"
   ]
  },
  {
   "cell_type": "code",
   "execution_count": 66,
   "id": "ab3c2931",
   "metadata": {},
   "outputs": [
    {
     "data": {
      "text/plain": [
       "'Hello World'"
      ]
     },
     "execution_count": 66,
     "metadata": {},
     "output_type": "execute_result"
    }
   ],
   "source": [
    "a"
   ]
  },
  {
   "cell_type": "code",
   "execution_count": 67,
   "id": "9da179e2",
   "metadata": {},
   "outputs": [
    {
     "data": {
      "text/plain": [
       "11"
      ]
     },
     "execution_count": 67,
     "metadata": {},
     "output_type": "execute_result"
    }
   ],
   "source": [
    "len(a)"
   ]
  },
  {
   "cell_type": "code",
   "execution_count": 70,
   "id": "44c74f92",
   "metadata": {},
   "outputs": [
    {
     "name": "stdout",
     "output_type": "stream",
     "text": [
      "Length of a string  11\n"
     ]
    }
   ],
   "source": [
    "c = 0\n",
    "for i in a:\n",
    "    c+=1\n",
    "print(\"Length of a string \",c)"
   ]
  },
  {
   "cell_type": "code",
   "execution_count": 73,
   "id": "03e16f5f",
   "metadata": {},
   "outputs": [
    {
     "name": "stdout",
     "output_type": "stream",
     "text": [
      "Count of o  2\n"
     ]
    }
   ],
   "source": [
    "c = 0\n",
    "for i in a:\n",
    "    if i == \"o\":\n",
    "        c+=1\n",
    "print(\"Count of o \",c)"
   ]
  },
  {
   "cell_type": "code",
   "execution_count": 76,
   "id": "082a5a06",
   "metadata": {},
   "outputs": [
    {
     "data": {
      "text/plain": [
       "False"
      ]
     },
     "execution_count": 76,
     "metadata": {},
     "output_type": "execute_result"
    }
   ],
   "source": [
    "\"t\" in \"Hello\""
   ]
  },
  {
   "cell_type": "code",
   "execution_count": 77,
   "id": "5c7d6e42",
   "metadata": {},
   "outputs": [
    {
     "data": {
      "text/plain": [
       "True"
      ]
     },
     "execution_count": 77,
     "metadata": {},
     "output_type": "execute_result"
    }
   ],
   "source": [
    "\"t\" not in \"Hello\""
   ]
  },
  {
   "cell_type": "code",
   "execution_count": 78,
   "id": "5c3f3f47",
   "metadata": {},
   "outputs": [
    {
     "data": {
      "text/plain": [
       "'Hello World'"
      ]
     },
     "execution_count": 78,
     "metadata": {},
     "output_type": "execute_result"
    }
   ],
   "source": [
    "a"
   ]
  },
  {
   "cell_type": "code",
   "execution_count": 82,
   "id": "5d64c5cd",
   "metadata": {},
   "outputs": [
    {
     "name": "stdout",
     "output_type": "stream",
     "text": [
      "At index 0 Value is H\n",
      "At index 1 Value is e\n",
      "At index 2 Value is l\n",
      "At index 3 Value is l\n",
      "At index 4 Value is o\n",
      "At index 5 Value is  \n",
      "At index 6 Value is W\n",
      "At index 7 Value is o\n",
      "At index 8 Value is r\n",
      "At index 9 Value is l\n",
      "At index 10 Value is d\n"
     ]
    }
   ],
   "source": [
    "for i in range(len(a)):\n",
    "    print(\"At index\",i,\"Value is\",a[i])"
   ]
  },
  {
   "cell_type": "code",
   "execution_count": 84,
   "id": "acd1c447",
   "metadata": {},
   "outputs": [
    {
     "name": "stdout",
     "output_type": "stream",
     "text": [
      "At index 0 Value is H\n",
      "At index 1 Value is e\n",
      "At index 2 Value is l\n",
      "At index 3 Value is l\n",
      "At index 4 Value is o\n",
      "At index 5 Value is  \n",
      "At index 6 Value is W\n",
      "At index 7 Value is o\n",
      "At index 8 Value is r\n",
      "At index 9 Value is l\n",
      "At index 10 Value is d\n"
     ]
    }
   ],
   "source": [
    "for i,j in enumerate(a):\n",
    "    print(\"At index\",i,\"Value is\",j)"
   ]
  },
  {
   "cell_type": "code",
   "execution_count": 85,
   "id": "258eebbd",
   "metadata": {},
   "outputs": [
    {
     "ename": "SyntaxError",
     "evalue": "invalid syntax (<ipython-input-85-56fcbdeaaf75>, line 1)",
     "output_type": "error",
     "traceback": [
      "\u001b[1;36m  File \u001b[1;32m\"<ipython-input-85-56fcbdeaaf75>\"\u001b[1;36m, line \u001b[1;32m1\u001b[0m\n\u001b[1;33m    print(\"He Said, \"What's there ?\")\u001b[0m\n\u001b[1;37m                     ^\u001b[0m\n\u001b[1;31mSyntaxError\u001b[0m\u001b[1;31m:\u001b[0m invalid syntax\n"
     ]
    }
   ],
   "source": [
    "print(\"He Said, \"What's there ?\")"
   ]
  },
  {
   "cell_type": "code",
   "execution_count": 86,
   "id": "cb83bb8f",
   "metadata": {},
   "outputs": [
    {
     "name": "stdout",
     "output_type": "stream",
     "text": [
      "He Said, \"What's there ?\n"
     ]
    }
   ],
   "source": [
    "print('''He Said, \"What's there ?''')"
   ]
  },
  {
   "cell_type": "code",
   "execution_count": 87,
   "id": "42b00115",
   "metadata": {},
   "outputs": [
    {
     "name": "stdout",
     "output_type": "stream",
     "text": [
      "He Said, \"What's there ?\n"
     ]
    }
   ],
   "source": [
    "print(\"\"\"He Said, \"What's there ?\"\"\")"
   ]
  },
  {
   "cell_type": "code",
   "execution_count": 88,
   "id": "7f3b0021",
   "metadata": {},
   "outputs": [
    {
     "ename": "SyntaxError",
     "evalue": "invalid syntax (<ipython-input-88-a63ca31e0235>, line 1)",
     "output_type": "error",
     "traceback": [
      "\u001b[1;36m  File \u001b[1;32m\"<ipython-input-88-a63ca31e0235>\"\u001b[1;36m, line \u001b[1;32m1\u001b[0m\n\u001b[1;33m    print('He Said, \"What's there ?')\u001b[0m\n\u001b[1;37m                          ^\u001b[0m\n\u001b[1;31mSyntaxError\u001b[0m\u001b[1;31m:\u001b[0m invalid syntax\n"
     ]
    }
   ],
   "source": [
    "print('He Said, \"What's there ?')"
   ]
  },
  {
   "cell_type": "code",
   "execution_count": 94,
   "id": "25fcf5d7",
   "metadata": {},
   "outputs": [
    {
     "name": "stdout",
     "output_type": "stream",
     "text": [
      "He Said, \"What's there ?\n"
     ]
    }
   ],
   "source": [
    "print('He Said, \"What\\'s there ?')"
   ]
  },
  {
   "cell_type": "code",
   "execution_count": 91,
   "id": "4f638e24",
   "metadata": {},
   "outputs": [
    {
     "name": "stdout",
     "output_type": "stream",
     "text": [
      "He Said, \"What's there ?\n"
     ]
    }
   ],
   "source": [
    "print(\"He Said, \\\"What's there ?\")"
   ]
  },
  {
   "cell_type": "code",
   "execution_count": 92,
   "id": "a60cfe26",
   "metadata": {},
   "outputs": [
    {
     "name": "stdout",
     "output_type": "stream",
     "text": [
      "Hello \n",
      "Hi\n"
     ]
    }
   ],
   "source": [
    "print(\"Hello \\nHi\")"
   ]
  },
  {
   "cell_type": "code",
   "execution_count": 98,
   "id": "08b1a160",
   "metadata": {},
   "outputs": [
    {
     "name": "stdout",
     "output_type": "stream",
     "text": [
      "D:\\Old Data\\Excel\n"
     ]
    }
   ],
   "source": [
    "print(\"D:\\Old Data\\Excel\")"
   ]
  },
  {
   "cell_type": "code",
   "execution_count": 99,
   "id": "081f1fde",
   "metadata": {},
   "outputs": [
    {
     "name": "stdout",
     "output_type": "stream",
     "text": [
      "Naman Raman Shiv\n"
     ]
    }
   ],
   "source": [
    "print(\"{} {} {}\".format(\"Naman\",\"Raman\",\"Shiv\"))"
   ]
  },
  {
   "cell_type": "code",
   "execution_count": 100,
   "id": "8dd47e65",
   "metadata": {},
   "outputs": [
    {
     "name": "stdout",
     "output_type": "stream",
     "text": [
      "Raman Naman Shiv\n"
     ]
    }
   ],
   "source": [
    "print(\"{1} {0} {2}\".format(\"Naman\",\"Raman\",\"Shiv\"))"
   ]
  },
  {
   "cell_type": "code",
   "execution_count": 101,
   "id": "44f13d39",
   "metadata": {},
   "outputs": [
    {
     "name": "stdout",
     "output_type": "stream",
     "text": [
      "Shiv Raman Naman\n"
     ]
    }
   ],
   "source": [
    "print(\"{c} {b} {a}\".format(a=\"Naman\",b=\"Raman\",c=\"Shiv\"))"
   ]
  },
  {
   "cell_type": "code",
   "execution_count": 105,
   "id": "f5192a30",
   "metadata": {},
   "outputs": [
    {
     "name": "stdout",
     "output_type": "stream",
     "text": [
      "Binary Rep of 3 is 11\n"
     ]
    }
   ],
   "source": [
    "print(\"Binary Rep of {0} is {0:b}\".format(3))"
   ]
  },
  {
   "cell_type": "code",
   "execution_count": 106,
   "id": "32966184",
   "metadata": {},
   "outputs": [
    {
     "name": "stdout",
     "output_type": "stream",
     "text": [
      "Exponential Rep of 456.892 is 4.568920e+02\n"
     ]
    }
   ],
   "source": [
    "print(\"Exponential Rep of {0} is {0:e}\".format(456.892))"
   ]
  },
  {
   "cell_type": "code",
   "execution_count": 107,
   "id": "cf48f134",
   "metadata": {},
   "outputs": [
    {
     "name": "stdout",
     "output_type": "stream",
     "text": [
      "0.3333333333333333\n"
     ]
    }
   ],
   "source": [
    "print(1/3)"
   ]
  },
  {
   "cell_type": "code",
   "execution_count": 109,
   "id": "eaa5dfe2",
   "metadata": {},
   "outputs": [
    {
     "name": "stdout",
     "output_type": "stream",
     "text": [
      "One third is 0.33\n"
     ]
    }
   ],
   "source": [
    "print(\"One third is {0:.2f}\".format(1/3))"
   ]
  },
  {
   "cell_type": "code",
   "execution_count": 110,
   "id": "984a1f4f",
   "metadata": {},
   "outputs": [
    {
     "name": "stdout",
     "output_type": "stream",
     "text": [
      "|Bread     |  Butter  |       Jam\n"
     ]
    }
   ],
   "source": [
    "print(\"|{:<10}|{:^10}|{:>10}\".format(\"Bread\", \"Butter\",\"Jam\"))"
   ]
  },
  {
   "cell_type": "code",
   "execution_count": 120,
   "id": "9a5c2e0c",
   "metadata": {},
   "outputs": [
    {
     "name": "stdout",
     "output_type": "stream",
     "text": [
      "The val of x is 12.346\n"
     ]
    }
   ],
   "source": [
    "x = 12.3456867\n",
    "print(\"The val of x is%7.3f\"%x)"
   ]
  },
  {
   "cell_type": "code",
   "execution_count": 121,
   "id": "cc596d2e",
   "metadata": {},
   "outputs": [],
   "source": [
    "a = \"Hello\""
   ]
  },
  {
   "cell_type": "code",
   "execution_count": 122,
   "id": "f8e984ae",
   "metadata": {},
   "outputs": [
    {
     "data": {
      "text/plain": [
       "'Hello'"
      ]
     },
     "execution_count": 122,
     "metadata": {},
     "output_type": "execute_result"
    }
   ],
   "source": [
    "a.capitalize()"
   ]
  },
  {
   "cell_type": "code",
   "execution_count": 125,
   "id": "972be726",
   "metadata": {},
   "outputs": [],
   "source": [
    "a = a.lower()"
   ]
  },
  {
   "cell_type": "code",
   "execution_count": 126,
   "id": "d3d3a64b",
   "metadata": {},
   "outputs": [
    {
     "data": {
      "text/plain": [
       "'hello'"
      ]
     },
     "execution_count": 126,
     "metadata": {},
     "output_type": "execute_result"
    }
   ],
   "source": [
    "a"
   ]
  },
  {
   "cell_type": "code",
   "execution_count": 127,
   "id": "5794a706",
   "metadata": {},
   "outputs": [
    {
     "data": {
      "text/plain": [
       "'hello'"
      ]
     },
     "execution_count": 127,
     "metadata": {},
     "output_type": "execute_result"
    }
   ],
   "source": [
    "a.lower()"
   ]
  },
  {
   "cell_type": "code",
   "execution_count": 128,
   "id": "0c971200",
   "metadata": {},
   "outputs": [
    {
     "data": {
      "text/plain": [
       "'HELLO'"
      ]
     },
     "execution_count": 128,
     "metadata": {},
     "output_type": "execute_result"
    }
   ],
   "source": [
    "a.upper()"
   ]
  },
  {
   "cell_type": "code",
   "execution_count": 130,
   "id": "3e4d6802",
   "metadata": {},
   "outputs": [],
   "source": [
    "# dir(str)"
   ]
  },
  {
   "cell_type": "code",
   "execution_count": 132,
   "id": "2d87fa1d",
   "metadata": {},
   "outputs": [],
   "source": [
    "# help(str)"
   ]
  },
  {
   "cell_type": "code",
   "execution_count": 7,
   "id": "39c0fa0f",
   "metadata": {},
   "outputs": [],
   "source": [
    "email= \"nandesh74581@gmail.com\""
   ]
  },
  {
   "cell_type": "code",
   "execution_count": 8,
   "id": "c48e31b8",
   "metadata": {},
   "outputs": [
    {
     "data": {
      "text/plain": [
       "'nandesh74581'"
      ]
     },
     "execution_count": 8,
     "metadata": {},
     "output_type": "execute_result"
    }
   ],
   "source": [
    "email.split(\"@\")[0]"
   ]
  },
  {
   "cell_type": "code",
   "execution_count": 9,
   "id": "b56582a0",
   "metadata": {},
   "outputs": [],
   "source": [
    "ind = email.index(\"@\")"
   ]
  },
  {
   "cell_type": "code",
   "execution_count": 10,
   "id": "b9705ed3",
   "metadata": {},
   "outputs": [
    {
     "name": "stdout",
     "output_type": "stream",
     "text": [
      "nandesh74581\n"
     ]
    }
   ],
   "source": [
    "user = email[:ind]\n",
    "print(user)"
   ]
  },
  {
   "cell_type": "code",
   "execution_count": 11,
   "id": "bbcfa4ba",
   "metadata": {},
   "outputs": [
    {
     "name": "stdout",
     "output_type": "stream",
     "text": [
      "gmail\n"
     ]
    }
   ],
   "source": [
    "print(email[ind+1:-4])"
   ]
  },
  {
   "cell_type": "code",
   "execution_count": 43,
   "id": "8edfacee",
   "metadata": {},
   "outputs": [
    {
     "data": {
      "text/plain": [
       "True"
      ]
     },
     "execution_count": 43,
     "metadata": {},
     "output_type": "execute_result"
    }
   ],
   "source": [
    "a = \"Deabr\"\n",
    "\"De\" in a"
   ]
  },
  {
   "cell_type": "code",
   "execution_count": 44,
   "id": "fa2e9576",
   "metadata": {},
   "outputs": [
    {
     "name": "stdout",
     "output_type": "stream",
     "text": [
      "d e\n",
      "a b\n"
     ]
    }
   ],
   "source": [
    "a1 = a.lower()\n",
    "c = 0\n",
    "for i in range(len(a1)-1):\n",
    "    if ord(a1[i+1]) - ord(a1[i]) == 1:\n",
    "        print(a1[i],a1[i+1])"
   ]
  },
  {
   "cell_type": "code",
   "execution_count": null,
   "id": "a778cb0d",
   "metadata": {},
   "outputs": [],
   "source": [
    "a"
   ]
  },
  {
   "cell_type": "code",
   "execution_count": 24,
   "id": "0348e5f4",
   "metadata": {},
   "outputs": [
    {
     "data": {
      "text/plain": [
       "97"
      ]
     },
     "execution_count": 24,
     "metadata": {},
     "output_type": "execute_result"
    }
   ],
   "source": [
    "ord(\"a\")"
   ]
  },
  {
   "cell_type": "code",
   "execution_count": 27,
   "id": "f0693fdd",
   "metadata": {},
   "outputs": [
    {
     "data": {
      "text/plain": [
       "'['"
      ]
     },
     "execution_count": 27,
     "metadata": {},
     "output_type": "execute_result"
    }
   ],
   "source": [
    "chr(91)"
   ]
  },
  {
   "cell_type": "code",
   "execution_count": 18,
   "id": "867d0536",
   "metadata": {},
   "outputs": [
    {
     "data": {
      "text/plain": [
       "'De'"
      ]
     },
     "execution_count": 18,
     "metadata": {},
     "output_type": "execute_result"
    }
   ],
   "source": [
    "a[:2]"
   ]
  },
  {
   "cell_type": "code",
   "execution_count": 17,
   "id": "60dfcc52",
   "metadata": {},
   "outputs": [
    {
     "data": {
      "text/plain": [
       "True"
      ]
     },
     "execution_count": 17,
     "metadata": {},
     "output_type": "execute_result"
    }
   ],
   "source": [
    "\"ea\" in a"
   ]
  },
  {
   "cell_type": "code",
   "execution_count": 47,
   "id": "97eeb947",
   "metadata": {},
   "outputs": [
    {
     "name": "stdout",
     "output_type": "stream",
     "text": [
      "nameNaina Sharma\n",
      "genderFemale\n",
      "is marriedYes\n",
      "Miss.Naina Sharma\n"
     ]
    }
   ],
   "source": [
    "name = input('name')\n",
    "gen = input('gender')\n",
    "married = input('is married')\n",
    "\n",
    "if gen == 'male':\n",
    "    if married == 'y':\n",
    "        name = 'Mr.'+name\n",
    "    else:\n",
    "        name = 'Mr.'+name\n",
    "else:\n",
    "    if married == 'y':\n",
    "        name = 'Mrs.'+name\n",
    "    else:\n",
    "        name = 'Miss.'+name\n",
    "print(name)\n"
   ]
  },
  {
   "cell_type": "code",
   "execution_count": 48,
   "id": "de960407",
   "metadata": {},
   "outputs": [
    {
     "name": "stdout",
     "output_type": "stream",
     "text": [
      "enter your name here:Nandesh Prasad\n",
      "enter your gender here:Male\n",
      "Mrs\n"
     ]
    }
   ],
   "source": [
    "name=input(\"enter your name here:\")\n",
    "gender=input(\"enter your gender here:\")\n",
    "if gender==\"male\" or \"m\":\n",
    "    print(\"Mrs\")\n",
    "else: \n",
    "    print(\"Mrs\")\n"
   ]
  },
  {
   "cell_type": "code",
   "execution_count": 49,
   "id": "35172612",
   "metadata": {},
   "outputs": [
    {
     "name": "stdout",
     "output_type": "stream",
     "text": [
      "nameNaina Sharma\n",
      "genderFemale\n",
      "is marriedYes\n",
      "Miss.Naina Sharma\n"
     ]
    }
   ],
   "source": [
    "name = input('name')\n",
    "gen = input('gender')\n",
    "married = input('is married')\n",
    "\n",
    "if gen == 'male' or gen == 'Male':\n",
    "    if married == 'y':\n",
    "        name = 'Mr. '+name\n",
    "    else:\n",
    "        name = 'Mr. '+name\n",
    "elif gen == 'female' or gen == 'Female':\n",
    "    if married == 'y':\n",
    "        name = 'Mrs.'+name\n",
    "    else:\n",
    "        name = 'Miss.'+name\n",
    "print(name)\n"
   ]
  },
  {
   "cell_type": "code",
   "execution_count": 55,
   "id": "77cfb96d",
   "metadata": {},
   "outputs": [],
   "source": [
    "a = \"Yesssssssssssssssssssssss\"\n",
    "# \"Yeah\"\n",
    "# \"Yesssssssssssssssssssssss\""
   ]
  },
  {
   "cell_type": "code",
   "execution_count": 56,
   "id": "cf8e36d2",
   "metadata": {},
   "outputs": [
    {
     "data": {
      "text/plain": [
       "True"
      ]
     },
     "execution_count": 56,
     "metadata": {},
     "output_type": "execute_result"
    }
   ],
   "source": [
    "a.lower().startswith(\"y\")"
   ]
  },
  {
   "cell_type": "code",
   "execution_count": 63,
   "id": "7cfc6bfc",
   "metadata": {},
   "outputs": [
    {
     "name": "stdout",
     "output_type": "stream",
     "text": [
      "nameRani\n",
      "genderFemale\n",
      "is marriedoiuytfdfhjkl\n",
      "Miss.Rani\n"
     ]
    }
   ],
   "source": [
    "name = input('name')\n",
    "gen = input('gender')\n",
    "married = input('is married')\n",
    "\n",
    "if gen.lower().startswith('m'):\n",
    "    if married.lower().startswith('y'):\n",
    "        name = 'Mr.'+name\n",
    "    else:\n",
    "        name = 'Mr.'+name\n",
    "elif gen.lower().startswith('f') :\n",
    "    if married.lower().startswith('y'):\n",
    "        name = 'Mrs.'+name\n",
    "    else:\n",
    "        name = 'Miss.'+name\n",
    "print(name)\n"
   ]
  },
  {
   "cell_type": "code",
   "execution_count": 61,
   "id": "d3fb08f8",
   "metadata": {},
   "outputs": [
    {
     "name": "stdout",
     "output_type": "stream",
     "text": [
      "nameShivani\n",
      "genderHTVGDBHJKHGVC\n",
      "is marriedKJHGFCDCXZVGHJKL;\n",
      "Miss.Shivani\n"
     ]
    }
   ],
   "source": [
    "name = input('name')\n",
    "gen = input('gender')\n",
    "married = input('is married')\n",
    "\n",
    "if gen.lower().startswith('m'):\n",
    "    if married.lower().startswith('y'):\n",
    "        name = 'Mr.'+name\n",
    "    else:\n",
    "        name = 'Mr.'+name\n",
    "else:\n",
    "    if married.lower().startswith('y'):\n",
    "        name = 'Mrs.'+name\n",
    "    else:\n",
    "        name = 'Miss.'+name\n",
    "print(name)\n"
   ]
  },
  {
   "cell_type": "code",
   "execution_count": null,
   "id": "92ba905e",
   "metadata": {},
   "outputs": [],
   "source": [
    "Write a program that accepts the lengths of three sides of a triangle\n",
    "as inputs. The program output should indicate whether or not the triangle\n",
    "is a right triangle"
   ]
  },
  {
   "cell_type": "code",
   "execution_count": 66,
   "id": "b7d520d2",
   "metadata": {},
   "outputs": [
    {
     "name": "stdout",
     "output_type": "stream",
     "text": [
      "* \n",
      "* * \n",
      "* * * \n",
      "* * * * \n",
      "* * * * * \n",
      "* * * * * * \n",
      "* * * * * * * \n",
      "* * * * * * \n",
      "* * * * * \n",
      "* * * * \n",
      "* * * \n",
      "* * \n",
      "* \n"
     ]
    }
   ],
   "source": [
    "n=7\n",
    "\n",
    "for i in range(1,n*2):\n",
    "    if i<=n:\n",
    "        print('* '*i)\n",
    "    else:\n",
    "        print('* '*((n*2)-i))"
   ]
  },
  {
   "cell_type": "code",
   "execution_count": 12,
   "id": "d2fb3d38",
   "metadata": {},
   "outputs": [
    {
     "name": "stdout",
     "output_type": "stream",
     "text": [
      "* \n",
      "* * \n",
      "* * * \n",
      "* * * * \n",
      "* * * * * \n",
      "* * * * * * \n",
      "* * * * * * * \n",
      "* * * * * * \n",
      "* * * * * \n",
      "* * * * \n",
      "* * * \n",
      "* * \n",
      "* \n"
     ]
    }
   ],
   "source": [
    "for i in range(7):\n",
    "    for j in range(i+1):\n",
    "        print(\"*\",end=\" \")\n",
    "    print()\n",
    "    \n",
    "for i in range(6,0,-1):\n",
    "    for j in range(i):\n",
    "        print(\"*\",end=\" \")\n",
    "    print()\n",
    "    "
   ]
  },
  {
   "cell_type": "code",
   "execution_count": null,
   "id": "d90a7e29",
   "metadata": {},
   "outputs": [],
   "source": []
  },
  {
   "cell_type": "code",
   "execution_count": null,
   "id": "72e395ba",
   "metadata": {},
   "outputs": [],
   "source": []
  },
  {
   "cell_type": "code",
   "execution_count": null,
   "id": "daaf8994",
   "metadata": {},
   "outputs": [],
   "source": []
  },
  {
   "cell_type": "code",
   "execution_count": null,
   "id": "1087b4b8",
   "metadata": {},
   "outputs": [],
   "source": []
  },
  {
   "cell_type": "code",
   "execution_count": null,
   "id": "8afe0c12",
   "metadata": {},
   "outputs": [],
   "source": []
  },
  {
   "cell_type": "code",
   "execution_count": null,
   "id": "95f68ea9",
   "metadata": {},
   "outputs": [],
   "source": []
  },
  {
   "cell_type": "code",
   "execution_count": 65,
   "id": "85ef62cd",
   "metadata": {},
   "outputs": [
    {
     "name": "stdout",
     "output_type": "stream",
     "text": [
      "*\n",
      "**\n",
      "***\n",
      "****\n",
      "*****\n",
      "******\n",
      "*****\n",
      "****\n",
      "***\n",
      "**\n",
      "*\n"
     ]
    }
   ],
   "source": [
    "for i in range(0,6,1):\n",
    "    for j in range(0,i+1,1):\n",
    "        print(\"*\",end=\"\")\n",
    "    print()\n",
    "for i in range(4,-1,-1):\n",
    "    for j in range(0,i+1,1):\n",
    "        print(\"*\",end=\"\")\n",
    "    print()"
   ]
  },
  {
   "cell_type": "code",
   "execution_count": null,
   "id": "681e70c2",
   "metadata": {},
   "outputs": [],
   "source": [
    "a,b,c = input(\"Enter 3 value : \")"
   ]
  },
  {
   "cell_type": "code",
   "execution_count": null,
   "id": "d27f5b46",
   "metadata": {},
   "outputs": [],
   "source": []
  },
  {
   "cell_type": "code",
   "execution_count": 7,
   "id": "289d47d7",
   "metadata": {},
   "outputs": [
    {
     "name": "stdout",
     "output_type": "stream",
     "text": [
      "Enter the first side of triangle  12\n",
      "Enter the second side of triangle  5\n",
      "Enter the third side of triangle  13\n",
      "Yes\n"
     ]
    }
   ],
   "source": [
    "side1 = int(input(\"Enter the first side of triangle  \"))\n",
    "side2 = int(input(\"Enter the second side of triangle  \"))\n",
    "side3 = int(input(\"Enter the third side of triangle  \"))\n",
    "\n",
    "\n",
    "if side1**2 == side2**2+side3**2 or side2**2 == side1**2+side3**2 or  side3**2 == side2**2+side1**2:\n",
    "    print('Yes')\n",
    "else:\n",
    "    print('No') "
   ]
  },
  {
   "cell_type": "code",
   "execution_count": 3,
   "id": "b0ac01e9",
   "metadata": {},
   "outputs": [
    {
     "data": {
      "text/plain": [
       "169"
      ]
     },
     "execution_count": 3,
     "metadata": {},
     "output_type": "execute_result"
    }
   ],
   "source": [
    "13**2"
   ]
  },
  {
   "cell_type": "code",
   "execution_count": 4,
   "id": "02b1252d",
   "metadata": {},
   "outputs": [
    {
     "data": {
      "text/plain": [
       "245"
      ]
     },
     "execution_count": 4,
     "metadata": {},
     "output_type": "execute_result"
    }
   ],
   "source": [
    "121+124"
   ]
  },
  {
   "cell_type": "code",
   "execution_count": 5,
   "id": "82f16c7b",
   "metadata": {},
   "outputs": [
    {
     "data": {
      "text/plain": [
       "100"
      ]
     },
     "execution_count": 5,
     "metadata": {},
     "output_type": "execute_result"
    }
   ],
   "source": [
    "36 + 64"
   ]
  },
  {
   "cell_type": "code",
   "execution_count": 8,
   "id": "0cbdceff",
   "metadata": {},
   "outputs": [
    {
     "name": "stdout",
     "output_type": "stream",
     "text": [
      "                    *                     \n",
      "                  *   *                   \n",
      "                *       *                 \n",
      "              *           *               \n",
      "            *               *             \n",
      "          *                   *           \n",
      "        *                       *         \n",
      "      *                           *       \n",
      "    *                               *     \n",
      "  *                                   *   \n",
      "*                                       * \n",
      "  *                                   *   \n",
      "    *                               *     \n",
      "      *                           *       \n",
      "        *                       *         \n",
      "          *                   *           \n",
      "            *               *             \n",
      "              *           *               \n",
      "                *       *                 \n",
      "                  *   *                   \n",
      "                    *                     \n"
     ]
    }
   ],
   "source": [
    "k=11\n",
    "c=r=0\n",
    "mid = k-1\n",
    "while c<(2*k)-1:\n",
    "    r=0\n",
    "    while r<(2*k)-1:\n",
    "        if((mid == c+r) or (mid == c-r) or (mid == r-c) or (3*mid == r+c)):\n",
    "            print('* ',end='')\n",
    "        else:\n",
    "            print('  ',end='')\n",
    "        r+=1\n",
    "    print()\n",
    "    c+=1"
   ]
  },
  {
   "cell_type": "code",
   "execution_count": 13,
   "id": "9d3f1405",
   "metadata": {},
   "outputs": [],
   "source": [
    "n1 = \"Ram\"\n",
    "n2 = \"Sham\"\n",
    "n3 = \"Rajan\"\n",
    "n4 = \"Ravi\""
   ]
  },
  {
   "cell_type": "code",
   "execution_count": 14,
   "id": "fc2d3bf1",
   "metadata": {},
   "outputs": [],
   "source": [
    "n1 = []"
   ]
  },
  {
   "cell_type": "code",
   "execution_count": 15,
   "id": "6b86346a",
   "metadata": {},
   "outputs": [
    {
     "data": {
      "text/plain": [
       "list"
      ]
     },
     "execution_count": 15,
     "metadata": {},
     "output_type": "execute_result"
    }
   ],
   "source": [
    "type(n1)"
   ]
  },
  {
   "cell_type": "code",
   "execution_count": 16,
   "id": "86f674a2",
   "metadata": {},
   "outputs": [],
   "source": [
    "n2 = [10,11,12]"
   ]
  },
  {
   "cell_type": "code",
   "execution_count": 17,
   "id": "c6dc6b83",
   "metadata": {},
   "outputs": [
    {
     "data": {
      "text/plain": [
       "[10, 11, 12]"
      ]
     },
     "execution_count": 17,
     "metadata": {},
     "output_type": "execute_result"
    }
   ],
   "source": [
    "n2"
   ]
  },
  {
   "cell_type": "code",
   "execution_count": 18,
   "id": "eb995c03",
   "metadata": {},
   "outputs": [],
   "source": [
    "n3 = [\"Hi\",\"Hey\",\"Hello\"]"
   ]
  },
  {
   "cell_type": "code",
   "execution_count": 19,
   "id": "53e0c7a9",
   "metadata": {},
   "outputs": [
    {
     "data": {
      "text/plain": [
       "['Hi', 'Hey', 'Hello']"
      ]
     },
     "execution_count": 19,
     "metadata": {},
     "output_type": "execute_result"
    }
   ],
   "source": [
    "n3"
   ]
  },
  {
   "cell_type": "code",
   "execution_count": 20,
   "id": "898e0d74",
   "metadata": {},
   "outputs": [],
   "source": [
    "n4 = [\"Key\",52,63.2]"
   ]
  },
  {
   "cell_type": "code",
   "execution_count": 21,
   "id": "0083e14d",
   "metadata": {},
   "outputs": [
    {
     "data": {
      "text/plain": [
       "['Key', 52, 63.2]"
      ]
     },
     "execution_count": 21,
     "metadata": {},
     "output_type": "execute_result"
    }
   ],
   "source": [
    "n4"
   ]
  },
  {
   "cell_type": "code",
   "execution_count": 22,
   "id": "efb7df18",
   "metadata": {},
   "outputs": [],
   "source": [
    "n5 = [n4,52,65.3,\"Hi\"]"
   ]
  },
  {
   "cell_type": "code",
   "execution_count": 23,
   "id": "ab864228",
   "metadata": {},
   "outputs": [
    {
     "data": {
      "text/plain": [
       "[['Key', 52, 63.2], 52, 65.3, 'Hi']"
      ]
     },
     "execution_count": 23,
     "metadata": {},
     "output_type": "execute_result"
    }
   ],
   "source": [
    "n5"
   ]
  },
  {
   "cell_type": "code",
   "execution_count": 24,
   "id": "aef4076e",
   "metadata": {},
   "outputs": [
    {
     "data": {
      "text/plain": [
       "list"
      ]
     },
     "execution_count": 24,
     "metadata": {},
     "output_type": "execute_result"
    }
   ],
   "source": [
    "type(n5)"
   ]
  },
  {
   "cell_type": "code",
   "execution_count": 25,
   "id": "7cd77eb1",
   "metadata": {},
   "outputs": [],
   "source": [
    "n7 = [\"p\",'y',\"t\",\"h\",\"o\",\"n\"]"
   ]
  },
  {
   "cell_type": "code",
   "execution_count": 26,
   "id": "fcb81902",
   "metadata": {},
   "outputs": [
    {
     "data": {
      "text/plain": [
       "['p', 'y', 't', 'h', 'o', 'n']"
      ]
     },
     "execution_count": 26,
     "metadata": {},
     "output_type": "execute_result"
    }
   ],
   "source": [
    "n7"
   ]
  },
  {
   "cell_type": "code",
   "execution_count": 27,
   "id": "91eb2414",
   "metadata": {},
   "outputs": [
    {
     "data": {
      "text/plain": [
       "'p'"
      ]
     },
     "execution_count": 27,
     "metadata": {},
     "output_type": "execute_result"
    }
   ],
   "source": [
    "n7[0]"
   ]
  },
  {
   "cell_type": "code",
   "execution_count": 28,
   "id": "f2de2a4a",
   "metadata": {},
   "outputs": [
    {
     "data": {
      "text/plain": [
       "'n'"
      ]
     },
     "execution_count": 28,
     "metadata": {},
     "output_type": "execute_result"
    }
   ],
   "source": [
    "n7[-1]"
   ]
  },
  {
   "cell_type": "code",
   "execution_count": 29,
   "id": "acec7848",
   "metadata": {},
   "outputs": [
    {
     "data": {
      "text/plain": [
       "['p', 'y', 't']"
      ]
     },
     "execution_count": 29,
     "metadata": {},
     "output_type": "execute_result"
    }
   ],
   "source": [
    "n7[:3]"
   ]
  },
  {
   "cell_type": "code",
   "execution_count": 30,
   "id": "39294a93",
   "metadata": {},
   "outputs": [
    {
     "data": {
      "text/plain": [
       "['h', 'o', 'n']"
      ]
     },
     "execution_count": 30,
     "metadata": {},
     "output_type": "execute_result"
    }
   ],
   "source": [
    "n7[-3:]"
   ]
  },
  {
   "cell_type": "code",
   "execution_count": 31,
   "id": "8ccf554c",
   "metadata": {},
   "outputs": [
    {
     "data": {
      "text/plain": [
       "['y', 't', 'h']"
      ]
     },
     "execution_count": 31,
     "metadata": {},
     "output_type": "execute_result"
    }
   ],
   "source": [
    "n7[1:4]"
   ]
  },
  {
   "cell_type": "code",
   "execution_count": 32,
   "id": "0c829d33",
   "metadata": {},
   "outputs": [
    {
     "data": {
      "text/plain": [
       "['y', 'h', 'n']"
      ]
     },
     "execution_count": 32,
     "metadata": {},
     "output_type": "execute_result"
    }
   ],
   "source": [
    "n7[1::2]"
   ]
  },
  {
   "cell_type": "code",
   "execution_count": 34,
   "id": "90eb37b9",
   "metadata": {},
   "outputs": [],
   "source": [
    "n7[5.0]"
   ]
  },
  {
   "cell_type": "code",
   "execution_count": 36,
   "id": "44504fd6",
   "metadata": {},
   "outputs": [],
   "source": [
    "odd = [2,4,6,8]"
   ]
  },
  {
   "cell_type": "code",
   "execution_count": 37,
   "id": "6a569527",
   "metadata": {},
   "outputs": [],
   "source": [
    "odd[0] = 1"
   ]
  },
  {
   "cell_type": "code",
   "execution_count": 38,
   "id": "5e36cd81",
   "metadata": {},
   "outputs": [
    {
     "data": {
      "text/plain": [
       "[1, 4, 6, 8]"
      ]
     },
     "execution_count": 38,
     "metadata": {},
     "output_type": "execute_result"
    }
   ],
   "source": [
    "odd"
   ]
  },
  {
   "cell_type": "code",
   "execution_count": 39,
   "id": "d223c5d5",
   "metadata": {},
   "outputs": [],
   "source": [
    "odd[1:] = [3,5,7]"
   ]
  },
  {
   "cell_type": "code",
   "execution_count": 40,
   "id": "dae8bbdc",
   "metadata": {},
   "outputs": [
    {
     "data": {
      "text/plain": [
       "[1, 3, 5, 7]"
      ]
     },
     "execution_count": 40,
     "metadata": {},
     "output_type": "execute_result"
    }
   ],
   "source": [
    "odd"
   ]
  },
  {
   "cell_type": "code",
   "execution_count": 41,
   "id": "b3824abe",
   "metadata": {},
   "outputs": [],
   "source": [
    "odd.append(9)"
   ]
  },
  {
   "cell_type": "code",
   "execution_count": 42,
   "id": "fe41e6a8",
   "metadata": {},
   "outputs": [
    {
     "data": {
      "text/plain": [
       "[1, 3, 5, 7, 9]"
      ]
     },
     "execution_count": 42,
     "metadata": {},
     "output_type": "execute_result"
    }
   ],
   "source": [
    "odd"
   ]
  },
  {
   "cell_type": "code",
   "execution_count": 43,
   "id": "bc467a25",
   "metadata": {},
   "outputs": [],
   "source": [
    "odd.append([11,13])"
   ]
  },
  {
   "cell_type": "code",
   "execution_count": 44,
   "id": "1dc70b02",
   "metadata": {},
   "outputs": [
    {
     "data": {
      "text/plain": [
       "[1, 3, 5, 7, 9, [11, 13]]"
      ]
     },
     "execution_count": 44,
     "metadata": {},
     "output_type": "execute_result"
    }
   ],
   "source": [
    "odd"
   ]
  },
  {
   "cell_type": "code",
   "execution_count": 45,
   "id": "9c216f47",
   "metadata": {},
   "outputs": [],
   "source": [
    "odd.extend([11,13,15])"
   ]
  },
  {
   "cell_type": "code",
   "execution_count": 46,
   "id": "a984112a",
   "metadata": {},
   "outputs": [
    {
     "data": {
      "text/plain": [
       "[1, 3, 5, 7, 9, [11, 13], 11, 13, 15]"
      ]
     },
     "execution_count": 46,
     "metadata": {},
     "output_type": "execute_result"
    }
   ],
   "source": [
    "odd"
   ]
  },
  {
   "cell_type": "code",
   "execution_count": 47,
   "id": "59c5a5bf",
   "metadata": {},
   "outputs": [],
   "source": [
    "odd = [1,5,7]"
   ]
  },
  {
   "cell_type": "code",
   "execution_count": 48,
   "id": "b286fe0b",
   "metadata": {},
   "outputs": [
    {
     "data": {
      "text/plain": [
       "[1, 5, 7]"
      ]
     },
     "execution_count": 48,
     "metadata": {},
     "output_type": "execute_result"
    }
   ],
   "source": [
    "odd"
   ]
  },
  {
   "cell_type": "code",
   "execution_count": 49,
   "id": "46550551",
   "metadata": {},
   "outputs": [
    {
     "name": "stdout",
     "output_type": "stream",
     "text": [
      "[1, 5, 7, 9, 11, 13]\n"
     ]
    }
   ],
   "source": [
    "print(odd + [9,11,13])"
   ]
  },
  {
   "cell_type": "code",
   "execution_count": 50,
   "id": "be40a8d7",
   "metadata": {},
   "outputs": [
    {
     "data": {
      "text/plain": [
       "[1, 5, 7]"
      ]
     },
     "execution_count": 50,
     "metadata": {},
     "output_type": "execute_result"
    }
   ],
   "source": [
    "odd"
   ]
  },
  {
   "cell_type": "code",
   "execution_count": 51,
   "id": "290b5aeb",
   "metadata": {},
   "outputs": [
    {
     "name": "stdout",
     "output_type": "stream",
     "text": [
      "[1, 5, 7, 1, 5, 7, 1, 5, 7]\n"
     ]
    }
   ],
   "source": [
    "print(odd*3)"
   ]
  },
  {
   "cell_type": "code",
   "execution_count": 66,
   "id": "d3117640",
   "metadata": {},
   "outputs": [],
   "source": [
    "odd = [1,9]"
   ]
  },
  {
   "cell_type": "code",
   "execution_count": 67,
   "id": "bac59e74",
   "metadata": {},
   "outputs": [],
   "source": [
    "odd.insert(1,3)"
   ]
  },
  {
   "cell_type": "code",
   "execution_count": 68,
   "id": "fdf4c6d2",
   "metadata": {},
   "outputs": [
    {
     "data": {
      "text/plain": [
       "[1, 3, 9]"
      ]
     },
     "execution_count": 68,
     "metadata": {},
     "output_type": "execute_result"
    }
   ],
   "source": [
    "odd"
   ]
  },
  {
   "cell_type": "code",
   "execution_count": 55,
   "id": "6aa20e8f",
   "metadata": {},
   "outputs": [],
   "source": [
    "odd[1:] = [5,7]"
   ]
  },
  {
   "cell_type": "code",
   "execution_count": 56,
   "id": "d4765f3c",
   "metadata": {},
   "outputs": [
    {
     "data": {
      "text/plain": [
       "[1, 5, 7]"
      ]
     },
     "execution_count": 56,
     "metadata": {},
     "output_type": "execute_result"
    }
   ],
   "source": [
    "odd"
   ]
  },
  {
   "cell_type": "code",
   "execution_count": 69,
   "id": "b5cabbcf",
   "metadata": {},
   "outputs": [],
   "source": [
    "odd[2:2] = [5,7]"
   ]
  },
  {
   "cell_type": "code",
   "execution_count": 70,
   "id": "71e4351b",
   "metadata": {},
   "outputs": [
    {
     "data": {
      "text/plain": [
       "[1, 3, 5, 7, 9]"
      ]
     },
     "execution_count": 70,
     "metadata": {},
     "output_type": "execute_result"
    }
   ],
   "source": [
    "odd"
   ]
  },
  {
   "cell_type": "code",
   "execution_count": 83,
   "id": "0d41d4cf",
   "metadata": {},
   "outputs": [],
   "source": [
    "odd = ['p','y','t','h','o','n']"
   ]
  },
  {
   "cell_type": "code",
   "execution_count": 72,
   "id": "9534b681",
   "metadata": {},
   "outputs": [
    {
     "data": {
      "text/plain": [
       "['p', 'y', 't', 'h', 'o', 'n']"
      ]
     },
     "execution_count": 72,
     "metadata": {},
     "output_type": "execute_result"
    }
   ],
   "source": [
    "odd"
   ]
  },
  {
   "cell_type": "code",
   "execution_count": 73,
   "id": "8316001d",
   "metadata": {},
   "outputs": [
    {
     "data": {
      "text/plain": [
       "'n'"
      ]
     },
     "execution_count": 73,
     "metadata": {},
     "output_type": "execute_result"
    }
   ],
   "source": [
    "odd.pop()"
   ]
  },
  {
   "cell_type": "code",
   "execution_count": 74,
   "id": "52068491",
   "metadata": {},
   "outputs": [
    {
     "data": {
      "text/plain": [
       "['p', 'y', 't', 'h', 'o']"
      ]
     },
     "execution_count": 74,
     "metadata": {},
     "output_type": "execute_result"
    }
   ],
   "source": [
    "odd"
   ]
  },
  {
   "cell_type": "code",
   "execution_count": 75,
   "id": "b2004df5",
   "metadata": {},
   "outputs": [
    {
     "data": {
      "text/plain": [
       "'y'"
      ]
     },
     "execution_count": 75,
     "metadata": {},
     "output_type": "execute_result"
    }
   ],
   "source": [
    "odd.pop(1)"
   ]
  },
  {
   "cell_type": "code",
   "execution_count": 76,
   "id": "2c557c8f",
   "metadata": {},
   "outputs": [
    {
     "data": {
      "text/plain": [
       "['p', 't', 'h', 'o']"
      ]
     },
     "execution_count": 76,
     "metadata": {},
     "output_type": "execute_result"
    }
   ],
   "source": [
    "odd"
   ]
  },
  {
   "cell_type": "code",
   "execution_count": 77,
   "id": "a62998cb",
   "metadata": {},
   "outputs": [],
   "source": [
    "del odd[2]"
   ]
  },
  {
   "cell_type": "code",
   "execution_count": 78,
   "id": "ce58d366",
   "metadata": {},
   "outputs": [
    {
     "data": {
      "text/plain": [
       "['p', 't', 'o']"
      ]
     },
     "execution_count": 78,
     "metadata": {},
     "output_type": "execute_result"
    }
   ],
   "source": [
    "odd"
   ]
  },
  {
   "cell_type": "code",
   "execution_count": 79,
   "id": "ac494c00",
   "metadata": {},
   "outputs": [],
   "source": [
    "odd.remove(\"p\")"
   ]
  },
  {
   "cell_type": "code",
   "execution_count": 80,
   "id": "8ed6f14d",
   "metadata": {},
   "outputs": [
    {
     "data": {
      "text/plain": [
       "['t', 'o']"
      ]
     },
     "execution_count": 80,
     "metadata": {},
     "output_type": "execute_result"
    }
   ],
   "source": [
    "odd"
   ]
  },
  {
   "cell_type": "code",
   "execution_count": 81,
   "id": "ee5ee6cb",
   "metadata": {},
   "outputs": [],
   "source": [
    "del odd"
   ]
  },
  {
   "cell_type": "code",
   "execution_count": 82,
   "id": "159ab153",
   "metadata": {},
   "outputs": [
    {
     "ename": "NameError",
     "evalue": "name 'odd' is not defined",
     "output_type": "error",
     "traceback": [
      "\u001b[1;31m---------------------------------------------------------------------------\u001b[0m",
      "\u001b[1;31mNameError\u001b[0m                                 Traceback (most recent call last)",
      "\u001b[1;32m<ipython-input-82-07b5fa755b79>\u001b[0m in \u001b[0;36m<module>\u001b[1;34m\u001b[0m\n\u001b[1;32m----> 1\u001b[1;33m \u001b[0modd\u001b[0m\u001b[1;33m\u001b[0m\u001b[1;33m\u001b[0m\u001b[0m\n\u001b[0m",
      "\u001b[1;31mNameError\u001b[0m: name 'odd' is not defined"
     ]
    }
   ],
   "source": [
    "odd"
   ]
  },
  {
   "cell_type": "code",
   "execution_count": 84,
   "id": "f0005057",
   "metadata": {},
   "outputs": [],
   "source": [
    "odd.clear()"
   ]
  },
  {
   "cell_type": "code",
   "execution_count": 85,
   "id": "9d94a9f6",
   "metadata": {},
   "outputs": [
    {
     "data": {
      "text/plain": [
       "[]"
      ]
     },
     "execution_count": 85,
     "metadata": {},
     "output_type": "execute_result"
    }
   ],
   "source": [
    "odd"
   ]
  },
  {
   "cell_type": "code",
   "execution_count": 86,
   "id": "9b684722",
   "metadata": {},
   "outputs": [],
   "source": [
    "n = [\"p\",\"y\",\"t\",\"h\",\"o\",\"n\"]"
   ]
  },
  {
   "cell_type": "code",
   "execution_count": 87,
   "id": "65b71b64",
   "metadata": {},
   "outputs": [],
   "source": [
    "n[2:3] = []"
   ]
  },
  {
   "cell_type": "code",
   "execution_count": 88,
   "id": "eab97099",
   "metadata": {},
   "outputs": [
    {
     "data": {
      "text/plain": [
       "['p', 'y', 'h', 'o', 'n']"
      ]
     },
     "execution_count": 88,
     "metadata": {},
     "output_type": "execute_result"
    }
   ],
   "source": [
    "n"
   ]
  },
  {
   "cell_type": "code",
   "execution_count": 92,
   "id": "e03b2305",
   "metadata": {},
   "outputs": [
    {
     "data": {
      "text/plain": [
       "['p', 'y', 'h', 'o', 'n']"
      ]
     },
     "execution_count": 92,
     "metadata": {},
     "output_type": "execute_result"
    }
   ],
   "source": [
    "n"
   ]
  },
  {
   "cell_type": "code",
   "execution_count": 91,
   "id": "abcdcddf",
   "metadata": {},
   "outputs": [],
   "source": [
    "n1 = n"
   ]
  },
  {
   "cell_type": "code",
   "execution_count": 93,
   "id": "d16c1152",
   "metadata": {},
   "outputs": [
    {
     "data": {
      "text/plain": [
       "['p', 'y', 'h', 'o', 'n']"
      ]
     },
     "execution_count": 93,
     "metadata": {},
     "output_type": "execute_result"
    }
   ],
   "source": [
    "n1"
   ]
  },
  {
   "cell_type": "code",
   "execution_count": 94,
   "id": "724aa420",
   "metadata": {},
   "outputs": [
    {
     "data": {
      "text/plain": [
       "'n'"
      ]
     },
     "execution_count": 94,
     "metadata": {},
     "output_type": "execute_result"
    }
   ],
   "source": [
    "n1.pop()"
   ]
  },
  {
   "cell_type": "code",
   "execution_count": 95,
   "id": "c019107a",
   "metadata": {},
   "outputs": [
    {
     "data": {
      "text/plain": [
       "['p', 'y', 'h', 'o']"
      ]
     },
     "execution_count": 95,
     "metadata": {},
     "output_type": "execute_result"
    }
   ],
   "source": [
    "n1"
   ]
  },
  {
   "cell_type": "code",
   "execution_count": 96,
   "id": "52d64dce",
   "metadata": {},
   "outputs": [
    {
     "data": {
      "text/plain": [
       "['p', 'y', 'h', 'o']"
      ]
     },
     "execution_count": 96,
     "metadata": {},
     "output_type": "execute_result"
    }
   ],
   "source": [
    "n"
   ]
  },
  {
   "cell_type": "code",
   "execution_count": 97,
   "id": "ae93bd20",
   "metadata": {},
   "outputs": [],
   "source": [
    "n2 = n.copy()"
   ]
  },
  {
   "cell_type": "code",
   "execution_count": 98,
   "id": "b2104d5f",
   "metadata": {},
   "outputs": [
    {
     "data": {
      "text/plain": [
       "['p', 'y', 'h', 'o']"
      ]
     },
     "execution_count": 98,
     "metadata": {},
     "output_type": "execute_result"
    }
   ],
   "source": [
    "n2"
   ]
  },
  {
   "cell_type": "code",
   "execution_count": 99,
   "id": "73e1efef",
   "metadata": {},
   "outputs": [
    {
     "data": {
      "text/plain": [
       "'o'"
      ]
     },
     "execution_count": 99,
     "metadata": {},
     "output_type": "execute_result"
    }
   ],
   "source": [
    "n2.pop()"
   ]
  },
  {
   "cell_type": "code",
   "execution_count": 100,
   "id": "9d5bf25c",
   "metadata": {},
   "outputs": [
    {
     "data": {
      "text/plain": [
       "['p', 'y', 'h']"
      ]
     },
     "execution_count": 100,
     "metadata": {},
     "output_type": "execute_result"
    }
   ],
   "source": [
    "n2"
   ]
  },
  {
   "cell_type": "code",
   "execution_count": 101,
   "id": "a839e028",
   "metadata": {},
   "outputs": [
    {
     "data": {
      "text/plain": [
       "['p', 'y', 'h', 'o']"
      ]
     },
     "execution_count": 101,
     "metadata": {},
     "output_type": "execute_result"
    }
   ],
   "source": [
    "n"
   ]
  },
  {
   "cell_type": "code",
   "execution_count": 103,
   "id": "b5982548",
   "metadata": {},
   "outputs": [
    {
     "name": "stdout",
     "output_type": "stream",
     "text": [
      "Enter any value : 6\n",
      "Enter any value : 4\n",
      "Enter any value : 5\n",
      "Enter any value : 2\n",
      "Enter any value : 3\n",
      "[6, 4, 5, 2, 3]\n"
     ]
    }
   ],
   "source": [
    "n = []\n",
    "\n",
    "for i in range(5):\n",
    "    var = int(input(\"Enter any value : \"))\n",
    "    n.append(var)\n",
    "print(n)"
   ]
  },
  {
   "cell_type": "code",
   "execution_count": null,
   "id": "c501d26a",
   "metadata": {},
   "outputs": [],
   "source": [
    "n1 = [5,8,4,15]\n",
    "n2 = [1,2,3,4]\n",
    "n3 = [11,22,33,44]\n",
    "n4 = [10,40,90,160]"
   ]
  },
  {
   "cell_type": "code",
   "execution_count": 10,
   "id": "be4dcd70",
   "metadata": {},
   "outputs": [
    {
     "name": "stdout",
     "output_type": "stream",
     "text": [
      "Sum of all the elements is  [6, 10, 7, 19]\n",
      "Product of all the elements is   [5, 16, 12, 60]\n"
     ]
    }
   ],
   "source": [
    "n1 = [5,8,4,15]\n",
    "n2 = [1,2,3,4]\n",
    "n3 = []\n",
    "n4 = []\n",
    "s = 0\n",
    "p = 0\n",
    "\n",
    "if len(n1) == len(n2):\n",
    "    for i in range(len(n1)):\n",
    "        s = n1[i] +n2[i]\n",
    "        p = n1[i] * n2[i]\n",
    "        n3.append(s)\n",
    "        n4.append(p)\n",
    "    print(\"Sum of all the elements is \",n3)\n",
    "    print(\"Product of all the elements is  \",n4)\n",
    "else:\n",
    "    print(\"Both the list should have the same num of elements\")\n",
    "    "
   ]
  },
  {
   "cell_type": "code",
   "execution_count": 3,
   "id": "664801f3",
   "metadata": {},
   "outputs": [],
   "source": [
    "# while True:\n",
    "#     print('hI')"
   ]
  },
  {
   "cell_type": "code",
   "execution_count": null,
   "id": "a276bdc6",
   "metadata": {},
   "outputs": [],
   "source": [
    "n1 = [10,10,20,30,10,40,50]\n",
    "n = 10\n",
    "present \n",
    "occurance\n",
    "position"
   ]
  },
  {
   "cell_type": "code",
   "execution_count": null,
   "id": "8ed30fce",
   "metadata": {},
   "outputs": [],
   "source": [
    "n1 = [10,10,20,30,10,40,50]"
   ]
  },
  {
   "cell_type": "code",
   "execution_count": null,
   "id": "4e0e1839",
   "metadata": {},
   "outputs": [],
   "source": [
    "sort a list"
   ]
  },
  {
   "cell_type": "code",
   "execution_count": null,
   "id": "b7467e07",
   "metadata": {},
   "outputs": [],
   "source": [
    "n1 = [10,20,30]\n",
    "n2 = [2,3,1]\n",
    "n3 = [10,10,20,20,20,30]"
   ]
  },
  {
   "cell_type": "code",
   "execution_count": 58,
   "id": "f4bd2e9d",
   "metadata": {},
   "outputs": [
    {
     "data": {
      "text/plain": [
       "78"
      ]
     },
     "execution_count": 58,
     "metadata": {},
     "output_type": "execute_result"
    }
   ],
   "source": [
    "n1 = [15,23,45,78]\n",
    "max(n1)"
   ]
  },
  {
   "cell_type": "code",
   "execution_count": 63,
   "id": "ca39d671",
   "metadata": {},
   "outputs": [
    {
     "data": {
      "text/plain": [
       "2"
      ]
     },
     "execution_count": 63,
     "metadata": {},
     "output_type": "execute_result"
    }
   ],
   "source": [
    "5//2"
   ]
  },
  {
   "cell_type": "code",
   "execution_count": 14,
   "id": "b3fa718c",
   "metadata": {},
   "outputs": [
    {
     "name": "stdout",
     "output_type": "stream",
     "text": [
      "Not Found\n"
     ]
    }
   ],
   "source": [
    "n1 = [10,10,20,30,10,40,50]\n",
    "n = 5\n",
    "cnt = 0\n",
    "pos = []\n",
    "if n not in n1:\n",
    "    print(\"Not Found\")\n",
    "\n",
    "else:\n",
    "    print(\"Number Found\")\n",
    "    for i in range(len(n1)):\n",
    "        if n1[i] == n:\n",
    "            cnt+=1\n",
    "            pos.append(i)\n",
    "            \n",
    "    print(\"Oucrance \",cnt)\n",
    "    print(\"Position at which found\",pos)"
   ]
  },
  {
   "cell_type": "code",
   "execution_count": 18,
   "id": "f4d6e0c1",
   "metadata": {},
   "outputs": [],
   "source": [
    "n1 = [15,23,11,5,45]"
   ]
  },
  {
   "cell_type": "code",
   "execution_count": 41,
   "id": "e6ffd834",
   "metadata": {},
   "outputs": [
    {
     "name": "stdout",
     "output_type": "stream",
     "text": [
      "Before [23, 15, 5, 5, 5, 5, 11, 3] 0\n",
      "Before [15, 5, 5, 5, 5, 11, 3, 23] 1\n",
      "Before [5, 5, 5, 5, 11, 3, 15, 23] 2\n",
      "Before [5, 5, 5, 5, 3, 11, 15, 23] 3\n",
      "Before [5, 5, 5, 3, 5, 11, 15, 23] 4\n",
      "Before [5, 5, 3, 5, 5, 11, 15, 23] 5\n",
      "Before [5, 3, 5, 5, 5, 11, 15, 23] 6\n",
      "Before [3, 5, 5, 5, 5, 11, 15, 23] 7\n",
      "[3, 5, 5, 5, 5, 11, 15, 23]\n"
     ]
    }
   ],
   "source": [
    "# n1 = [2,3,5,7,7,12,6,8,10,3]\n",
    "n1 = [23,15,5,5,5,5,11,3]\n",
    "\n",
    "for i in range(len(n1)):\n",
    "    print(\"Before\",n1,i)\n",
    "    for j in range(len(n1)-1):\n",
    "        if n1[j] > n1[j+1]:\n",
    "            \n",
    "            n1[j],n1[j+1] = n1[j+1],n1[j]\n",
    "#             print(\"Inside\")\n",
    "print(n1)"
   ]
  },
  {
   "cell_type": "code",
   "execution_count": 53,
   "id": "6168809d",
   "metadata": {},
   "outputs": [
    {
     "name": "stdout",
     "output_type": "stream",
     "text": [
      "20.4 µs ± 3.24 µs per loop (mean ± std. dev. of 7 runs, 100000 loops each)\n"
     ]
    }
   ],
   "source": [
    "%%timeit\n",
    "n1 = [23,15,5,5,5,5,11,3]\n",
    "\n",
    "for i in range(len(n1)):\n",
    "#     print(\"Before\",n1,i)\n",
    "    for j in range(len(n1)-1):\n",
    "        if n1[j] > n1[j+1]:\n",
    "            \n",
    "            n1[j],n1[j+1] = n1[j+1],n1[j]\n",
    "#             print(\"Inside\")\n",
    "# print(n1)"
   ]
  },
  {
   "cell_type": "code",
   "execution_count": 54,
   "id": "ea0c4ba2",
   "metadata": {},
   "outputs": [
    {
     "name": "stdout",
     "output_type": "stream",
     "text": [
      "478 ns ± 99.7 ns per loop (mean ± std. dev. of 7 runs, 1000000 loops each)\n"
     ]
    }
   ],
   "source": [
    "%%timeit\n",
    "n1 = [23,15,5,5,5,5,11,3]\n",
    "n1.sort()"
   ]
  },
  {
   "cell_type": "code",
   "execution_count": 56,
   "id": "7ee78a08",
   "metadata": {},
   "outputs": [],
   "source": [
    "# help(n1.sort())"
   ]
  },
  {
   "cell_type": "code",
   "execution_count": 57,
   "id": "85fe42ae",
   "metadata": {},
   "outputs": [],
   "source": [
    "# n1 = [23,15,5,5,5,5,11,3]\n",
    "\n",
    "# for i in n1:\n",
    "    \n",
    "#     for j in range(len(n1)-1):\n",
    "#         if i > n1[j+1]:\n",
    "#             n1[j],n1[j+1] = n1[j+1],n1[j]\n",
    "#         print(n1)"
   ]
  },
  {
   "cell_type": "code",
   "execution_count": 16,
   "id": "6f9c5816",
   "metadata": {},
   "outputs": [],
   "source": [
    "n1.sort()"
   ]
  },
  {
   "cell_type": "code",
   "execution_count": 17,
   "id": "3e9e4587",
   "metadata": {},
   "outputs": [
    {
     "data": {
      "text/plain": [
       "[5, 11, 15, 23, 45]"
      ]
     },
     "execution_count": 17,
     "metadata": {},
     "output_type": "execute_result"
    }
   ],
   "source": [
    "n1"
   ]
  },
  {
   "cell_type": "code",
   "execution_count": 68,
   "id": "faa17267",
   "metadata": {},
   "outputs": [
    {
     "name": "stdout",
     "output_type": "stream",
     "text": [
      "94\n"
     ]
    }
   ],
   "source": [
    "n1 = [15, 23, 45, 78,44,52,63,51,94,36,41]\n",
    "\n",
    "m1 = n1[0]\n",
    "for i in range(len(n1)):\n",
    "    if m1 < n1[i]:\n",
    "        m1 = n1[i]\n",
    "print(m1)\n",
    "        \n"
   ]
  },
  {
   "cell_type": "code",
   "execution_count": null,
   "id": "9e130257",
   "metadata": {},
   "outputs": [],
   "source": [
    "l1 = []\n",
    "st = []\n",
    "\n",
    "n = int(input('number of student'))\n",
    "for i in range(n):\n",
    "    st.append(input('Enter the name of student  '))\n",
    "    l1.append(int(input('Enter the marks of student  ')))\n",
    "\n",
    "\n",
    "m1 = l1[0]\n",
    "s = 0\n",
    "for i in range(len(l1)):\n",
    "    if m1 < l1[i]:\n",
    "        m1 = l1[i]\n",
    "        s = i\n",
    "        \n",
    "print('\\n',st[s],' gets the highest marks ',end='')\n",
    "print(max)"
   ]
  },
  {
   "cell_type": "code",
   "execution_count": null,
   "id": "55390079",
   "metadata": {},
   "outputs": [],
   "source": [
    "n1 = [10,15,12,36,10,12,15,16,36]\n",
    "\n",
    "find all the unique  values in a list"
   ]
  },
  {
   "cell_type": "code",
   "execution_count": 1,
   "id": "5b5d91c0",
   "metadata": {},
   "outputs": [
    {
     "name": "stdout",
     "output_type": "stream",
     "text": [
      "[10, 15, 12, 36, 16]\n"
     ]
    }
   ],
   "source": [
    "n1 = [10,15,12,36,10,12,15,16,36]\n",
    "n= []\n",
    "for i in n1:\n",
    "    if i not in n:\n",
    "        n.append(i)\n",
    "        \n",
    "        \n",
    "print(n)"
   ]
  },
  {
   "cell_type": "code",
   "execution_count": null,
   "id": "940ab581",
   "metadata": {},
   "outputs": [],
   "source": [
    "given a list of odd and even number create a list of only even"
   ]
  },
  {
   "cell_type": "code",
   "execution_count": 2,
   "id": "4803f169",
   "metadata": {},
   "outputs": [
    {
     "name": "stdout",
     "output_type": "stream",
     "text": [
      "[4, 6, 8, 10]\n"
     ]
    }
   ],
   "source": [
    "num = [4,3,1,5,6,7,8,9,10,11]\n",
    "n = []\n",
    "for i in num:\n",
    "    if i % 2==0:\n",
    "        n.append(i)\n",
    "print(n)"
   ]
  },
  {
   "cell_type": "code",
   "execution_count": 74,
   "id": "510f82dd",
   "metadata": {},
   "outputs": [],
   "source": [
    "sq = []\n",
    "for i in range(1,5):sq.append(i**2)\n"
   ]
  },
  {
   "cell_type": "code",
   "execution_count": 75,
   "id": "b9082c39",
   "metadata": {},
   "outputs": [
    {
     "data": {
      "text/plain": [
       "[1, 4, 9, 16]"
      ]
     },
     "execution_count": 75,
     "metadata": {},
     "output_type": "execute_result"
    }
   ],
   "source": [
    "sq"
   ]
  },
  {
   "cell_type": "code",
   "execution_count": 79,
   "id": "cec1ded7",
   "metadata": {},
   "outputs": [
    {
     "data": {
      "text/plain": [
       "[4, 16]"
      ]
     },
     "execution_count": 79,
     "metadata": {},
     "output_type": "execute_result"
    }
   ],
   "source": [
    "[i**2 for i in range(1,5) if i % 2==0]"
   ]
  },
  {
   "cell_type": "code",
   "execution_count": 7,
   "id": "df149853",
   "metadata": {},
   "outputs": [
    {
     "name": "stdout",
     "output_type": "stream",
     "text": [
      "Enter your name here: Naina Sharma\n",
      "Enter your gender here: F\n",
      "Enter your marital status here: N\n"
     ]
    },
    {
     "ename": "NameError",
     "evalue": "name 'gende' is not defined",
     "output_type": "error",
     "traceback": [
      "\u001b[1;31m---------------------------------------------------------------------------\u001b[0m",
      "\u001b[1;31mNameError\u001b[0m                                 Traceback (most recent call last)",
      "\u001b[1;32m<ipython-input-7-9973d535b90b>\u001b[0m in \u001b[0;36m<module>\u001b[1;34m\u001b[0m\n\u001b[0;32m      2\u001b[0m \u001b[0mgender\u001b[0m\u001b[1;33m=\u001b[0m\u001b[0minput\u001b[0m\u001b[1;33m(\u001b[0m\u001b[1;34m\"Enter your gender here: \"\u001b[0m\u001b[1;33m)\u001b[0m\u001b[1;33m\u001b[0m\u001b[1;33m\u001b[0m\u001b[0m\n\u001b[0;32m      3\u001b[0m \u001b[0mmarried\u001b[0m\u001b[1;33m=\u001b[0m\u001b[0minput\u001b[0m\u001b[1;33m(\u001b[0m\u001b[1;34m\"Enter your marital status here: \"\u001b[0m\u001b[1;33m)\u001b[0m\u001b[1;33m\u001b[0m\u001b[1;33m\u001b[0m\u001b[0m\n\u001b[1;32m----> 4\u001b[1;33m \u001b[1;32mif\u001b[0m \u001b[0mgende\u001b[0m\u001b[1;33m.\u001b[0m\u001b[0mlower\u001b[0m\u001b[1;33m(\u001b[0m\u001b[1;33m)\u001b[0m\u001b[1;33m.\u001b[0m\u001b[0mstartswith\u001b[0m\u001b[1;33m(\u001b[0m\u001b[1;34m\"m\"\u001b[0m\u001b[1;33m)\u001b[0m\u001b[1;33m:\u001b[0m\u001b[1;33m\u001b[0m\u001b[1;33m\u001b[0m\u001b[0m\n\u001b[0m\u001b[0;32m      5\u001b[0m     \u001b[1;32mif\u001b[0m \u001b[0mmarried\u001b[0m\u001b[1;33m==\u001b[0m\u001b[1;34m\"yes\"\u001b[0m \u001b[1;32mor\u001b[0m \u001b[1;34m\"y\"\u001b[0m\u001b[1;33m:\u001b[0m\u001b[1;33m\u001b[0m\u001b[1;33m\u001b[0m\u001b[0m\n\u001b[0;32m      6\u001b[0m         \u001b[0mprint\u001b[0m\u001b[1;33m(\u001b[0m\u001b[1;34m'Mr'\u001b[0m\u001b[1;33m+\u001b[0m\u001b[1;34m\" \"\u001b[0m\u001b[1;33m+\u001b[0m\u001b[0mname\u001b[0m\u001b[1;33m)\u001b[0m\u001b[1;33m\u001b[0m\u001b[1;33m\u001b[0m\u001b[0m\n",
      "\u001b[1;31mNameError\u001b[0m: name 'gende' is not defined"
     ]
    }
   ],
   "source": [
    "name=input(\"Enter your name here: \")\n",
    "gender=input(\"Enter your gender here: \")\n",
    "married=input(\"Enter your marital status here: \")\n",
    "if gender.lower().startswith(\"m\"):\n",
    "    if married==\"yes\" or \"y\":\n",
    "        print('Mr'+\" \"+name)\n",
    "        \n",
    "else:\n",
    "    if married==\"yes\" or \"y\":\n",
    "        print('Mrs'+\" \"+name)\n",
    "    else:\n",
    "        print('Miss'+\" \"+name)\n",
    "        \n"
   ]
  },
  {
   "cell_type": "code",
   "execution_count": 12,
   "id": "45bd9cbf",
   "metadata": {},
   "outputs": [
    {
     "name": "stdout",
     "output_type": "stream",
     "text": [
      "Miss Naina Sharma\n"
     ]
    }
   ],
   "source": [
    "name=\"Naina Sharma\"\n",
    "gender=\"F\"\n",
    "married=\"N\"\n",
    "if gender.lower().startswith(\"m\"):\n",
    "    if married==\"yes\" or \"y\":\n",
    "        print('Mr'+\" \"+name)        \n",
    "else:\n",
    "    if married.lower().startswith(\"y\"):\n",
    "        print('Mrs'+\" \"+name)\n",
    "    else:\n",
    "        print('Miss'+\" \"+name)"
   ]
  },
  {
   "cell_type": "code",
   "execution_count": null,
   "id": "30526851",
   "metadata": {},
   "outputs": [],
   "source": [
    "var = 3\n",
    "n = [['Name',5,6,7,\"Avg\"],]\n",
    "out = ['Name',[5,6,7,'Avg'],]"
   ]
  },
  {
   "cell_type": "code",
   "execution_count": 13,
   "id": "d897eea4",
   "metadata": {},
   "outputs": [],
   "source": [
    "n = []\n",
    "n.append([\"Name\",5,6,7,\"Avg\"])"
   ]
  },
  {
   "cell_type": "code",
   "execution_count": 15,
   "id": "1c972824",
   "metadata": {},
   "outputs": [],
   "source": [
    "n.append([\"Name1\",51,61,71,\"Avg1\"])"
   ]
  },
  {
   "cell_type": "code",
   "execution_count": 16,
   "id": "a45d1977",
   "metadata": {},
   "outputs": [
    {
     "data": {
      "text/plain": [
       "[['Name', 5, 6, 7, 'Avg'], ['Name1', 51, 61, 71, 'Avg1']]"
      ]
     },
     "execution_count": 16,
     "metadata": {},
     "output_type": "execute_result"
    }
   ],
   "source": [
    "n"
   ]
  },
  {
   "cell_type": "code",
   "execution_count": 17,
   "id": "92065e22",
   "metadata": {},
   "outputs": [],
   "source": [
    "n1 = []"
   ]
  },
  {
   "cell_type": "code",
   "execution_count": 18,
   "id": "070bbc70",
   "metadata": {},
   "outputs": [],
   "source": [
    "name = \"Naman\"\n",
    "n1.append(name)"
   ]
  },
  {
   "cell_type": "code",
   "execution_count": 19,
   "id": "5e2f5f1d",
   "metadata": {},
   "outputs": [
    {
     "data": {
      "text/plain": [
       "['Naman']"
      ]
     },
     "execution_count": 19,
     "metadata": {},
     "output_type": "execute_result"
    }
   ],
   "source": [
    "n1"
   ]
  },
  {
   "cell_type": "code",
   "execution_count": 20,
   "id": "80490af3",
   "metadata": {},
   "outputs": [],
   "source": [
    "n1.append([4,5,6,\"Avg\"])"
   ]
  },
  {
   "cell_type": "code",
   "execution_count": 21,
   "id": "80e1417d",
   "metadata": {},
   "outputs": [
    {
     "data": {
      "text/plain": [
       "['Naman', [4, 5, 6, 'Avg']]"
      ]
     },
     "execution_count": 21,
     "metadata": {},
     "output_type": "execute_result"
    }
   ],
   "source": [
    "n1"
   ]
  },
  {
   "cell_type": "markdown",
   "id": "f86ad3c9",
   "metadata": {},
   "source": [
    "# Dictionary"
   ]
  },
  {
   "cell_type": "code",
   "execution_count": 22,
   "id": "8d4ff8a1",
   "metadata": {},
   "outputs": [],
   "source": [
    "roll = [15,16,17]\n",
    "name=  [\"Ram\",\"Rajan\",\"Ravi\"]\n",
    "clas = [\"7th\",\"8th\",\"9th\"]"
   ]
  },
  {
   "cell_type": "code",
   "execution_count": 23,
   "id": "855ec203",
   "metadata": {},
   "outputs": [
    {
     "data": {
      "text/plain": [
       "15"
      ]
     },
     "execution_count": 23,
     "metadata": {},
     "output_type": "execute_result"
    }
   ],
   "source": [
    "roll[0]"
   ]
  },
  {
   "cell_type": "code",
   "execution_count": 24,
   "id": "d6064c67",
   "metadata": {},
   "outputs": [
    {
     "data": {
      "text/plain": [
       "'Ram'"
      ]
     },
     "execution_count": 24,
     "metadata": {},
     "output_type": "execute_result"
    }
   ],
   "source": [
    "name[0]"
   ]
  },
  {
   "cell_type": "code",
   "execution_count": 25,
   "id": "98813dcf",
   "metadata": {},
   "outputs": [
    {
     "data": {
      "text/plain": [
       "'7th'"
      ]
     },
     "execution_count": 25,
     "metadata": {},
     "output_type": "execute_result"
    }
   ],
   "source": [
    "clas[0]"
   ]
  },
  {
   "cell_type": "code",
   "execution_count": 26,
   "id": "226c981c",
   "metadata": {},
   "outputs": [],
   "source": [
    "info = [[15,\"Ram\",\"7th\"],[16,\"Rajan\",\"8th\"],[17,\"Ravi\",\"9th\"]]"
   ]
  },
  {
   "cell_type": "code",
   "execution_count": 32,
   "id": "6f07610a",
   "metadata": {},
   "outputs": [
    {
     "data": {
      "text/plain": [
       "'7th'"
      ]
     },
     "execution_count": 32,
     "metadata": {},
     "output_type": "execute_result"
    }
   ],
   "source": [
    "info[0][2]"
   ]
  },
  {
   "cell_type": "code",
   "execution_count": 33,
   "id": "7f881c81",
   "metadata": {},
   "outputs": [],
   "source": [
    "#empty dict\n",
    "d1 = {}"
   ]
  },
  {
   "cell_type": "code",
   "execution_count": 34,
   "id": "ecc8bd5a",
   "metadata": {},
   "outputs": [
    {
     "data": {
      "text/plain": [
       "dict"
      ]
     },
     "execution_count": 34,
     "metadata": {},
     "output_type": "execute_result"
    }
   ],
   "source": [
    "type(d1)"
   ]
  },
  {
   "cell_type": "code",
   "execution_count": 35,
   "id": "0a62b2df",
   "metadata": {},
   "outputs": [],
   "source": [
    "# dict with int as key\n",
    "d2 = {15:\"Ram\",16:'Rajan',17:'Ravi'}"
   ]
  },
  {
   "cell_type": "code",
   "execution_count": 36,
   "id": "19878ac6",
   "metadata": {},
   "outputs": [
    {
     "data": {
      "text/plain": [
       "{15: 'Ram', 16: 'Rajan', 17: 'Ravi'}"
      ]
     },
     "execution_count": 36,
     "metadata": {},
     "output_type": "execute_result"
    }
   ],
   "source": [
    "d2"
   ]
  },
  {
   "cell_type": "code",
   "execution_count": 37,
   "id": "e1f085de",
   "metadata": {},
   "outputs": [],
   "source": [
    "d3 = {\"Name\":'Raman',12:[42,41,45]}"
   ]
  },
  {
   "cell_type": "code",
   "execution_count": 38,
   "id": "8eb85231",
   "metadata": {},
   "outputs": [
    {
     "data": {
      "text/plain": [
       "{'Name': 'Raman', 12: [42, 41, 45]}"
      ]
     },
     "execution_count": 38,
     "metadata": {},
     "output_type": "execute_result"
    }
   ],
   "source": [
    "d3"
   ]
  },
  {
   "cell_type": "code",
   "execution_count": 41,
   "id": "c654bdd6",
   "metadata": {},
   "outputs": [],
   "source": [
    "# using dict\n",
    "d4 = dict({1:\"python\",2:'Mongo',3:'sql'})"
   ]
  },
  {
   "cell_type": "code",
   "execution_count": 40,
   "id": "84fa5127",
   "metadata": {},
   "outputs": [
    {
     "data": {
      "text/plain": [
       "{1: 'python', 2: 'Mongo', 3: 'sql'}"
      ]
     },
     "execution_count": 40,
     "metadata": {},
     "output_type": "execute_result"
    }
   ],
   "source": [
    "d4"
   ]
  },
  {
   "cell_type": "code",
   "execution_count": 42,
   "id": "04d368f6",
   "metadata": {},
   "outputs": [],
   "source": [
    "d5 = dict([(1,\"apple\"),(2,\"Mango\")])"
   ]
  },
  {
   "cell_type": "code",
   "execution_count": 43,
   "id": "4d1226fd",
   "metadata": {},
   "outputs": [
    {
     "data": {
      "text/plain": [
       "{1: 'apple', 2: 'Mango'}"
      ]
     },
     "execution_count": 43,
     "metadata": {},
     "output_type": "execute_result"
    }
   ],
   "source": [
    "d5"
   ]
  },
  {
   "cell_type": "code",
   "execution_count": 52,
   "id": "afbcb993",
   "metadata": {},
   "outputs": [],
   "source": [
    "d1 = {\"name\":'Raman',\"age\":24,\"class\":\"10th\"}"
   ]
  },
  {
   "cell_type": "code",
   "execution_count": 45,
   "id": "a5e6045f",
   "metadata": {},
   "outputs": [
    {
     "data": {
      "text/plain": [
       "{'name': 'Raman', 'age': 24, 'class': '10th'}"
      ]
     },
     "execution_count": 45,
     "metadata": {},
     "output_type": "execute_result"
    }
   ],
   "source": [
    "d1"
   ]
  },
  {
   "cell_type": "code",
   "execution_count": 47,
   "id": "0b7e0d57",
   "metadata": {},
   "outputs": [
    {
     "data": {
      "text/plain": [
       "24"
      ]
     },
     "execution_count": 47,
     "metadata": {},
     "output_type": "execute_result"
    }
   ],
   "source": [
    "d1['age']"
   ]
  },
  {
   "cell_type": "code",
   "execution_count": 48,
   "id": "df85e7a8",
   "metadata": {},
   "outputs": [
    {
     "ename": "KeyError",
     "evalue": "0",
     "output_type": "error",
     "traceback": [
      "\u001b[1;31m---------------------------------------------------------------------------\u001b[0m",
      "\u001b[1;31mKeyError\u001b[0m                                  Traceback (most recent call last)",
      "\u001b[1;32m<ipython-input-48-f64ff61913e8>\u001b[0m in \u001b[0;36m<module>\u001b[1;34m\u001b[0m\n\u001b[1;32m----> 1\u001b[1;33m \u001b[0md1\u001b[0m\u001b[1;33m[\u001b[0m\u001b[1;36m0\u001b[0m\u001b[1;33m]\u001b[0m\u001b[1;33m\u001b[0m\u001b[1;33m\u001b[0m\u001b[0m\n\u001b[0m",
      "\u001b[1;31mKeyError\u001b[0m: 0"
     ]
    }
   ],
   "source": [
    "d1[0]"
   ]
  },
  {
   "cell_type": "code",
   "execution_count": 50,
   "id": "ecf7cfee",
   "metadata": {},
   "outputs": [],
   "source": [
    "d1 = {0:'Value1',1:\"Value2\",2:'Value3'}"
   ]
  },
  {
   "cell_type": "code",
   "execution_count": 51,
   "id": "fdfcb537",
   "metadata": {},
   "outputs": [
    {
     "data": {
      "text/plain": [
       "'Value1'"
      ]
     },
     "execution_count": 51,
     "metadata": {},
     "output_type": "execute_result"
    }
   ],
   "source": [
    "d1[0]"
   ]
  },
  {
   "cell_type": "code",
   "execution_count": 53,
   "id": "909e1eed",
   "metadata": {},
   "outputs": [
    {
     "data": {
      "text/plain": [
       "{'name': 'Raman', 'age': 24, 'class': '10th'}"
      ]
     },
     "execution_count": 53,
     "metadata": {},
     "output_type": "execute_result"
    }
   ],
   "source": [
    "d1"
   ]
  },
  {
   "cell_type": "code",
   "execution_count": 54,
   "id": "e262e1cc",
   "metadata": {},
   "outputs": [
    {
     "data": {
      "text/plain": [
       "'Raman'"
      ]
     },
     "execution_count": 54,
     "metadata": {},
     "output_type": "execute_result"
    }
   ],
   "source": [
    "d1.get('name')"
   ]
  },
  {
   "cell_type": "code",
   "execution_count": 55,
   "id": "36b58716",
   "metadata": {},
   "outputs": [],
   "source": [
    "d1.get(\"family\")"
   ]
  },
  {
   "cell_type": "code",
   "execution_count": 56,
   "id": "938d8f90",
   "metadata": {},
   "outputs": [
    {
     "ename": "KeyError",
     "evalue": "'family'",
     "output_type": "error",
     "traceback": [
      "\u001b[1;31m---------------------------------------------------------------------------\u001b[0m",
      "\u001b[1;31mKeyError\u001b[0m                                  Traceback (most recent call last)",
      "\u001b[1;32m<ipython-input-56-21362a41282e>\u001b[0m in \u001b[0;36m<module>\u001b[1;34m\u001b[0m\n\u001b[1;32m----> 1\u001b[1;33m \u001b[0md1\u001b[0m\u001b[1;33m[\u001b[0m\u001b[1;34m'family'\u001b[0m\u001b[1;33m]\u001b[0m\u001b[1;33m\u001b[0m\u001b[1;33m\u001b[0m\u001b[0m\n\u001b[0m",
      "\u001b[1;31mKeyError\u001b[0m: 'family'"
     ]
    }
   ],
   "source": [
    "d1['family']"
   ]
  },
  {
   "cell_type": "code",
   "execution_count": 57,
   "id": "4a4a2599",
   "metadata": {},
   "outputs": [],
   "source": [
    "d1 = {\"name\":'Naman',\"Age\":26}"
   ]
  },
  {
   "cell_type": "code",
   "execution_count": 58,
   "id": "3a6f4240",
   "metadata": {},
   "outputs": [
    {
     "data": {
      "text/plain": [
       "{'name': 'Naman', 'Age': 26}"
      ]
     },
     "execution_count": 58,
     "metadata": {},
     "output_type": "execute_result"
    }
   ],
   "source": [
    "d1"
   ]
  },
  {
   "cell_type": "code",
   "execution_count": 59,
   "id": "2b2fa0d3",
   "metadata": {},
   "outputs": [],
   "source": [
    "d1['Age'] = 27"
   ]
  },
  {
   "cell_type": "code",
   "execution_count": 60,
   "id": "4a0d3e36",
   "metadata": {},
   "outputs": [
    {
     "data": {
      "text/plain": [
       "{'name': 'Naman', 'Age': 27}"
      ]
     },
     "execution_count": 60,
     "metadata": {},
     "output_type": "execute_result"
    }
   ],
   "source": [
    "d1"
   ]
  },
  {
   "cell_type": "code",
   "execution_count": 61,
   "id": "2778db1d",
   "metadata": {},
   "outputs": [],
   "source": [
    "d1['Age'] +=1"
   ]
  },
  {
   "cell_type": "code",
   "execution_count": 62,
   "id": "8ae0b7b3",
   "metadata": {},
   "outputs": [
    {
     "data": {
      "text/plain": [
       "{'name': 'Naman', 'Age': 28}"
      ]
     },
     "execution_count": 62,
     "metadata": {},
     "output_type": "execute_result"
    }
   ],
   "source": [
    "d1"
   ]
  },
  {
   "cell_type": "code",
   "execution_count": 63,
   "id": "95d60b02",
   "metadata": {},
   "outputs": [],
   "source": [
    "d1['address']= \"Ludhiana\""
   ]
  },
  {
   "cell_type": "code",
   "execution_count": 64,
   "id": "bad08abd",
   "metadata": {},
   "outputs": [
    {
     "data": {
      "text/plain": [
       "{'name': 'Naman', 'Age': 28, 'address': 'Ludhiana'}"
      ]
     },
     "execution_count": 64,
     "metadata": {},
     "output_type": "execute_result"
    }
   ],
   "source": [
    "d1"
   ]
  },
  {
   "cell_type": "code",
   "execution_count": 65,
   "id": "a82751cb",
   "metadata": {},
   "outputs": [],
   "source": [
    "sq = {1:1,2:4,3:9,4:16,5:25}"
   ]
  },
  {
   "cell_type": "code",
   "execution_count": 66,
   "id": "c6186642",
   "metadata": {},
   "outputs": [
    {
     "data": {
      "text/plain": [
       "16"
      ]
     },
     "execution_count": 66,
     "metadata": {},
     "output_type": "execute_result"
    }
   ],
   "source": [
    "sq.pop(4)"
   ]
  },
  {
   "cell_type": "code",
   "execution_count": 67,
   "id": "8858a0fa",
   "metadata": {},
   "outputs": [
    {
     "data": {
      "text/plain": [
       "{1: 1, 2: 4, 3: 9, 5: 25}"
      ]
     },
     "execution_count": 67,
     "metadata": {},
     "output_type": "execute_result"
    }
   ],
   "source": [
    "sq"
   ]
  },
  {
   "cell_type": "code",
   "execution_count": 68,
   "id": "9c610ace",
   "metadata": {},
   "outputs": [
    {
     "data": {
      "text/plain": [
       "(5, 25)"
      ]
     },
     "execution_count": 68,
     "metadata": {},
     "output_type": "execute_result"
    }
   ],
   "source": [
    "sq.popitem()"
   ]
  },
  {
   "cell_type": "code",
   "execution_count": 69,
   "id": "a88f3a5f",
   "metadata": {},
   "outputs": [
    {
     "data": {
      "text/plain": [
       "{1: 1, 2: 4, 3: 9}"
      ]
     },
     "execution_count": 69,
     "metadata": {},
     "output_type": "execute_result"
    }
   ],
   "source": [
    "sq"
   ]
  },
  {
   "cell_type": "code",
   "execution_count": 70,
   "id": "ef5dea8b",
   "metadata": {},
   "outputs": [],
   "source": [
    "sq.clear()"
   ]
  },
  {
   "cell_type": "code",
   "execution_count": 71,
   "id": "96826001",
   "metadata": {},
   "outputs": [
    {
     "data": {
      "text/plain": [
       "{}"
      ]
     },
     "execution_count": 71,
     "metadata": {},
     "output_type": "execute_result"
    }
   ],
   "source": [
    "sq"
   ]
  },
  {
   "cell_type": "code",
   "execution_count": 72,
   "id": "18277b3b",
   "metadata": {},
   "outputs": [],
   "source": [
    "del sq"
   ]
  },
  {
   "cell_type": "code",
   "execution_count": 73,
   "id": "c8074372",
   "metadata": {},
   "outputs": [
    {
     "ename": "NameError",
     "evalue": "name 'sq' is not defined",
     "output_type": "error",
     "traceback": [
      "\u001b[1;31m---------------------------------------------------------------------------\u001b[0m",
      "\u001b[1;31mNameError\u001b[0m                                 Traceback (most recent call last)",
      "\u001b[1;32m<ipython-input-73-9f22476d0cca>\u001b[0m in \u001b[0;36m<module>\u001b[1;34m\u001b[0m\n\u001b[1;32m----> 1\u001b[1;33m \u001b[0msq\u001b[0m\u001b[1;33m\u001b[0m\u001b[1;33m\u001b[0m\u001b[0m\n\u001b[0m",
      "\u001b[1;31mNameError\u001b[0m: name 'sq' is not defined"
     ]
    }
   ],
   "source": [
    "sq"
   ]
  },
  {
   "cell_type": "code",
   "execution_count": 74,
   "id": "3eadcf0e",
   "metadata": {},
   "outputs": [],
   "source": [
    "en = ['Maths',\"Science\",\"English\"]"
   ]
  },
  {
   "cell_type": "code",
   "execution_count": 75,
   "id": "609f17bc",
   "metadata": {},
   "outputs": [],
   "source": [
    "marks = {}.fromkeys(en,0)"
   ]
  },
  {
   "cell_type": "code",
   "execution_count": 76,
   "id": "aa65a10a",
   "metadata": {},
   "outputs": [
    {
     "data": {
      "text/plain": [
       "{'Maths': 0, 'Science': 0, 'English': 0}"
      ]
     },
     "execution_count": 76,
     "metadata": {},
     "output_type": "execute_result"
    }
   ],
   "source": [
    "marks"
   ]
  },
  {
   "cell_type": "code",
   "execution_count": 77,
   "id": "04664047",
   "metadata": {},
   "outputs": [],
   "source": [
    "a =\"I love programming and i want to become a software dev\""
   ]
  },
  {
   "cell_type": "code",
   "execution_count": null,
   "id": "249c66a8",
   "metadata": {},
   "outputs": [],
   "source": [
    "{'a':5,\"e\":1,\"i\":6,'o':8,\"u\":3}"
   ]
  },
  {
   "cell_type": "code",
   "execution_count": 1,
   "id": "1b6600bf",
   "metadata": {},
   "outputs": [
    {
     "name": "stdout",
     "output_type": "stream",
     "text": [
      "{'a': 2, 'e': 5, 'i': 3, 'o': 5, 'u': 3}\n"
     ]
    }
   ],
   "source": [
    "vowels = 'aeiou'\n",
    "str1 = 'Hello, have you tried our tutorial section yet?'\n",
    "str1 = str.casefold(str1)\n",
    "count = {}.fromkeys(vowels,0)\n",
    " \n",
    "\n",
    "for char in str1:\n",
    "    if char in count:\n",
    "        count[char] += 1\n",
    " \n",
    "print(count)"
   ]
  },
  {
   "cell_type": "code",
   "execution_count": 2,
   "id": "c907a286",
   "metadata": {},
   "outputs": [
    {
     "name": "stdout",
     "output_type": "stream",
     "text": [
      "hello, have you tried our tutorial section yet?\n"
     ]
    }
   ],
   "source": [
    "print(str1)"
   ]
  },
  {
   "cell_type": "code",
   "execution_count": 6,
   "id": "0d17890e",
   "metadata": {},
   "outputs": [
    {
     "name": "stdout",
     "output_type": "stream",
     "text": [
      "{'a': 5, 'e': 5, 'i': 3, 'o': 5, 'u': 0}\n"
     ]
    }
   ],
   "source": [
    "a =\"I love programming and i want to become a software dev\"\n",
    "\n",
    "d = {}.fromkeys('aeiou',0)\n",
    "for i in a.lower():\n",
    "    if i in d:\n",
    "        d[i] +=1\n",
    "print(d)"
   ]
  },
  {
   "cell_type": "code",
   "execution_count": 3,
   "id": "90cd0d78",
   "metadata": {},
   "outputs": [],
   "source": [
    "d = {'Key1':'Value1',\"Key2\":\"Value2\"}"
   ]
  },
  {
   "cell_type": "code",
   "execution_count": 5,
   "id": "edccfc02",
   "metadata": {},
   "outputs": [
    {
     "data": {
      "text/plain": [
       "False"
      ]
     },
     "execution_count": 5,
     "metadata": {},
     "output_type": "execute_result"
    }
   ],
   "source": [
    "'key1' in d"
   ]
  },
  {
   "cell_type": "code",
   "execution_count": 7,
   "id": "e84cf767",
   "metadata": {},
   "outputs": [
    {
     "name": "stdout",
     "output_type": "stream",
     "text": [
      "{1: 1, 2: 4, 3: 9, 4: 16, 5: 25}\n"
     ]
    }
   ],
   "source": [
    "sq = {}\n",
    "\n",
    "for i in range(1,6):\n",
    "    sq[i] = i**2\n",
    "print(sq)"
   ]
  },
  {
   "cell_type": "code",
   "execution_count": 8,
   "id": "5d4a2e19",
   "metadata": {},
   "outputs": [],
   "source": [
    "sq = {i:i**2 for i in range(1,6)}"
   ]
  },
  {
   "cell_type": "code",
   "execution_count": 9,
   "id": "31221273",
   "metadata": {},
   "outputs": [
    {
     "data": {
      "text/plain": [
       "{1: 1, 2: 4, 3: 9, 4: 16, 5: 25}"
      ]
     },
     "execution_count": 9,
     "metadata": {},
     "output_type": "execute_result"
    }
   ],
   "source": [
    "sq"
   ]
  },
  {
   "cell_type": "code",
   "execution_count": 12,
   "id": "f17b2a55",
   "metadata": {},
   "outputs": [],
   "source": [
    "even = {i:i*i for i in range(1,11) if i%2 !=0}"
   ]
  },
  {
   "cell_type": "code",
   "execution_count": 13,
   "id": "342f70a0",
   "metadata": {},
   "outputs": [
    {
     "data": {
      "text/plain": [
       "{1: 1, 3: 9, 5: 25, 7: 49, 9: 81}"
      ]
     },
     "execution_count": 13,
     "metadata": {},
     "output_type": "execute_result"
    }
   ],
   "source": [
    "even"
   ]
  },
  {
   "cell_type": "code",
   "execution_count": 14,
   "id": "a775a20e",
   "metadata": {},
   "outputs": [
    {
     "name": "stdout",
     "output_type": "stream",
     "text": [
      "1\n",
      "3\n",
      "5\n",
      "7\n",
      "9\n"
     ]
    }
   ],
   "source": [
    "for i in even:\n",
    "    print(i)"
   ]
  },
  {
   "cell_type": "code",
   "execution_count": 15,
   "id": "443d4fe4",
   "metadata": {},
   "outputs": [
    {
     "name": "stdout",
     "output_type": "stream",
     "text": [
      "1\n",
      "9\n",
      "25\n",
      "49\n",
      "81\n"
     ]
    }
   ],
   "source": [
    "for i in even:\n",
    "    print(even[i])"
   ]
  },
  {
   "cell_type": "code",
   "execution_count": 17,
   "id": "a7d99f24",
   "metadata": {},
   "outputs": [
    {
     "name": "stdout",
     "output_type": "stream",
     "text": [
      "1\n",
      "9\n",
      "25\n",
      "49\n",
      "81\n"
     ]
    }
   ],
   "source": [
    "for i in even.values():\n",
    "    print(i)"
   ]
  },
  {
   "cell_type": "code",
   "execution_count": 18,
   "id": "36c6c698",
   "metadata": {},
   "outputs": [
    {
     "name": "stdout",
     "output_type": "stream",
     "text": [
      "(1, 1)\n",
      "(3, 9)\n",
      "(5, 25)\n",
      "(7, 49)\n",
      "(9, 81)\n"
     ]
    }
   ],
   "source": [
    "for i in even.items():\n",
    "    print(i)"
   ]
  },
  {
   "cell_type": "code",
   "execution_count": 20,
   "id": "7a9a9a53",
   "metadata": {},
   "outputs": [
    {
     "name": "stdout",
     "output_type": "stream",
     "text": [
      "1 1\n",
      "3 9\n",
      "5 25\n",
      "7 49\n",
      "9 81\n"
     ]
    }
   ],
   "source": [
    "for i,j in even.items():\n",
    "    print(i,j)"
   ]
  },
  {
   "cell_type": "code",
   "execution_count": 21,
   "id": "f4c1362f",
   "metadata": {},
   "outputs": [
    {
     "name": "stdout",
     "output_type": "stream",
     "text": [
      "1 1\n",
      "3 9\n",
      "5 25\n",
      "7 49\n",
      "9 81\n"
     ]
    }
   ],
   "source": [
    "for i in even:\n",
    "    print(i,even[i])"
   ]
  },
  {
   "cell_type": "code",
   "execution_count": 22,
   "id": "eb65eb74",
   "metadata": {},
   "outputs": [
    {
     "data": {
      "text/plain": [
       "5"
      ]
     },
     "execution_count": 22,
     "metadata": {},
     "output_type": "execute_result"
    }
   ],
   "source": [
    "len(even)"
   ]
  },
  {
   "cell_type": "code",
   "execution_count": 23,
   "id": "f2228224",
   "metadata": {},
   "outputs": [],
   "source": [
    "d1 = {'Key1':45,\"Key2\":55,\"Key3\":65}\n",
    "d2 = {'Key1':55,\"Key2\":35,\"Key3\":45}"
   ]
  },
  {
   "cell_type": "code",
   "execution_count": null,
   "id": "0ac04d20",
   "metadata": {},
   "outputs": [],
   "source": [
    "d3 = {'Key1':a+b}\n",
    "d4 = {'Key1':a*b}"
   ]
  },
  {
   "cell_type": "code",
   "execution_count": 25,
   "id": "4f253a2c",
   "metadata": {},
   "outputs": [
    {
     "name": "stdout",
     "output_type": "stream",
     "text": [
      "{'Key1': 100, 'Key2': 90, 'Key3': 110} Addition\n",
      "{'Key1': 100, 'Key2': 90, 'Key3': 110} Product\n"
     ]
    }
   ],
   "source": [
    "d3 = {}\n",
    "d4 = {}\n",
    "d1 = {'Key1':45,\"Key2\":55,\"Key3\":65}\n",
    "d2 = {'Key1':55,\"Key2\":35,\"Key3\":45}\n",
    "s1 =  0\n",
    "p1 = 1\n",
    "for i in d1:\n",
    "    s1 = d1[i] + d2[i]\n",
    "    d3[i] = s1\n",
    "    p1 = d1[i] * d2[i]\n",
    "    d4[i] = p1\n",
    "print(d3,\"Addition\")\n",
    "print(d3,\"Product\")"
   ]
  },
  {
   "cell_type": "code",
   "execution_count": 27,
   "id": "225cc372",
   "metadata": {},
   "outputs": [],
   "source": [
    "# d1={'Key1':45,'Key2':55,'Key3':65}\n",
    "# d2={'Key1':35,'Key2':45,'Key3':55}\n",
    "# d=[\"Key1\",\"Key2\",\"Key3\"]\n",
    "# s1={}.fromkeys(d,0)\n",
    "# for i in s1:\n",
    "#      dict(d1+d2)\n",
    "# print()"
   ]
  },
  {
   "cell_type": "code",
   "execution_count": 28,
   "id": "c928fb61",
   "metadata": {},
   "outputs": [],
   "source": [
    "d1 =  {14256:{'Name':'Nandesh',\"Division\":'Data Sciene',\"Location\":'Dun',\"Project\":'Power Bi Dash FoR L1 Client'},\n",
    "      14257:{'Name':'Ravi',\"Division\":\"Web Dev\",\"Location\":'Delhi',\"Project\":'Dyanmic Web'}}"
   ]
  },
  {
   "cell_type": "code",
   "execution_count": 31,
   "id": "b043deaa",
   "metadata": {},
   "outputs": [
    {
     "data": {
      "text/plain": [
       "'Dun'"
      ]
     },
     "execution_count": 31,
     "metadata": {},
     "output_type": "execute_result"
    }
   ],
   "source": [
    "d1[14256]['Location']"
   ]
  },
  {
   "cell_type": "code",
   "execution_count": 34,
   "id": "bab124f1",
   "metadata": {},
   "outputs": [
    {
     "name": "stdout",
     "output_type": "stream",
     "text": [
      "Enter the number of Students for which you want to enter the data : 3\n",
      "Enter the roll num of Student 1 : 14\n",
      "Enter the name of roll num 14 : Ram\n",
      "Enter the roll num of Student 2 : 15\n",
      "Enter the name of roll num 15 : Sham\n",
      "Enter the roll num of Student 3 : 16\n",
      "Enter the name of roll num 16 : Ravi\n",
      "{14: 'Ram', 15: 'Sham', 16: 'Ravi'}\n"
     ]
    }
   ],
   "source": [
    "d2 = {}\n",
    "num = int(input(\"Enter the number of Students for which you want to enter the data : \"))\n",
    "for i in range(1,num+1):\n",
    "    roll = int(input(\"Enter the roll num of Student {} : \".format(i)))\n",
    "    name = input(\"Enter the name of roll num {} : \".format(roll))\n",
    "    d2[roll] = name\n",
    "    \n",
    "print(d2)"
   ]
  },
  {
   "cell_type": "code",
   "execution_count": 35,
   "id": "29b62784",
   "metadata": {},
   "outputs": [
    {
     "name": "stdout",
     "output_type": "stream",
     "text": [
      "enter no of students3\n",
      "name of the students ravi\n",
      "marks45\n",
      "name of the students rajan\n",
      "marks55\n",
      "name of the students rahul\n",
      "marks52\n",
      "dictionary is\n",
      "marks \n"
     ]
    }
   ],
   "source": [
    "n=int(input(\"enter no of students\"))\n",
    "dict ={}\n",
    "for I in range(n):\n",
    "    key=input(\"name of the students \")\n",
    "    value =int(input(\"marks\"))\n",
    "    dict[key]=value\n",
    "print(\"dictionary is\")\n",
    "print(\"marks \")"
   ]
  },
  {
   "cell_type": "code",
   "execution_count": 36,
   "id": "3c0b3394",
   "metadata": {},
   "outputs": [
    {
     "name": "stdout",
     "output_type": "stream",
     "text": [
      "Enter the number of students3\n",
      "Enter the name of studentRam\n",
      "marks in Maths45\n",
      "marks in Science56\n",
      "marks in English35\n",
      "Enter the name of studentRajan\n",
      "marks in Maths96\n",
      "marks in Science84\n",
      "marks in English74\n",
      "Enter the name of studentRavi\n",
      "marks in Maths45\n",
      "marks in Science55\n",
      "marks in English66\n",
      "Ram  avg mark is  45.333333333333336\n",
      "\n",
      "Rajan  avg mark is  84.66666666666667\n",
      "\n",
      "Ravi  avg mark is  55.333333333333336\n",
      "\n"
     ]
    },
    {
     "data": {
      "text/plain": [
       "{'Ram': {'Math': 45, 'Science': 56, 'English': 35},\n",
       " 'Rajan': {'Math': 96, 'Science': 84, 'English': 74},\n",
       " 'Ravi': {'Math': 45, 'Science': 55, 'English': 66}}"
      ]
     },
     "execution_count": 36,
     "metadata": {},
     "output_type": "execute_result"
    }
   ],
   "source": [
    "students = {}\n",
    "\n",
    "n = int(input('Enter the number of students'))\n",
    "for i in range(n):\n",
    "    name = input('Enter the name of student')\n",
    "    mMark = int(input('marks in Maths'))\n",
    "    sMark = int(input('marks in Science'))\n",
    "    eMark = int(input('marks in English'))\n",
    "    students[name] = {'Math': mMark,'Science':sMark,'English':eMark}\n",
    "   \n",
    "for j in students:\n",
    "    print(j,' avg mark is ',(students[j]['Math']+students[j]['Science']+students[j]['English'])/3)\n",
    "    print()\n",
    "  \n",
    "students"
   ]
  },
  {
   "cell_type": "code",
   "execution_count": null,
   "id": "02892275",
   "metadata": {},
   "outputs": [],
   "source": [
    "menu = {\"Piza\"}"
   ]
  },
  {
   "cell_type": "code",
   "execution_count": null,
   "id": "e912cfb6",
   "metadata": {},
   "outputs": [],
   "source": [
    "MCQ"
   ]
  },
  {
   "cell_type": "code",
   "execution_count": null,
   "id": "df5c895c",
   "metadata": {},
   "outputs": [],
   "source": [
    "stock = {'Rel':{'Open':2000,\"Close\":2100,\"High\":2150,\"Low\":1950}}"
   ]
  },
  {
   "cell_type": "code",
   "execution_count": 7,
   "id": "bf993fb0",
   "metadata": {},
   "outputs": [
    {
     "name": "stdout",
     "output_type": "stream",
     "text": [
      "Enter the number of students : 1\n",
      "Enter the roll number of students : 1 52\n",
      "Enter name of students whose roll number is 52 Naman\n",
      "Enter how many sub you want to store 2\n",
      "Enter the name of Subject 1 eng\n",
      "Enter the marks of eng 56\n",
      "Enter the name of Subject 2 sci\n",
      "Enter the marks of sci 65\n",
      "{52: {'Name': 'Naman', 'Sub': {'eng': 56, 'sci': 65}}}\n"
     ]
    }
   ],
   "source": [
    "d = {}\n",
    "std = int(input(\"Enter the number of students : \"))\n",
    "\n",
    "for i in range(1,std+1):\n",
    "    roll = int(input(\"Enter the roll number of students : {} \".format(i)))\n",
    "    name = input(\"Enter name of students whose roll number is {} \".format(roll))\n",
    "    sub = int(input(\"Enter how many sub you want to store \"))\n",
    "    d[roll] = {\"Name\":name}\n",
    "    sub_1 = {}\n",
    "    for i in range(1,sub+1):\n",
    "        s1 = input(\"Enter the name of Subject {} \".format(i))\n",
    "        m1 = int(input(\"Enter the marks of {} \".format(s1)))\n",
    "        sub_1[s1] = m1\n",
    "    d[roll][\"Sub\"] = sub_1\n",
    "    \n",
    "print(d)"
   ]
  },
  {
   "cell_type": "code",
   "execution_count": 11,
   "id": "74e58a30",
   "metadata": {},
   "outputs": [
    {
     "data": {
      "text/plain": [
       "56"
      ]
     },
     "execution_count": 11,
     "metadata": {},
     "output_type": "execute_result"
    }
   ],
   "source": [
    "d[52]['Sub']['eng']"
   ]
  },
  {
   "cell_type": "code",
   "execution_count": 14,
   "id": "7407b24f",
   "metadata": {},
   "outputs": [
    {
     "name": "stdout",
     "output_type": "stream",
     "text": [
      "Enter the number of students : 1\n",
      "Enter the roll number of students : 1 45\n",
      "Enter name of students whose roll number is 45 t\n",
      "Enter how many sub you want to store 2\n",
      "Enter the name of Subject 1 y\n",
      "Enter the marks of y 41\n",
      "Enter the name of Subject 2 z\n",
      "Enter the marks of z 56\n",
      "{45: {'t': {'y': 41, 'z': 56}}}\n"
     ]
    }
   ],
   "source": [
    "d = {}\n",
    "std = int(input(\"Enter the number of students : \"))\n",
    "\n",
    "for i in range(1,std+1):\n",
    "    roll = int(input(\"Enter the roll number of students : {} \".format(i)))\n",
    "    name = input(\"Enter name of students whose roll number is {} \".format(roll))\n",
    "    sub = int(input(\"Enter how many sub you want to store \"))\n",
    "    d[roll] = name\n",
    "    sub_1 = {}\n",
    "    for i in range(1,sub+1):\n",
    "        s1 = input(\"Enter the name of Subject {} \".format(i))\n",
    "        m1 = int(input(\"Enter the marks of {} \".format(s1)))\n",
    "        sub_1[s1] = m1\n",
    "    d[roll] = {name:sub_1}\n",
    "    \n",
    "print(d)"
   ]
  },
  {
   "cell_type": "code",
   "execution_count": 16,
   "id": "aabf5ed0",
   "metadata": {},
   "outputs": [],
   "source": [
    "d1 = {45:{'Raj':{\"Eng\":45,\"Sci\":52,\"Phy\":54}}}"
   ]
  },
  {
   "cell_type": "code",
   "execution_count": 17,
   "id": "546fda26",
   "metadata": {},
   "outputs": [
    {
     "data": {
      "text/plain": [
       "{45: {'Raj': {'Eng': 45, 'Sci': 52, 'Phy': 54}}}"
      ]
     },
     "execution_count": 17,
     "metadata": {},
     "output_type": "execute_result"
    }
   ],
   "source": [
    "d1"
   ]
  },
  {
   "cell_type": "code",
   "execution_count": null,
   "id": "7a26d16f",
   "metadata": {},
   "outputs": [],
   "source": [
    "Buy = {'relience':{'open':300,'closing price':200,'high':100,'low':150},\n",
    "    }\n",
    "Sell = {'relience':{'open':300,'closing price':200,'high':100,'low':150},}\n",
    "\n",
    "n = int(input('subject number '))\n",
    "s = int(input('student number '))\n",
    "st = {}\n",
    "\n",
    "for k in range(s):\n",
    "    name = input('name')\n",
    "    subD = {}\n",
    "    for i in range(n):\n",
    "        sub = input('Enter sub  ')\n",
    "        mark = int(input('enter mark  '))\n",
    "        subD[sub] = mark\n",
    "    st[name] = subD \n",
    "print(st)\n",
    "print(subD)"
   ]
  },
  {
   "cell_type": "code",
   "execution_count": null,
   "id": "18e6ea51",
   "metadata": {},
   "outputs": [],
   "source": [
    "stocks = {'relience':{'open':300,'closing price':200,'high':100,'low':150},}\n",
    "\n",
    "n = int(input('subject number '))\n",
    "s = int(input('student number '))\n",
    "st = {}\n",
    "\n",
    "for k in range(s):\n",
    "    name = input('name')\n",
    "    subD = {}\n",
    "    for i in range(n):\n",
    "        sub = input('Enter sub  ')\n",
    "        mark = int(input('enter mark  '))\n",
    "        subD[sub] = mark\n",
    "    st[name] = subD \n",
    "print(st)\n",
    "print(subD)"
   ]
  },
  {
   "cell_type": "code",
   "execution_count": 18,
   "id": "bd27e05d",
   "metadata": {},
   "outputs": [
    {
     "name": "stdout",
     "output_type": "stream",
     "text": [
      "Which port is known as Queen of Arabian Sea?\n",
      "1 :  Vizag port\n",
      "2 :  Paradip port\n",
      "3 :  Kochi Port\n",
      "4 :  Mumbai Port\n",
      "5 :  skip\n",
      "3\n",
      "right\n",
      "\n",
      "Which among the following peaks is known as “Five Treasures of Great Show”?\n",
      "1 :  Lhotse\n",
      "2 :  Godwin Austen\n",
      "3 :  Kanchenjunga\n",
      "4 :  Dhaulagiri\n",
      "5 :  skip\n",
      "1\n",
      "wrong\n",
      "\n",
      "“Satmala Hills” are located in which among the following states?\n",
      "1 :  Gujarat\n",
      "2 :  Uttar Pradesh\n",
      "3 :  Maharashtra\n",
      "4 :  Rajasthan\n",
      "5 :  skip\n",
      "5\n",
      "In which among the following states is located the Banihal Pass?\n",
      "1 :  Jammu & Kashmir\n",
      "2 :  Himachal Pradesh\n",
      "3 :  Uttarakhand\n",
      "4 :  Sikkim\n",
      "5 :  skip\n",
      "1\n",
      "right\n",
      "\n"
     ]
    }
   ],
   "source": [
    "mcq_qes = {'Which port is known as Queen of Arabian Sea?':[['Vizag port','Paradip port','Kochi Port','Mumbai Port'],['Kochi Port']],\n",
    "          'Which among the following peaks is known as “Five Treasures of Great Show”?':[['Lhotse','Godwin Austen','Kanchenjunga','Dhaulagiri'],['Kanchenjunga']],\n",
    "          '“Satmala Hills” are located in which among the following states?':[['Gujarat','Uttar Pradesh','Maharashtra','Rajasthan'],['Maharashtra']],\n",
    "          'In which among the following states is located the Banihal Pass?':[['Jammu & Kashmir','Himachal Pradesh','Uttarakhand','Sikkim'],['Jammu & Kashmir']]}\n",
    "\n",
    "for i in mcq_qes:\n",
    "    print(i)\n",
    "    c=0\n",
    "    for j in mcq_qes[i][0]:\n",
    "        c+=1\n",
    "        print(c,\": \",j)\n",
    "    print('5 :  skip')\n",
    "    ans = int(input())\n",
    "    if ans == 5:\n",
    "        continue\n",
    "    elif mcq_qes[i][0][ans-1] == mcq_qes[i][1][0]:\n",
    "        print('right')\n",
    "    else:\n",
    "        print('wrong')\n",
    "    print()"
   ]
  },
  {
   "cell_type": "code",
   "execution_count": 20,
   "id": "39f9e054",
   "metadata": {},
   "outputs": [
    {
     "name": "stdout",
     "output_type": "stream",
     "text": [
      "relience stock gets  170  loss\n",
      "tcs stock gets  400  profit\n",
      "wipro stock gets  0  profit\n",
      "adobe stock gets  400  profit\n"
     ]
    }
   ],
   "source": [
    "buy = {'relience':{'open':300,'closing price':200,'high':100,'low':150},\n",
    "      'tcs':{'open':100,'closing price':400,'high':500,'low':190},\n",
    "      'wipro':{'open':100,'closing price':300,'high':300,'low':50},\n",
    "      'adobe':{'open':800,'closing price':600,'high':1000,'low':350},}\n",
    "sell = {'relience':{'open':300,'closing price':130,'high':100,'low':150},\n",
    "       'tcs':{'open':100,'closing price':500,'high':500,'low':190},\n",
    "      'wipro':{'open':100,'closing price':100,'high':300,'low':50},\n",
    "      'adobe':{'open':800,'closing price':1200,'high':1000,'low':350},}\n",
    "\n",
    "for i,j in zip(buy,sell):\n",
    "    if(buy[i]['open']>sell[j]['closing price']):\n",
    "        print(i,'stock gets ',buy[i]['open']-sell[j]['closing price'],' loss')\n",
    "    else:\n",
    "        print(i,'stock gets ',sell[j]['closing price']-buy[i]['open'],' profit')"
   ]
  },
  {
   "cell_type": "code",
   "execution_count": 1,
   "id": "63b32bc7",
   "metadata": {},
   "outputs": [],
   "source": [
    "t1 = ()"
   ]
  },
  {
   "cell_type": "code",
   "execution_count": 2,
   "id": "dc84827f",
   "metadata": {},
   "outputs": [
    {
     "data": {
      "text/plain": [
       "tuple"
      ]
     },
     "execution_count": 2,
     "metadata": {},
     "output_type": "execute_result"
    }
   ],
   "source": [
    "type(t1)"
   ]
  },
  {
   "cell_type": "code",
   "execution_count": 3,
   "id": "8004b131",
   "metadata": {},
   "outputs": [],
   "source": [
    "t1 = (5,6,2)"
   ]
  },
  {
   "cell_type": "code",
   "execution_count": 4,
   "id": "0ee436f5",
   "metadata": {},
   "outputs": [
    {
     "data": {
      "text/plain": [
       "(5, 6, 2)"
      ]
     },
     "execution_count": 4,
     "metadata": {},
     "output_type": "execute_result"
    }
   ],
   "source": [
    "t1"
   ]
  },
  {
   "cell_type": "code",
   "execution_count": 5,
   "id": "0cd820d8",
   "metadata": {},
   "outputs": [],
   "source": [
    "t2 = (41,\"Hi\",3.6)"
   ]
  },
  {
   "cell_type": "code",
   "execution_count": 6,
   "id": "cd8e1f21",
   "metadata": {},
   "outputs": [
    {
     "data": {
      "text/plain": [
       "(41, 'Hi', 3.6)"
      ]
     },
     "execution_count": 6,
     "metadata": {},
     "output_type": "execute_result"
    }
   ],
   "source": [
    "t2"
   ]
  },
  {
   "cell_type": "code",
   "execution_count": 7,
   "id": "93c884fc",
   "metadata": {},
   "outputs": [],
   "source": [
    "t3 = 14,165,\"Hello\""
   ]
  },
  {
   "cell_type": "code",
   "execution_count": 8,
   "id": "c1e470dd",
   "metadata": {},
   "outputs": [
    {
     "data": {
      "text/plain": [
       "(14, 165, 'Hello')"
      ]
     },
     "execution_count": 8,
     "metadata": {},
     "output_type": "execute_result"
    }
   ],
   "source": [
    "t3"
   ]
  },
  {
   "cell_type": "code",
   "execution_count": 9,
   "id": "d87c61fd",
   "metadata": {},
   "outputs": [],
   "source": [
    "a,b,c = t3"
   ]
  },
  {
   "cell_type": "code",
   "execution_count": 10,
   "id": "76aa35be",
   "metadata": {},
   "outputs": [
    {
     "data": {
      "text/plain": [
       "14"
      ]
     },
     "execution_count": 10,
     "metadata": {},
     "output_type": "execute_result"
    }
   ],
   "source": [
    "a"
   ]
  },
  {
   "cell_type": "code",
   "execution_count": 11,
   "id": "057f83e9",
   "metadata": {},
   "outputs": [
    {
     "data": {
      "text/plain": [
       "165"
      ]
     },
     "execution_count": 11,
     "metadata": {},
     "output_type": "execute_result"
    }
   ],
   "source": [
    "b"
   ]
  },
  {
   "cell_type": "code",
   "execution_count": 12,
   "id": "a201bd46",
   "metadata": {},
   "outputs": [
    {
     "data": {
      "text/plain": [
       "'Hello'"
      ]
     },
     "execution_count": 12,
     "metadata": {},
     "output_type": "execute_result"
    }
   ],
   "source": [
    "c"
   ]
  },
  {
   "cell_type": "code",
   "execution_count": 13,
   "id": "695a072a",
   "metadata": {},
   "outputs": [],
   "source": [
    "t6 = ('p','y','t','h','o','n')"
   ]
  },
  {
   "cell_type": "code",
   "execution_count": 14,
   "id": "dd78bef1",
   "metadata": {},
   "outputs": [
    {
     "data": {
      "text/plain": [
       "'p'"
      ]
     },
     "execution_count": 14,
     "metadata": {},
     "output_type": "execute_result"
    }
   ],
   "source": [
    "t6[0]"
   ]
  },
  {
   "cell_type": "code",
   "execution_count": 15,
   "id": "9a2b1516",
   "metadata": {},
   "outputs": [
    {
     "data": {
      "text/plain": [
       "'n'"
      ]
     },
     "execution_count": 15,
     "metadata": {},
     "output_type": "execute_result"
    }
   ],
   "source": [
    "t6[-1]"
   ]
  },
  {
   "cell_type": "code",
   "execution_count": 16,
   "id": "7a11bcbe",
   "metadata": {},
   "outputs": [],
   "source": [
    "t7 = (\"mike\",[41,56,36],[1,42,56])"
   ]
  },
  {
   "cell_type": "code",
   "execution_count": 18,
   "id": "e74c6f08",
   "metadata": {},
   "outputs": [
    {
     "data": {
      "text/plain": [
       "42"
      ]
     },
     "execution_count": 18,
     "metadata": {},
     "output_type": "execute_result"
    }
   ],
   "source": [
    "t7[-1][1]"
   ]
  },
  {
   "cell_type": "code",
   "execution_count": 19,
   "id": "bd445a40",
   "metadata": {},
   "outputs": [],
   "source": [
    "t6 = ('p','y','t','h','o','n')"
   ]
  },
  {
   "cell_type": "code",
   "execution_count": 20,
   "id": "a006e978",
   "metadata": {},
   "outputs": [
    {
     "data": {
      "text/plain": [
       "('y', 't', 'h', 'o')"
      ]
     },
     "execution_count": 20,
     "metadata": {},
     "output_type": "execute_result"
    }
   ],
   "source": [
    "t6[1:5]"
   ]
  },
  {
   "cell_type": "code",
   "execution_count": 21,
   "id": "248398ef",
   "metadata": {},
   "outputs": [],
   "source": [
    "t7 = (52,65,41)"
   ]
  },
  {
   "cell_type": "code",
   "execution_count": 22,
   "id": "3f346661",
   "metadata": {},
   "outputs": [
    {
     "ename": "TypeError",
     "evalue": "'tuple' object does not support item assignment",
     "output_type": "error",
     "traceback": [
      "\u001b[1;31m---------------------------------------------------------------------------\u001b[0m",
      "\u001b[1;31mTypeError\u001b[0m                                 Traceback (most recent call last)",
      "\u001b[1;32m<ipython-input-22-9bf172869499>\u001b[0m in \u001b[0;36m<module>\u001b[1;34m\u001b[0m\n\u001b[1;32m----> 1\u001b[1;33m \u001b[0mt7\u001b[0m\u001b[1;33m[\u001b[0m\u001b[1;36m0\u001b[0m\u001b[1;33m]\u001b[0m \u001b[1;33m=\u001b[0m \u001b[1;36m100\u001b[0m\u001b[1;33m\u001b[0m\u001b[1;33m\u001b[0m\u001b[0m\n\u001b[0m",
      "\u001b[1;31mTypeError\u001b[0m: 'tuple' object does not support item assignment"
     ]
    }
   ],
   "source": [
    "t7[0] = 100"
   ]
  },
  {
   "cell_type": "code",
   "execution_count": 23,
   "id": "554cd5fd",
   "metadata": {},
   "outputs": [],
   "source": [
    "t7 = (52,65,41,[52,65])"
   ]
  },
  {
   "cell_type": "code",
   "execution_count": 24,
   "id": "7f3d43fd",
   "metadata": {},
   "outputs": [
    {
     "data": {
      "text/plain": [
       "(52, 65, 41, [52, 65])"
      ]
     },
     "execution_count": 24,
     "metadata": {},
     "output_type": "execute_result"
    }
   ],
   "source": [
    "t7"
   ]
  },
  {
   "cell_type": "code",
   "execution_count": 26,
   "id": "2d1a9829",
   "metadata": {},
   "outputs": [],
   "source": [
    "t7[-1][-1] = 75"
   ]
  },
  {
   "cell_type": "code",
   "execution_count": 27,
   "id": "af75605a",
   "metadata": {},
   "outputs": [
    {
     "data": {
      "text/plain": [
       "(52, 65, 41, [52, 75])"
      ]
     },
     "execution_count": 27,
     "metadata": {},
     "output_type": "execute_result"
    }
   ],
   "source": [
    "t7"
   ]
  },
  {
   "cell_type": "code",
   "execution_count": 29,
   "id": "846997bb",
   "metadata": {},
   "outputs": [
    {
     "ename": "TypeError",
     "evalue": "'tuple' object does not support item assignment",
     "output_type": "error",
     "traceback": [
      "\u001b[1;31m---------------------------------------------------------------------------\u001b[0m",
      "\u001b[1;31mTypeError\u001b[0m                                 Traceback (most recent call last)",
      "\u001b[1;32m<ipython-input-29-f54f558a8f57>\u001b[0m in \u001b[0;36m<module>\u001b[1;34m\u001b[0m\n\u001b[1;32m----> 1\u001b[1;33m \u001b[0mt7\u001b[0m\u001b[1;33m[\u001b[0m\u001b[1;33m-\u001b[0m\u001b[1;36m1\u001b[0m\u001b[1;33m]\u001b[0m \u001b[1;33m=\u001b[0m \u001b[1;36m55\u001b[0m\u001b[1;33m\u001b[0m\u001b[1;33m\u001b[0m\u001b[0m\n\u001b[0m",
      "\u001b[1;31mTypeError\u001b[0m: 'tuple' object does not support item assignment"
     ]
    }
   ],
   "source": [
    "t7[-1] = 55"
   ]
  },
  {
   "cell_type": "code",
   "execution_count": 30,
   "id": "5fafe6d8",
   "metadata": {},
   "outputs": [],
   "source": [
    "a1 = (55,52,56)"
   ]
  },
  {
   "cell_type": "code",
   "execution_count": 31,
   "id": "0603b34c",
   "metadata": {},
   "outputs": [
    {
     "data": {
      "text/plain": [
       "(55, 52, 56, 55, 52, 56)"
      ]
     },
     "execution_count": 31,
     "metadata": {},
     "output_type": "execute_result"
    }
   ],
   "source": [
    "a1+ a1"
   ]
  },
  {
   "cell_type": "code",
   "execution_count": 32,
   "id": "30bb22ed",
   "metadata": {},
   "outputs": [
    {
     "data": {
      "text/plain": [
       "(55, 52, 56, 55, 52, 56, 55, 52, 56)"
      ]
     },
     "execution_count": 32,
     "metadata": {},
     "output_type": "execute_result"
    }
   ],
   "source": [
    "a1 *3"
   ]
  },
  {
   "cell_type": "code",
   "execution_count": 33,
   "id": "5569cd8f",
   "metadata": {},
   "outputs": [
    {
     "data": {
      "text/plain": [
       "(55, 52, 56)"
      ]
     },
     "execution_count": 33,
     "metadata": {},
     "output_type": "execute_result"
    }
   ],
   "source": [
    "a1"
   ]
  },
  {
   "cell_type": "code",
   "execution_count": 34,
   "id": "ccefcb23",
   "metadata": {},
   "outputs": [
    {
     "ename": "TypeError",
     "evalue": "'tuple' object doesn't support item deletion",
     "output_type": "error",
     "traceback": [
      "\u001b[1;31m---------------------------------------------------------------------------\u001b[0m",
      "\u001b[1;31mTypeError\u001b[0m                                 Traceback (most recent call last)",
      "\u001b[1;32m<ipython-input-34-d78de11b93e5>\u001b[0m in \u001b[0;36m<module>\u001b[1;34m\u001b[0m\n\u001b[1;32m----> 1\u001b[1;33m \u001b[1;32mdel\u001b[0m \u001b[0ma1\u001b[0m\u001b[1;33m[\u001b[0m\u001b[1;36m1\u001b[0m\u001b[1;33m]\u001b[0m\u001b[1;33m\u001b[0m\u001b[1;33m\u001b[0m\u001b[0m\n\u001b[0m",
      "\u001b[1;31mTypeError\u001b[0m: 'tuple' object doesn't support item deletion"
     ]
    }
   ],
   "source": [
    "del a1[1]"
   ]
  },
  {
   "cell_type": "code",
   "execution_count": 35,
   "id": "c3110384",
   "metadata": {},
   "outputs": [],
   "source": [
    "del a1"
   ]
  },
  {
   "cell_type": "code",
   "execution_count": 36,
   "id": "71d78c2c",
   "metadata": {},
   "outputs": [
    {
     "ename": "NameError",
     "evalue": "name 'a1' is not defined",
     "output_type": "error",
     "traceback": [
      "\u001b[1;31m---------------------------------------------------------------------------\u001b[0m",
      "\u001b[1;31mNameError\u001b[0m                                 Traceback (most recent call last)",
      "\u001b[1;32m<ipython-input-36-e6d9715dfa5f>\u001b[0m in \u001b[0;36m<module>\u001b[1;34m\u001b[0m\n\u001b[1;32m----> 1\u001b[1;33m \u001b[0ma1\u001b[0m\u001b[1;33m\u001b[0m\u001b[1;33m\u001b[0m\u001b[0m\n\u001b[0m",
      "\u001b[1;31mNameError\u001b[0m: name 'a1' is not defined"
     ]
    }
   ],
   "source": [
    "a1"
   ]
  },
  {
   "cell_type": "code",
   "execution_count": 37,
   "id": "99b7eb6f",
   "metadata": {},
   "outputs": [],
   "source": [
    "t6 = ('p','y','t','h','o','n')"
   ]
  },
  {
   "cell_type": "code",
   "execution_count": 38,
   "id": "5582a189",
   "metadata": {},
   "outputs": [
    {
     "data": {
      "text/plain": [
       "1"
      ]
     },
     "execution_count": 38,
     "metadata": {},
     "output_type": "execute_result"
    }
   ],
   "source": [
    "t6.count('p')"
   ]
  },
  {
   "cell_type": "code",
   "execution_count": 39,
   "id": "aba1aa3d",
   "metadata": {},
   "outputs": [
    {
     "data": {
      "text/plain": [
       "0"
      ]
     },
     "execution_count": 39,
     "metadata": {},
     "output_type": "execute_result"
    }
   ],
   "source": [
    "t6.index('p')"
   ]
  },
  {
   "cell_type": "code",
   "execution_count": 40,
   "id": "6a388fe5",
   "metadata": {},
   "outputs": [
    {
     "data": {
      "text/plain": [
       "False"
      ]
     },
     "execution_count": 40,
     "metadata": {},
     "output_type": "execute_result"
    }
   ],
   "source": [
    "\"a\" in t6"
   ]
  },
  {
   "cell_type": "code",
   "execution_count": 41,
   "id": "8207fe9f",
   "metadata": {},
   "outputs": [
    {
     "data": {
      "text/plain": [
       "True"
      ]
     },
     "execution_count": 41,
     "metadata": {},
     "output_type": "execute_result"
    }
   ],
   "source": [
    "\"y\" in t6"
   ]
  },
  {
   "cell_type": "code",
   "execution_count": 42,
   "id": "b4f599dd",
   "metadata": {},
   "outputs": [
    {
     "data": {
      "text/plain": [
       "True"
      ]
     },
     "execution_count": 42,
     "metadata": {},
     "output_type": "execute_result"
    }
   ],
   "source": [
    "\"z\" not in t6"
   ]
  },
  {
   "cell_type": "code",
   "execution_count": 43,
   "id": "714f4b42",
   "metadata": {},
   "outputs": [
    {
     "name": "stdout",
     "output_type": "stream",
     "text": [
      "Hello Raman\n",
      "Hello Rajan\n"
     ]
    }
   ],
   "source": [
    "names= (\"Raman\",\"Rajan\")\n",
    "\n",
    "for name in names:\n",
    "    print(\"Hello\",name)"
   ]
  },
  {
   "cell_type": "code",
   "execution_count": 45,
   "id": "29a32f39",
   "metadata": {},
   "outputs": [],
   "source": [
    "# t1=(1,2,3)\n",
    "# t2=(6,7,8)\n",
    "# x=t1+t2\n",
    "# print(x)\n"
   ]
  },
  {
   "cell_type": "code",
   "execution_count": 46,
   "id": "ae778345",
   "metadata": {},
   "outputs": [
    {
     "data": {
      "text/plain": [
       "tuple"
      ]
     },
     "execution_count": 46,
     "metadata": {},
     "output_type": "execute_result"
    }
   ],
   "source": [
    "t1 = 1,2,3,4,5\n",
    "t2 = 1,2,3,4,5\n",
    "t3=[]\n",
    "for i in range(5):\n",
    "    \n",
    "    t3.append( t1[i]+t2[i])\n",
    "t4 = tuple(t3)\n",
    "type(t4)"
   ]
  },
  {
   "cell_type": "code",
   "execution_count": 50,
   "id": "ba24e569",
   "metadata": {},
   "outputs": [],
   "source": [
    "t1 = (55,)"
   ]
  },
  {
   "cell_type": "code",
   "execution_count": 51,
   "id": "c1e8fb16",
   "metadata": {},
   "outputs": [
    {
     "data": {
      "text/plain": [
       "tuple"
      ]
     },
     "execution_count": 51,
     "metadata": {},
     "output_type": "execute_result"
    }
   ],
   "source": [
    "type(t1)"
   ]
  },
  {
   "cell_type": "code",
   "execution_count": 47,
   "id": "77e618b9",
   "metadata": {},
   "outputs": [
    {
     "data": {
      "text/plain": [
       "(2, 4, 6, 8, 10)"
      ]
     },
     "execution_count": 47,
     "metadata": {},
     "output_type": "execute_result"
    }
   ],
   "source": [
    "t4"
   ]
  },
  {
   "cell_type": "code",
   "execution_count": null,
   "id": "6542022a",
   "metadata": {},
   "outputs": [],
   "source": [
    "d1 = {'email':'nandesh4152@gmail.com'}\n",
    "l1 = ['nandesh4152@gmail.com']\n",
    "s1 = 'nandesh4152@gmail.com'\n",
    "t1 = ('nandesh4152@gmail.com',)"
   ]
  },
  {
   "cell_type": "code",
   "execution_count": 1,
   "id": "a25fb07c",
   "metadata": {},
   "outputs": [
    {
     "data": {
      "text/plain": [
       "'C:\\\\Users\\\\UROOJ\\\\python folder'"
      ]
     },
     "execution_count": 1,
     "metadata": {},
     "output_type": "execute_result"
    }
   ],
   "source": [
    "pwd"
   ]
  },
  {
   "cell_type": "code",
   "execution_count": null,
   "id": "e49ed16d",
   "metadata": {},
   "outputs": [],
   "source": []
  }
 ],
 "metadata": {
  "kernelspec": {
   "display_name": "Python 3",
   "language": "python",
   "name": "python3"
  },
  "language_info": {
   "codemirror_mode": {
    "name": "ipython",
    "version": 3
   },
   "file_extension": ".py",
   "mimetype": "text/x-python",
   "name": "python",
   "nbconvert_exporter": "python",
   "pygments_lexer": "ipython3",
   "version": "3.9.5"
  }
 },
 "nbformat": 4,
 "nbformat_minor": 5
}
